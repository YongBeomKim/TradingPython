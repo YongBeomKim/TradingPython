{
 "cells": [
  {
   "cell_type": "markdown",
   "metadata": {},
   "source": [
    "# **Used Book Crawler**\n",
    "중고책 검색 서비스 만들기 & 자막변환기\n",
    "\n",
    "1번 수집한 뒤, 결과값 내용들 정리\n",
    "- 추가 페이지 수집 필요가 있으면 결과값 수집 모듈 한번 더 실행\n",
    "- 크롤링 모듈, 크롤링 결과 수집 모듈, 카운트 모듈 나눠서 작업하기"
   ]
  },
  {
   "cell_type": "code",
   "execution_count": 7,
   "metadata": {},
   "outputs": [
    {
     "data": {
      "text/plain": [
       "91.104"
      ]
     },
     "execution_count": 7,
     "metadata": {},
     "output_type": "execute_result"
    }
   ],
   "source": [
    "0.0104 * 24 * 365"
   ]
  },
  {
   "cell_type": "markdown",
   "metadata": {},
   "source": [
    "## **2 Running The Functions**\n",
    "함수들을 활용한 실행"
   ]
  },
  {
   "cell_type": "code",
   "execution_count": 5,
   "metadata": {},
   "outputs": [
    {
     "name": "stderr",
     "output_type": "stream",
     "text": [
      "  0%|          | 0/2 [00:00<?, ?it/s]"
     ]
    },
    {
     "name": "stdout",
     "output_type": "stream",
     "text": [
      "중고매장(68)\n",
      "Crawling : 3 pages\n"
     ]
    },
    {
     "name": "stderr",
     "output_type": "stream",
     "text": [
      "100%|██████████| 2/2 [00:03<00:00,  1.59s/it]"
     ]
    },
    {
     "name": "stdout",
     "output_type": "stream",
     "text": [
      "78\n"
     ]
    },
    {
     "name": "stderr",
     "output_type": "stream",
     "text": [
      "\n"
     ]
    },
    {
     "data": {
      "text/html": [
       "<div>\n",
       "<style scoped>\n",
       "    .dataframe tbody tr th:only-of-type {\n",
       "        vertical-align: middle;\n",
       "    }\n",
       "\n",
       "    .dataframe tbody tr th {\n",
       "        vertical-align: top;\n",
       "    }\n",
       "\n",
       "    .dataframe thead th {\n",
       "        text-align: right;\n",
       "    }\n",
       "</style>\n",
       "<table border=\"1\" class=\"dataframe\">\n",
       "  <thead>\n",
       "    <tr style=\"text-align: right;\">\n",
       "      <th></th>\n",
       "      <th>titles</th>\n",
       "      <th>info</th>\n",
       "      <th>market</th>\n",
       "    </tr>\n",
       "  </thead>\n",
       "  <tbody>\n",
       "    <tr>\n",
       "      <th>0</th>\n",
       "      <td>{'title': 'Do it! HTML5 + CSS3 웹 표준의 정석 - Do i...</td>\n",
       "      <td>{'publish_date': '2019년 12월', 'publish': '이지스퍼...</td>\n",
       "      <td>{'대학로점(알라딘)': 'https://www.aladin.co.kr/m/off/...</td>\n",
       "    </tr>\n",
       "    <tr>\n",
       "      <th>1</th>\n",
       "      <td>{'title': 'HTML + CSS 코딩의 모든 것 - 코딩 첫걸음 시리즈 7'...</td>\n",
       "      <td>{'publish_date': '2018년 07월', 'publish': '교학사'}</td>\n",
       "      <td>{'분당야탑점(알라딘)': 'https://www.aladin.co.kr/m/off...</td>\n",
       "    </tr>\n",
       "    <tr>\n",
       "      <th>2</th>\n",
       "      <td>{'title': '새로운 CSS 레이아웃 - 아름다운 웹사이트 만들기 시리즈 24...</td>\n",
       "      <td>{'publish_date': '2018년 05월', 'publish': '웹액츄얼...</td>\n",
       "      <td>{'부천점(알라딘)': 'https://www.aladin.co.kr/m/off/m...</td>\n",
       "    </tr>\n",
       "    <tr>\n",
       "      <th>3</th>\n",
       "      <td>{'title': 'HTML5 &amp; CSS3 웹 표준 디자인 강좌', 'img_url...</td>\n",
       "      <td>{'publish_date': '2017년 03월', 'publish': '영진.c...</td>\n",
       "      <td>{'인천계산홈플러스점(알라딘)': 'https://www.aladin.co.kr/m...</td>\n",
       "    </tr>\n",
       "    <tr>\n",
       "      <th>4</th>\n",
       "      <td>{'title': 'Do it! HTML5 + CSS3 웹 표준의 정석 - Do i...</td>\n",
       "      <td>{'publish_date': '2017년 01월', 'publish': '이지스퍼...</td>\n",
       "      <td>{'강서홈플러스점(알라딘)': 'https://www.aladin.co.kr/m/o...</td>\n",
       "    </tr>\n",
       "    <tr>\n",
       "      <th>...</th>\n",
       "      <td>...</td>\n",
       "      <td>...</td>\n",
       "      <td>...</td>\n",
       "    </tr>\n",
       "    <tr>\n",
       "      <th>68</th>\n",
       "      <td>{'title': 'HTML + CSS 필살기 - 필살기 컴퓨터 시리즈 9', 'i...</td>\n",
       "      <td>{'publish_date': '2006년 08월', 'publish': 'NEWR...</td>\n",
       "      <td>{'분당서현점(알라딘)': 'https://www.aladin.co.kr/m/off...</td>\n",
       "    </tr>\n",
       "    <tr>\n",
       "      <th>69</th>\n",
       "      <td>{'title': 'Head First HTML with CSS &amp; XHTML - ...</td>\n",
       "      <td>{'publish_date': '2006년 05월', 'publish': '한빛미디어'}</td>\n",
       "      <td>{'동탄점(알라딘)': 'https://www.aladin.co.kr/m/off/m...</td>\n",
       "    </tr>\n",
       "    <tr>\n",
       "      <th>70</th>\n",
       "      <td>{'title': '실용예제로 배우는 웹 표준 - 에이콘 웹 프로페셔널', 'img...</td>\n",
       "      <td>{'publish_date': '2005년 08월', 'publish': '에이콘출판'}</td>\n",
       "      <td>{'합정점(알라딘)': 'https://www.aladin.co.kr/m/off/m...</td>\n",
       "    </tr>\n",
       "    <tr>\n",
       "      <th>71</th>\n",
       "      <td>{'title': '테마가 있는 HTML CSS 무작정 따라하기 - 무작정 따라하기...</td>\n",
       "      <td>{'publish_date': '2003년 12월', 'publish': '길벗'}</td>\n",
       "      <td>{'종로점(알라딘)': 'https://www.aladin.co.kr/m/off/m...</td>\n",
       "    </tr>\n",
       "    <tr>\n",
       "      <th>72</th>\n",
       "      <td>{'title': '최신 StyleSheets 사전', 'img_url': 'htt...</td>\n",
       "      <td>{'publish_date': '2003년 05월', 'publish': '성안당'}</td>\n",
       "      <td>{'이수역점(알라딘)': 'https://www.aladin.co.kr/m/off/...</td>\n",
       "    </tr>\n",
       "  </tbody>\n",
       "</table>\n",
       "<p>73 rows × 3 columns</p>\n",
       "</div>"
      ],
      "text/plain": [
       "                                               titles  \\\n",
       "0   {'title': 'Do it! HTML5 + CSS3 웹 표준의 정석 - Do i...   \n",
       "1   {'title': 'HTML + CSS 코딩의 모든 것 - 코딩 첫걸음 시리즈 7'...   \n",
       "2   {'title': '새로운 CSS 레이아웃 - 아름다운 웹사이트 만들기 시리즈 24...   \n",
       "3   {'title': 'HTML5 & CSS3 웹 표준 디자인 강좌', 'img_url...   \n",
       "4   {'title': 'Do it! HTML5 + CSS3 웹 표준의 정석 - Do i...   \n",
       "..                                                ...   \n",
       "68  {'title': 'HTML + CSS 필살기 - 필살기 컴퓨터 시리즈 9', 'i...   \n",
       "69  {'title': 'Head First HTML with CSS & XHTML - ...   \n",
       "70  {'title': '실용예제로 배우는 웹 표준 - 에이콘 웹 프로페셔널', 'img...   \n",
       "71  {'title': '테마가 있는 HTML CSS 무작정 따라하기 - 무작정 따라하기...   \n",
       "72  {'title': '최신 StyleSheets 사전', 'img_url': 'htt...   \n",
       "\n",
       "                                                 info  \\\n",
       "0   {'publish_date': '2019년 12월', 'publish': '이지스퍼...   \n",
       "1     {'publish_date': '2018년 07월', 'publish': '교학사'}   \n",
       "2   {'publish_date': '2018년 05월', 'publish': '웹액츄얼...   \n",
       "3   {'publish_date': '2017년 03월', 'publish': '영진.c...   \n",
       "4   {'publish_date': '2017년 01월', 'publish': '이지스퍼...   \n",
       "..                                                ...   \n",
       "68  {'publish_date': '2006년 08월', 'publish': 'NEWR...   \n",
       "69  {'publish_date': '2006년 05월', 'publish': '한빛미디어'}   \n",
       "70  {'publish_date': '2005년 08월', 'publish': '에이콘출판'}   \n",
       "71     {'publish_date': '2003년 12월', 'publish': '길벗'}   \n",
       "72    {'publish_date': '2003년 05월', 'publish': '성안당'}   \n",
       "\n",
       "                                               market  \n",
       "0   {'대학로점(알라딘)': 'https://www.aladin.co.kr/m/off/...  \n",
       "1   {'분당야탑점(알라딘)': 'https://www.aladin.co.kr/m/off...  \n",
       "2   {'부천점(알라딘)': 'https://www.aladin.co.kr/m/off/m...  \n",
       "3   {'인천계산홈플러스점(알라딘)': 'https://www.aladin.co.kr/m...  \n",
       "4   {'강서홈플러스점(알라딘)': 'https://www.aladin.co.kr/m/o...  \n",
       "..                                                ...  \n",
       "68  {'분당서현점(알라딘)': 'https://www.aladin.co.kr/m/off...  \n",
       "69  {'동탄점(알라딘)': 'https://www.aladin.co.kr/m/off/m...  \n",
       "70  {'합정점(알라딘)': 'https://www.aladin.co.kr/m/off/m...  \n",
       "71  {'종로점(알라딘)': 'https://www.aladin.co.kr/m/off/m...  \n",
       "72  {'이수역점(알라딘)': 'https://www.aladin.co.kr/m/off/...  \n",
       "\n",
       "[73 rows x 3 columns]"
      ]
     },
     "execution_count": 5,
     "metadata": {},
     "output_type": "execute_result"
    }
   ],
   "source": [
    "# token_search = 'pytorch'\n",
    "# token_search = '파이토치'\n",
    "# token_search = '파이썬 알고리즘'\n",
    "# token_search = 'SASS'\n",
    "# token_search = '데이터 과학'\n",
    "# token_search = '자연어'\n",
    "token_search = 'CSS'\n",
    "# token_search = 'django'\n",
    "# token_search = '자바스크립트'\n",
    "# token_search = '주가 급등'\n",
    "# token_search = '기업가치'\n",
    "# token_search = '문앞의 야만인들'\n",
    "# token_search = '주식시장'\n",
    "# token_search = 'Shoe Dog'\n",
    "# token_search = 'normal people'\n",
    "# token_search = 'redis'\n",
    "# token_search = 'CFO'\n",
    "# token_search = 'SASS'\n",
    "# token_search = '아인슈타인이 괴델'\n",
    "# token_search = '리팩토링'\n",
    "# token_search = 'Ian Kerner'\n",
    "# token_search = 'vue.js'\n",
    "# token_search = '타입스크립트'\n",
    "# token_search = '금융공학'\n",
    "# token_search = '추세 추종'\n",
    "# token_search = '켄트 벡'\n",
    "# token_search = 'postgresql'\n",
    "# token_search = '펠릭스 데니스'\n",
    "# token_search = '리액트'\n",
    "# token_search = '클린코드'\n",
    "# token_search = 'first thing first'\n",
    "# token_search = 'Write It Down Make It Happen'\n",
    "# token_search = 'Harward Choi'# 투자지도'\n",
    "# token_search = '마이클 모부신'\n",
    "# token_search = 'CSS'\n",
    "df_result = result_merge(token_search)\n",
    "df_result = result_filter_area(df_result)\n",
    "df_result = extracting_data(df_result)\n",
    "df_result"
   ]
  },
  {
   "cell_type": "code",
   "execution_count": 14,
   "metadata": {},
   "outputs": [
    {
     "data": {
      "text/plain": [
       "{'강서NC(yes24)': '최저 10,920원 : [H09-1] 1권'}"
      ]
     },
     "execution_count": 14,
     "metadata": {},
     "output_type": "execute_result"
    }
   ],
   "source": [
    "# df_result.to_json(force_ascii=False)\n",
    "df_result.loc[0,:]['market']\n",
    "# df_result"
   ]
  },
  {
   "cell_type": "markdown",
   "metadata": {},
   "source": [
    "## **1 Crawling Functions**\n",
    "aladin 과 yes24 결과값 출력 요약버젼"
   ]
  },
  {
   "cell_type": "code",
   "execution_count": 1,
   "metadata": {},
   "outputs": [],
   "source": [
    "# Pre Processing (날짜별 정렬)\n",
    "import re\n",
    "import pandas as pd\n",
    "from data.usedbook import yes24, aladin\n",
    "# Crawling the Book Site\n",
    "def result_merge(token_search):\n",
    "    result = []\n",
    "    result +=  yes24().get_items(token_search)\n",
    "    result += aladin().get_items(token_search)\n",
    "    if len(result) == 0:\n",
    "        print(\"검색결과가 없습니다\")\n",
    "    else:\n",
    "        result_table = pd.DataFrame(result)\n",
    "        result_table.publish_date = [\"\".join(re.findall(r'[\\d]+년 [\\d]+월', _)) for _ in result_table.publish_date]\n",
    "        result_table = result_table.sort_values([\"publish_date\", \"title\"], ascending=False).reset_index(drop=True)\n",
    "        print(len(set(result_table.title))) #, \"//\".join(list(set(result_table.title))))\n",
    "        return result_table"
   ]
  },
  {
   "cell_type": "code",
   "execution_count": 2,
   "metadata": {},
   "outputs": [],
   "source": [
    "# 실질적 접근 불가능한 지방지역 필터링\n",
    "def result_filter_area(result_table):\n",
    "    index_valid   = []\n",
    "    text_area_sub = [\"광주\" ,\"김해\", \"대구\", \"대전\",\"부산\", \"울산\", \"전주\", \"천안\", \"청주\"]\n",
    "\n",
    "    # 지역 데이터 필터링 함수\n",
    "    def filter_area_info(area_name):\n",
    "        filtering = [_ for _ in text_area_sub if area_name.find(_) != -1]\n",
    "        if len(filtering) != 1: \n",
    "            return area_name\n",
    "\n",
    "    for _ in range(len(result_table)):\n",
    "        dataframe_temp = result_table.loc[_]\n",
    "        area_name = dataframe_temp['area']\n",
    "        if filter_area_info(area_name):\n",
    "            index_valid.append(dataframe_temp.name)\n",
    "\n",
    "    return result_table.iloc[index_valid, :].reset_index(drop=True)"
   ]
  },
  {
   "cell_type": "code",
   "execution_count": 3,
   "metadata": {},
   "outputs": [],
   "source": [
    "# 중복 검사를 위한 색인용 제목컬럼 만들기\n",
    "def extracting_data(result_table):\n",
    "    result = []\n",
    "    titles_filtered = []\n",
    "    result_table.insert(0, 'title_search_name', \n",
    "        result_table['title'] + \" \" + result_table['publish_date'] + \" \" + result_table['publish'])\n",
    "\n",
    "    # 색인용 제목컬럼서 유효값 추출 (정렬 유지)\n",
    "    for _ in result_table['title_search_name']:\n",
    "        if _ not in titles_filtered:\n",
    "            titles_filtered.append(_)\n",
    "\n",
    "    for title_name in titles_filtered:\n",
    "        table_temp = result_table[result_table['title_search_name']==title_name].reset_index(drop=True)\n",
    "        # Merging Json DataSet : title, book_info, search_data_info\n",
    "        book_title = {\n",
    "            \"title\":{\n",
    "                \"title\":table_temp.title[0],\n",
    "                \"img_url\":table_temp.image[0]\n",
    "            }\n",
    "        }\n",
    "        book_info  = {\n",
    "            'book_info':{\n",
    "                'publish_date': table_temp.publish_date[0],\n",
    "                'publish':table_temp.publish[0],\n",
    "            }\n",
    "        }\n",
    "        result_dict = {} # market search result to Json\n",
    "        for _ in range(len(table_temp)):\n",
    "            table_area = table_temp.iloc[_,5:]\n",
    "            area_name  = table_area['area']\n",
    "            market     = table_area['market']\n",
    "            if table_area['area_price'] != table_area['area_info']:\n",
    "                info = table_area['area_price'] + \" : \" + table_area['area_info']\n",
    "            else:\n",
    "                info = table_area['area_info']\n",
    "            result_dict.update({ \n",
    "                f'{area_name}({market})': info\n",
    "            })\n",
    "\n",
    "        result_dict = {'search': result_dict}\n",
    "        result.append([book_title['title'], book_info['book_info'], result_dict['search']])\n",
    "\n",
    "    result = pd.DataFrame(result)\n",
    "    result.columns = ['titles', 'info', 'market']\n",
    "    return result # result.to_json(force_ascii=False)"
   ]
  },
  {
   "cell_type": "markdown",
   "metadata": {},
   "source": [
    "<br />\n",
    "\n",
    "# **2 Crawling The Book List**\n",
    "aladin 과 yes24 결과값 출력"
   ]
  },
  {
   "cell_type": "code",
   "execution_count": 4,
   "metadata": {},
   "outputs": [
    {
     "ename": "ModuleNotFoundError",
     "evalue": "No module named 'torch'",
     "output_type": "error",
     "traceback": [
      "\u001b[0;31m---------------------------------------------------------------------------\u001b[0m",
      "\u001b[0;31mModuleNotFoundError\u001b[0m                       Traceback (most recent call last)",
      "\u001b[0;32m<ipython-input-4-d9076f48ea10>\u001b[0m in \u001b[0;36m<module>\u001b[0;34m\u001b[0m\n\u001b[1;32m      1\u001b[0m \u001b[0;31m# PyTorch 의 CUDA 지원여부 확인\u001b[0m\u001b[0;34m\u001b[0m\u001b[0;34m\u001b[0m\u001b[0;34m\u001b[0m\u001b[0m\n\u001b[0;32m----> 2\u001b[0;31m \u001b[0;32mimport\u001b[0m \u001b[0mtorch\u001b[0m\u001b[0;34m\u001b[0m\u001b[0;34m\u001b[0m\u001b[0m\n\u001b[0m\u001b[1;32m      3\u001b[0m \u001b[0mUSE_CUDA\u001b[0m \u001b[0;34m=\u001b[0m \u001b[0mtorch\u001b[0m\u001b[0;34m.\u001b[0m\u001b[0mcuda\u001b[0m\u001b[0;34m.\u001b[0m\u001b[0mis_available\u001b[0m\u001b[0;34m(\u001b[0m\u001b[0;34m)\u001b[0m\u001b[0;34m\u001b[0m\u001b[0;34m\u001b[0m\u001b[0m\n\u001b[1;32m      4\u001b[0m \u001b[0mDEVICE\u001b[0m \u001b[0;34m=\u001b[0m \u001b[0mtorch\u001b[0m\u001b[0;34m.\u001b[0m\u001b[0mdevice\u001b[0m\u001b[0;34m(\u001b[0m\u001b[0;34m\"cuda\"\u001b[0m  \u001b[0;32mif\u001b[0m \u001b[0mUSE_CUDA\u001b[0m \u001b[0;32melse\u001b[0m \u001b[0;34m\"CPU\"\u001b[0m\u001b[0;34m)\u001b[0m\u001b[0;34m\u001b[0m\u001b[0;34m\u001b[0m\u001b[0m\n\u001b[1;32m      5\u001b[0m \u001b[0mDEVICE\u001b[0m\u001b[0;34m\u001b[0m\u001b[0;34m\u001b[0m\u001b[0m\n",
      "\u001b[0;31mModuleNotFoundError\u001b[0m: No module named 'torch'"
     ]
    }
   ],
   "source": [
    "# PyTorch 의 CUDA 지원여부 확인\n",
    "import torch\n",
    "USE_CUDA = torch.cuda.is_available()\n",
    "DEVICE = torch.device(\"cuda\"  if USE_CUDA else \"CPU\")\n",
    "DEVICE"
   ]
  },
  {
   "cell_type": "code",
   "execution_count": 1,
   "metadata": {},
   "outputs": [
    {
     "name": "stdout",
     "output_type": "stream",
     "text": [
      "중고매장(17)\n",
      "Crawling : 1 pages\n",
      "done..\n"
     ]
    }
   ],
   "source": [
    "# token_search = '투자은행과 사모펀드'\n",
    "token_search = 'pytorch'\n",
    "# token_search = '재무제표'\n",
    "token_search = '기업가치평가'\n",
    "# token_search = 'Shoe Dog'\n",
    "# token_search = '김경진'\n",
    "# token_search = ' WarGames'\n",
    "# token_search = 'CSS3'\n",
    "# token_search = '클린코드'\n",
    "# token_search = '리팩토링'\n",
    "# token_search = 'Ian Kerner'\n",
    "# token_search = 'Pytorch'\n",
    "# token_search = '켄트 벡'\n",
    "token_search = '리액트'\n",
    "# token_search = '데이터 과학'\n",
    "result = []\n",
    "\n",
    "# Crawling the Book Site\n",
    "import re\n",
    "import pandas as pd\n",
    "from usedbook import yes24, aladin\n",
    "result +=  yes24().get_items(token_search)\n",
    "result += aladin().get_items(token_search)\n",
    "# Pre Processing (날짜별 정렬)\n",
    "print('done..')\n",
    "if len(result) == 0:\n",
    "    print(\"검색결과가 없습니다\")"
   ]
  },
  {
   "cell_type": "code",
   "execution_count": 2,
   "metadata": {},
   "outputs": [
    {
     "name": "stdout",
     "output_type": "stream",
     "text": [
      "18\n"
     ]
    },
    {
     "data": {
      "text/html": [
       "<div>\n",
       "<style scoped>\n",
       "    .dataframe tbody tr th:only-of-type {\n",
       "        vertical-align: middle;\n",
       "    }\n",
       "\n",
       "    .dataframe tbody tr th {\n",
       "        vertical-align: top;\n",
       "    }\n",
       "\n",
       "    .dataframe thead th {\n",
       "        text-align: right;\n",
       "    }\n",
       "</style>\n",
       "<table border=\"1\" class=\"dataframe\">\n",
       "  <thead>\n",
       "    <tr style=\"text-align: right;\">\n",
       "      <th></th>\n",
       "      <th>title</th>\n",
       "      <th>image</th>\n",
       "      <th>publish</th>\n",
       "      <th>publish_date</th>\n",
       "      <th>market</th>\n",
       "      <th>area</th>\n",
       "      <th>area_info</th>\n",
       "      <th>area_price</th>\n",
       "    </tr>\n",
       "  </thead>\n",
       "  <tbody>\n",
       "    <tr>\n",
       "      <th>0</th>\n",
       "      <td>스무디 한 잔 마시며 끝내는 React Native</td>\n",
       "      <td>https://image.aladin.co.kr/product/21674/41/co...</td>\n",
       "      <td>비제이퍼블릭</td>\n",
       "      <td>2019년 11월</td>\n",
       "      <td>알라딘</td>\n",
       "      <td>부천점</td>\n",
       "      <td>https://www.aladin.co.kr/m/off/mproduct.aspx?I...</td>\n",
       "      <td>https://www.aladin.co.kr/m/off/mproduct.aspx?I...</td>\n",
       "    </tr>\n",
       "    <tr>\n",
       "      <th>1</th>\n",
       "      <td>리액트 네이티브 인 액션</td>\n",
       "      <td>https://image.aladin.co.kr/product/20901/21/co...</td>\n",
       "      <td>프리렉</td>\n",
       "      <td>2019년 09월</td>\n",
       "      <td>알라딘</td>\n",
       "      <td>대구상인점</td>\n",
       "      <td>https://www.aladin.co.kr/m/off/mproduct.aspx?I...</td>\n",
       "      <td>https://www.aladin.co.kr/m/off/mproduct.aspx?I...</td>\n",
       "    </tr>\n",
       "    <tr>\n",
       "      <th>2</th>\n",
       "      <td>실전 리액트 프로그래밍</td>\n",
       "      <td>https://image.aladin.co.kr/product/19372/53/co...</td>\n",
       "      <td>인사이트</td>\n",
       "      <td>2019년 06월</td>\n",
       "      <td>알라딘</td>\n",
       "      <td>수유점</td>\n",
       "      <td>https://www.aladin.co.kr/m/off/mproduct.aspx?I...</td>\n",
       "      <td>https://www.aladin.co.kr/m/off/mproduct.aspx?I...</td>\n",
       "    </tr>\n",
       "  </tbody>\n",
       "</table>\n",
       "</div>"
      ],
      "text/plain": [
       "                          title  \\\n",
       "0  스무디 한 잔 마시며 끝내는 React Native   \n",
       "1                 리액트 네이티브 인 액션   \n",
       "2                  실전 리액트 프로그래밍   \n",
       "\n",
       "                                               image publish publish_date  \\\n",
       "0  https://image.aladin.co.kr/product/21674/41/co...  비제이퍼블릭    2019년 11월   \n",
       "1  https://image.aladin.co.kr/product/20901/21/co...     프리렉    2019년 09월   \n",
       "2  https://image.aladin.co.kr/product/19372/53/co...    인사이트    2019년 06월   \n",
       "\n",
       "  market   area                                          area_info  \\\n",
       "0    알라딘    부천점  https://www.aladin.co.kr/m/off/mproduct.aspx?I...   \n",
       "1    알라딘  대구상인점  https://www.aladin.co.kr/m/off/mproduct.aspx?I...   \n",
       "2    알라딘    수유점  https://www.aladin.co.kr/m/off/mproduct.aspx?I...   \n",
       "\n",
       "                                          area_price  \n",
       "0  https://www.aladin.co.kr/m/off/mproduct.aspx?I...  \n",
       "1  https://www.aladin.co.kr/m/off/mproduct.aspx?I...  \n",
       "2  https://www.aladin.co.kr/m/off/mproduct.aspx?I...  "
      ]
     },
     "execution_count": 2,
     "metadata": {},
     "output_type": "execute_result"
    }
   ],
   "source": [
    "result_table = pd.DataFrame(result)\n",
    "result_table.publish_date = [\"\".join(re.findall(r'[\\d]+년 [\\d]+월', _)) for _ in result_table.publish_date]\n",
    "result_table = result_table.sort_values([\"publish_date\", \"title\"], ascending=False).reset_index(drop=True)\n",
    "print(len(set(result_table.title))) #, \"//\".join(list(set(result_table.title))))\n",
    "result_table.to_csv('result.csv')\n",
    "result_table.head(3) # .to_csv('result.csv')\n",
    "# set(result_table['title'])"
   ]
  },
  {
   "cell_type": "markdown",
   "metadata": {},
   "source": [
    "## **2 Area Filter**\n",
    "지역 데이터를 제거하기\n",
    "```\n",
    "\"광주상무점\", \"광주충장로점\" ,\"김해점\", \n",
    "\"대구동성로점\", \"대구상인점\", \"대전시청역점\", \"대전은행점\", \"동대구역점\",\n",
    "\"부산 경성대.부경대역점\", \"부산덕천점\", \"부산서면점\", \"부산센텀점\", \n",
    "\"울산점\", \"전주점\", \"천안점\", \"청주점\"\n",
    "```"
   ]
  },
  {
   "cell_type": "code",
   "execution_count": 20,
   "metadata": {},
   "outputs": [
    {
     "data": {
      "text/html": [
       "<div>\n",
       "<style scoped>\n",
       "    .dataframe tbody tr th:only-of-type {\n",
       "        vertical-align: middle;\n",
       "    }\n",
       "\n",
       "    .dataframe tbody tr th {\n",
       "        vertical-align: top;\n",
       "    }\n",
       "\n",
       "    .dataframe thead th {\n",
       "        text-align: right;\n",
       "    }\n",
       "</style>\n",
       "<table border=\"1\" class=\"dataframe\">\n",
       "  <thead>\n",
       "    <tr style=\"text-align: right;\">\n",
       "      <th></th>\n",
       "      <th>title</th>\n",
       "      <th>image</th>\n",
       "      <th>publish</th>\n",
       "      <th>publish_date</th>\n",
       "      <th>market</th>\n",
       "      <th>area</th>\n",
       "      <th>area_info</th>\n",
       "      <th>area_price</th>\n",
       "    </tr>\n",
       "  </thead>\n",
       "  <tbody>\n",
       "    <tr>\n",
       "      <th>0</th>\n",
       "      <td>기업가치평가</td>\n",
       "      <td>http://image.yes24.com/goods/45503512/M</td>\n",
       "      <td>인피니티북스</td>\n",
       "      <td>2017년 08월</td>\n",
       "      <td>yes24</td>\n",
       "      <td>기흥점</td>\n",
       "      <td>[D10-1] 1권</td>\n",
       "      <td>최저 27,000원</td>\n",
       "    </tr>\n",
       "    <tr>\n",
       "      <th>1</th>\n",
       "      <td>기업가치평가</td>\n",
       "      <td>https://image.aladin.co.kr/product/11681/14/co...</td>\n",
       "      <td>인피니티북스</td>\n",
       "      <td>2017년 08월</td>\n",
       "      <td>알라딘</td>\n",
       "      <td>수유점</td>\n",
       "      <td>https://www.aladin.co.kr/m/off/mproduct.aspx?I...</td>\n",
       "      <td>https://www.aladin.co.kr/m/off/mproduct.aspx?I...</td>\n",
       "    </tr>\n",
       "    <tr>\n",
       "      <th>2</th>\n",
       "      <td>금융인을 위한 재무관리와 기업가치평가</td>\n",
       "      <td>http://image.yes24.com/goods/38830144/M</td>\n",
       "      <td>한국금융연수원</td>\n",
       "      <td>2017년 04월</td>\n",
       "      <td>yes24</td>\n",
       "      <td>목동점</td>\n",
       "      <td>[F20] 1권</td>\n",
       "      <td>최저 8,100원</td>\n",
       "    </tr>\n",
       "  </tbody>\n",
       "</table>\n",
       "</div>"
      ],
      "text/plain": [
       "                  title                                              image  \\\n",
       "0                기업가치평가            http://image.yes24.com/goods/45503512/M   \n",
       "1                기업가치평가  https://image.aladin.co.kr/product/11681/14/co...   \n",
       "2  금융인을 위한 재무관리와 기업가치평가            http://image.yes24.com/goods/38830144/M   \n",
       "\n",
       "   publish publish_date market area  \\\n",
       "0   인피니티북스    2017년 08월  yes24  기흥점   \n",
       "1   인피니티북스    2017년 08월    알라딘  수유점   \n",
       "2  한국금융연수원    2017년 04월  yes24  목동점   \n",
       "\n",
       "                                           area_info  \\\n",
       "0                                         [D10-1] 1권   \n",
       "1  https://www.aladin.co.kr/m/off/mproduct.aspx?I...   \n",
       "2                                           [F20] 1권   \n",
       "\n",
       "                                          area_price  \n",
       "0                                         최저 27,000원  \n",
       "1  https://www.aladin.co.kr/m/off/mproduct.aspx?I...  \n",
       "2                                          최저 8,100원  "
      ]
     },
     "execution_count": 20,
     "metadata": {},
     "output_type": "execute_result"
    }
   ],
   "source": [
    "# 실질적 접근 불가능한 지역 데이터 필터링 및 테이블 재정렬\n",
    "index_valid   = []\n",
    "text_area_sub = [\"광주\" ,\"김해\", \"대구\", \"대전\",\"부산\", \"울산\", \"전주\", \"천안\", \"청주\"]\n",
    "def filter_area_info(area_name):\n",
    "    filtering = [_ for _ in text_area_sub if area_name.find(_) != -1]\n",
    "    if len(filtering) != 1: \n",
    "        return area_name\n",
    "\n",
    "for _ in range(len(result_table)):\n",
    "    dataframe_temp = result_table.loc[_]\n",
    "    area_name = dataframe_temp['area']\n",
    "    if filter_area_info(area_name):\n",
    "        index_valid.append(dataframe_temp.name)\n",
    "\n",
    "result_table = result_table.iloc[index_valid, :].reset_index(drop=True)\n",
    "result_table.head(3)"
   ]
  },
  {
   "cell_type": "markdown",
   "metadata": {},
   "source": [
    "## **3 Merging The Duplicated Data**\n",
    "중복되는 내용 찾아서 정리"
   ]
  },
  {
   "cell_type": "code",
   "execution_count": 21,
   "metadata": {},
   "outputs": [
    {
     "data": {
      "text/plain": [
       "['기업가치평가 2017년 08월 인피니티북스',\n",
       " '금융인을 위한 재무관리와 기업가치평가 2017년 04월 한국금융연수원',\n",
       " '기업가치평가실무 2016년 11월 조세통람',\n",
       " '기업가치평가 2016년 01월 에프앤가이드',\n",
       " '재무제표분석과 기업가치평가 2015년 02월 박영사']"
      ]
     },
     "execution_count": 21,
     "metadata": {},
     "output_type": "execute_result"
    }
   ],
   "source": [
    "# 중복 검사를 위한 색인용 제목컬럼 만들기\n",
    "result_table.insert(0, 'title_search_name', \n",
    "    result_table['title'] + \" \" + result_table['publish_date'] + \" \" + result_table['publish'])\n",
    "\n",
    "# 색인용 제목컬럼서 유효값 추출 (정렬 유지)\n",
    "titles_filtered = []\n",
    "for _ in result_table['title_search_name']:\n",
    "    if _ not in titles_filtered:\n",
    "        titles_filtered.append(_)\n",
    "\n",
    "titles_filtered[:5]"
   ]
  },
  {
   "cell_type": "markdown",
   "metadata": {},
   "source": [
    "## **4 Extracting The Json Data**\n",
    "중복값 기준을 대상으로 **[Json](https://pandas.pydata.org/pandas-docs/stable/reference/api/pandas.DataFrame.to_json.html)** 압축데이터 변환 및 입력\n",
    "```json\n",
    "'data':{\n",
    "    area + market: {\n",
    "        area_info:\n",
    "        area_price:\n",
    "    },\n",
    "}\n",
    "```"
   ]
  },
  {
   "cell_type": "code",
   "execution_count": 22,
   "metadata": {},
   "outputs": [
    {
     "data": {
      "text/html": [
       "<div>\n",
       "<style scoped>\n",
       "    .dataframe tbody tr th:only-of-type {\n",
       "        vertical-align: middle;\n",
       "    }\n",
       "\n",
       "    .dataframe tbody tr th {\n",
       "        vertical-align: top;\n",
       "    }\n",
       "\n",
       "    .dataframe thead th {\n",
       "        text-align: right;\n",
       "    }\n",
       "</style>\n",
       "<table border=\"1\" class=\"dataframe\">\n",
       "  <thead>\n",
       "    <tr style=\"text-align: right;\">\n",
       "      <th></th>\n",
       "      <th>titles</th>\n",
       "      <th>info</th>\n",
       "      <th>market</th>\n",
       "    </tr>\n",
       "  </thead>\n",
       "  <tbody>\n",
       "    <tr>\n",
       "      <th>0</th>\n",
       "      <td>기업가치평가</td>\n",
       "      <td>{'img_url': 'http://image.yes24.com/goods/4550...</td>\n",
       "      <td>{'기흥점(yes24)': '최저 27,000원 : [D10-1] 1권', '수유점...</td>\n",
       "    </tr>\n",
       "    <tr>\n",
       "      <th>1</th>\n",
       "      <td>금융인을 위한 재무관리와 기업가치평가</td>\n",
       "      <td>{'img_url': 'http://image.yes24.com/goods/3883...</td>\n",
       "      <td>{'목동점(yes24)': '최저 8,100원 : [F20] 1권'}</td>\n",
       "    </tr>\n",
       "    <tr>\n",
       "      <th>2</th>\n",
       "      <td>기업가치평가실무</td>\n",
       "      <td>{'img_url': 'https://image.aladin.co.kr/produc...</td>\n",
       "      <td>{'강서홈플러스점(알라딘)': 'https://www.aladin.co.kr/m/o...</td>\n",
       "    </tr>\n",
       "    <tr>\n",
       "      <th>3</th>\n",
       "      <td>기업가치평가</td>\n",
       "      <td>{'img_url': 'https://image.aladin.co.kr/produc...</td>\n",
       "      <td>{'수유점(알라딘)': 'https://www.aladin.co.kr/m/off/m...</td>\n",
       "    </tr>\n",
       "    <tr>\n",
       "      <th>4</th>\n",
       "      <td>재무제표분석과 기업가치평가</td>\n",
       "      <td>{'img_url': 'https://image.aladin.co.kr/produc...</td>\n",
       "      <td>{'분당야탑점(알라딘)': 'https://www.aladin.co.kr/m/off...</td>\n",
       "    </tr>\n",
       "    <tr>\n",
       "      <th>5</th>\n",
       "      <td>대한민국 주식투자 다이어리 - 대한민국 주식투자 성공시리즈 2</td>\n",
       "      <td>{'img_url': 'https://image.aladin.co.kr/produc...</td>\n",
       "      <td>{'잠실새내역점(알라딘)': 'https://www.aladin.co.kr/m/of...</td>\n",
       "    </tr>\n",
       "    <tr>\n",
       "      <th>6</th>\n",
       "      <td>밸류에이션</td>\n",
       "      <td>{'img_url': 'http://image.yes24.com/goods/4111...</td>\n",
       "      <td>{'기흥점(yes24)': '최저 5,790원 : [C09-1] 1권', '분당서현...</td>\n",
       "    </tr>\n",
       "    <tr>\n",
       "      <th>7</th>\n",
       "      <td>기업가치평가</td>\n",
       "      <td>{'img_url': 'https://image.aladin.co.kr/produc...</td>\n",
       "      <td>{'서울대입구역점(알라딘)': 'https://www.aladin.co.kr/m/o...</td>\n",
       "    </tr>\n",
       "    <tr>\n",
       "      <th>8</th>\n",
       "      <td>프로직장인들이 가장 궁금해하는 현금흐름 분석</td>\n",
       "      <td>{'img_url': 'https://image.aladin.co.kr/produc...</td>\n",
       "      <td>{'강남점(알라딘)': 'https://www.aladin.co.kr/m/off/m...</td>\n",
       "    </tr>\n",
       "    <tr>\n",
       "      <th>9</th>\n",
       "      <td>기업가치평가 Valuation</td>\n",
       "      <td>{'img_url': 'https://image.aladin.co.kr/produc...</td>\n",
       "      <td>{'서울대입구역점(알라딘)': 'https://www.aladin.co.kr/m/o...</td>\n",
       "    </tr>\n",
       "    <tr>\n",
       "      <th>10</th>\n",
       "      <td>기업가치평가</td>\n",
       "      <td>{'img_url': 'https://image.aladin.co.kr/produc...</td>\n",
       "      <td>{'가로수길점(알라딘)': 'https://www.aladin.co.kr/m/off...</td>\n",
       "    </tr>\n",
       "    <tr>\n",
       "      <th>11</th>\n",
       "      <td>기업가치평가실무</td>\n",
       "      <td>{'img_url': 'https://image.aladin.co.kr/produc...</td>\n",
       "      <td>{'강남점(알라딘)': 'https://www.aladin.co.kr/m/off/m...</td>\n",
       "    </tr>\n",
       "    <tr>\n",
       "      <th>12</th>\n",
       "      <td>능력주의 인사평가 방법</td>\n",
       "      <td>{'img_url': 'http://image.yes24.com/goods/1947...</td>\n",
       "      <td>{'목동점(yes24)': '최저 3,000원 : [F08] 1권'}</td>\n",
       "    </tr>\n",
       "    <tr>\n",
       "      <th>13</th>\n",
       "      <td>Valuation (Hardcover, 4th)</td>\n",
       "      <td>{'img_url': 'https://image.aladin.co.kr/produc...</td>\n",
       "      <td>{'인천구월점(알라딘)': 'https://www.aladin.co.kr/m/off...</td>\n",
       "    </tr>\n",
       "    <tr>\n",
       "      <th>14</th>\n",
       "      <td>지속가능성 경영과 기업가치 평가</td>\n",
       "      <td>{'img_url': 'https://image.aladin.co.kr/produc...</td>\n",
       "      <td>{'인천송도점(알라딘)': 'https://www.aladin.co.kr/m/off...</td>\n",
       "    </tr>\n",
       "    <tr>\n",
       "      <th>15</th>\n",
       "      <td>기업가치평가</td>\n",
       "      <td>{'img_url': 'https://image.aladin.co.kr/produc...</td>\n",
       "      <td>{'노원역점(알라딘)': 'https://www.aladin.co.kr/m/off/...</td>\n",
       "    </tr>\n",
       "    <tr>\n",
       "      <th>16</th>\n",
       "      <td>기업가치평가</td>\n",
       "      <td>{'img_url': 'https://image.aladin.co.kr/produc...</td>\n",
       "      <td>{'강남점(알라딘)': 'https://www.aladin.co.kr/m/off/m...</td>\n",
       "    </tr>\n",
       "    <tr>\n",
       "      <th>17</th>\n",
       "      <td>사업성 검토와 기업가치평가</td>\n",
       "      <td>{'img_url': 'https://image.aladin.co.kr/produc...</td>\n",
       "      <td>{'안산홈플러스점(알라딘)': 'https://www.aladin.co.kr/m/o...</td>\n",
       "    </tr>\n",
       "  </tbody>\n",
       "</table>\n",
       "</div>"
      ],
      "text/plain": [
       "                                titles  \\\n",
       "0                               기업가치평가   \n",
       "1                 금융인을 위한 재무관리와 기업가치평가   \n",
       "2                             기업가치평가실무   \n",
       "3                               기업가치평가   \n",
       "4                       재무제표분석과 기업가치평가   \n",
       "5   대한민국 주식투자 다이어리 - 대한민국 주식투자 성공시리즈 2   \n",
       "6                                밸류에이션   \n",
       "7                               기업가치평가   \n",
       "8             프로직장인들이 가장 궁금해하는 현금흐름 분석   \n",
       "9                     기업가치평가 Valuation   \n",
       "10                              기업가치평가   \n",
       "11                            기업가치평가실무   \n",
       "12                        능력주의 인사평가 방법   \n",
       "13          Valuation (Hardcover, 4th)   \n",
       "14                   지속가능성 경영과 기업가치 평가   \n",
       "15                              기업가치평가   \n",
       "16                              기업가치평가   \n",
       "17                      사업성 검토와 기업가치평가   \n",
       "\n",
       "                                                 info  \\\n",
       "0   {'img_url': 'http://image.yes24.com/goods/4550...   \n",
       "1   {'img_url': 'http://image.yes24.com/goods/3883...   \n",
       "2   {'img_url': 'https://image.aladin.co.kr/produc...   \n",
       "3   {'img_url': 'https://image.aladin.co.kr/produc...   \n",
       "4   {'img_url': 'https://image.aladin.co.kr/produc...   \n",
       "5   {'img_url': 'https://image.aladin.co.kr/produc...   \n",
       "6   {'img_url': 'http://image.yes24.com/goods/4111...   \n",
       "7   {'img_url': 'https://image.aladin.co.kr/produc...   \n",
       "8   {'img_url': 'https://image.aladin.co.kr/produc...   \n",
       "9   {'img_url': 'https://image.aladin.co.kr/produc...   \n",
       "10  {'img_url': 'https://image.aladin.co.kr/produc...   \n",
       "11  {'img_url': 'https://image.aladin.co.kr/produc...   \n",
       "12  {'img_url': 'http://image.yes24.com/goods/1947...   \n",
       "13  {'img_url': 'https://image.aladin.co.kr/produc...   \n",
       "14  {'img_url': 'https://image.aladin.co.kr/produc...   \n",
       "15  {'img_url': 'https://image.aladin.co.kr/produc...   \n",
       "16  {'img_url': 'https://image.aladin.co.kr/produc...   \n",
       "17  {'img_url': 'https://image.aladin.co.kr/produc...   \n",
       "\n",
       "                                               market  \n",
       "0   {'기흥점(yes24)': '최저 27,000원 : [D10-1] 1권', '수유점...  \n",
       "1              {'목동점(yes24)': '최저 8,100원 : [F20] 1권'}  \n",
       "2   {'강서홈플러스점(알라딘)': 'https://www.aladin.co.kr/m/o...  \n",
       "3   {'수유점(알라딘)': 'https://www.aladin.co.kr/m/off/m...  \n",
       "4   {'분당야탑점(알라딘)': 'https://www.aladin.co.kr/m/off...  \n",
       "5   {'잠실새내역점(알라딘)': 'https://www.aladin.co.kr/m/of...  \n",
       "6   {'기흥점(yes24)': '최저 5,790원 : [C09-1] 1권', '분당서현...  \n",
       "7   {'서울대입구역점(알라딘)': 'https://www.aladin.co.kr/m/o...  \n",
       "8   {'강남점(알라딘)': 'https://www.aladin.co.kr/m/off/m...  \n",
       "9   {'서울대입구역점(알라딘)': 'https://www.aladin.co.kr/m/o...  \n",
       "10  {'가로수길점(알라딘)': 'https://www.aladin.co.kr/m/off...  \n",
       "11  {'강남점(알라딘)': 'https://www.aladin.co.kr/m/off/m...  \n",
       "12             {'목동점(yes24)': '최저 3,000원 : [F08] 1권'}  \n",
       "13  {'인천구월점(알라딘)': 'https://www.aladin.co.kr/m/off...  \n",
       "14  {'인천송도점(알라딘)': 'https://www.aladin.co.kr/m/off...  \n",
       "15  {'노원역점(알라딘)': 'https://www.aladin.co.kr/m/off/...  \n",
       "16  {'강남점(알라딘)': 'https://www.aladin.co.kr/m/off/m...  \n",
       "17  {'안산홈플러스점(알라딘)': 'https://www.aladin.co.kr/m/o...  "
      ]
     },
     "execution_count": 22,
     "metadata": {},
     "output_type": "execute_result"
    }
   ],
   "source": [
    "result = []\n",
    "for title_name in titles_filtered:\n",
    "    table_temp = result_table[result_table['title_search_name']==title_name].reset_index(drop=True)\n",
    "    # Merging Json DataSet : title, book_info, search_data_info\n",
    "    book_title = {\"title\":table_temp.title[0]}\n",
    "    book_info  = {\n",
    "        'book_info':{\n",
    "            'img_url':table_temp.image[0],\n",
    "            'publish':table_temp.publish[0],\n",
    "            'publish_date': table_temp.publish_date[0]\n",
    "        }\n",
    "    }\n",
    "    result_dict = {} # market search result to Json\n",
    "    for _ in range(len(table_temp)):\n",
    "        table_area = table_temp.iloc[_,5:]\n",
    "        area_name  = table_area['area']\n",
    "        market     = table_area['market']\n",
    "        if table_area['area_price'] != table_area['area_info']:\n",
    "            info = table_area['area_price'] + \" : \" + table_area['area_info']\n",
    "        else:\n",
    "            info = table_area['area_info']\n",
    "        result_dict.update({ \n",
    "            f'{area_name}({market})': info\n",
    "        })\n",
    "\n",
    "    result_dict = {'search': result_dict}\n",
    "    result.append([book_title['title'], book_info['book_info'], result_dict['search']])\n",
    "# result\n",
    "\n",
    "import pandas as pd\n",
    "result = pd.DataFrame(result)\n",
    "result.columns = ['titles', 'info', 'market']\n",
    "result # result.to_json(force_ascii=False)"
   ]
  },
  {
   "cell_type": "code",
   "execution_count": 23,
   "metadata": {},
   "outputs": [
    {
     "data": {
      "text/plain": [
       "'[{\"titles\":\"기업가치평가\",\"info\":{\"img_url\":\"http:\\\\/\\\\/image.yes24.com\\\\/goods\\\\/45503512\\\\/M\",\"publish\":\"인피니티북스\",\"publish_date\":\"2017년 08월\"},\"market\":{\"기흥점(yes24)\":\"최저 27,000원 : [D10-1] 1권\",\"수유점(알라딘)\":\"https:\\\\/\\\\/www.aladin.co.kr\\\\/m\\\\/off\\\\/mproduct.aspx?ItemId=116811473&OffCode=suyu\"}},{\"titles\":\"금융인을 위한 재무관리와 기업가치평가\",\"info\":{\"img_url\":\"http:\\\\/\\\\/image.yes24.com\\\\/goods\\\\/38830144\\\\/M\",\"publish\":\"한국금융연수원\",\"publish_date\":\"2017년 04월\"},\"market\":{\"목동점(yes24)\":\"최저 8,100원 : [F20] 1권\"}},{\"titles\":\"기업가치평가실무\",\"info\":{\"img_url\":\"https:\\\\/\\\\/image.aladin.co.kr\\\\/product\\\\/9561\\\\/6\\\\/cover150\\\\/k682535231_1.jpg\",\"publish\":\"조세통람\",\"publish_date\":\"2016년 11월\"},\"market\":{\"강서홈플러스점(알라딘)\":\"https:\\\\/\\\\/www.aladin.co.kr\\\\/m\\\\/off\\\\/mproduct.aspx?ItemId=95610687&OffCode=Gangseo\"}},{\"titles\":\"기업가치평가\",\"info\":{\"img_url\":\"https:\\\\/\\\\/image.aladin.co.kr\\\\/product\\\\/7368\\\\/72\\\\/cover150\\\\/8996262781_1.jpg\",\"publish\":\"에프앤가이드\",\"publish_date\":\"2016년 01월\"},\"market\":{\"수유점(알라딘)\":\"https:\\\\/\\\\/www.aladin.co.kr\\\\/m\\\\/off\\\\/mproduct.aspx?ItemId=73687210&OffCode=suyu\"}},{\"titles\":\"재무제표분석과 기업가치평가\",\"info\":{\"img_url\":\"https:\\\\/\\\\/image.aladin.co.kr\\\\/product\\\\/5370\\\\/69\\\\/cover150\\\\/1130301710_1.jpg\",\"publish\":\"박영사\",\"publish_date\":\"2015년 02월\"},\"market\":{\"분당야탑점(알라딘)\":\"https:\\\\/\\\\/www.aladin.co.kr\\\\/m\\\\/off\\\\/mproduct.aspx?ItemId=53706978&OffCode=yatap\"}},{\"titles\":\"대한민국 주식투자 다이어리 - 대한민국 주식투자 성공시리즈 2\",\"info\":{\"img_url\":\"https:\\\\/\\\\/image.aladin.co.kr\\\\/product\\\\/2306\\\\/49\\\\/cover150\\\\/8996971820_1.jpg\",\"publish\":\"한국주식가치평가원\",\"publish_date\":\"2013년 02월\"},\"market\":{\"잠실새내역점(알라딘)\":\"https:\\\\/\\\\/www.aladin.co.kr\\\\/m\\\\/off\\\\/mproduct.aspx?ItemId=23064966&OffCode=Sincheon\"}},{\"titles\":\"밸류에이션\",\"info\":{\"img_url\":\"http:\\\\/\\\\/image.yes24.com\\\\/goods\\\\/4111076\\\\/M\",\"publish\":\"이콘\",\"publish_date\":\"2010년 08월\"},\"market\":{\"기흥점(yes24)\":\"최저 5,790원 : [C09-1] 1권\",\"분당서현점(알라딘)\":\"https:\\\\/\\\\/www.aladin.co.kr\\\\/m\\\\/off\\\\/mproduct.aspx?ItemId=7580362&OffCode=Bundang\",\"분당야탑점(알라딘)\":\"https:\\\\/\\\\/www.aladin.co.kr\\\\/m\\\\/off\\\\/mproduct.aspx?ItemId=7580362&OffCode=yatap\",\"종로점(알라딘)\":\"https:\\\\/\\\\/www.aladin.co.kr\\\\/m\\\\/off\\\\/mproduct.aspx?ItemId=7580362&OffCode=Jongno\"}},{\"titles\":\"기업가치평가\",\"info\":{\"img_url\":\"https:\\\\/\\\\/image.aladin.co.kr\\\\/product\\\\/621\\\\/71\\\\/cover150\\\\/8996262722.jpg\",\"publish\":\"에프앤가이드\",\"publish_date\":\"2009년 12월\"},\"market\":{\"서울대입구역점(알라딘)\":\"https:\\\\/\\\\/www.aladin.co.kr\\\\/m\\\\/off\\\\/mproduct.aspx?ItemId=6217104&OffCode=snue\"}},{\"titles\":\"프로직장인들이 가장 궁금해하는 현금흐름 분석\",\"info\":{\"img_url\":\"https:\\\\/\\\\/image.aladin.co.kr\\\\/product\\\\/419\\\\/87\\\\/cover150\\\\/8955333153_1.jpg\",\"publish\":\"새로운제안\",\"publish_date\":\"2009년 07월\"},\"market\":{\"강남점(알라딘)\":\"https:\\\\/\\\\/www.aladin.co.kr\\\\/m\\\\/off\\\\/mproduct.aspx?ItemId=4198710&OffCode=Gangnam\",\"강서홈플러스점(알라딘)\":\"https:\\\\/\\\\/www.aladin.co.kr\\\\/m\\\\/off\\\\/mproduct.aspx?ItemId=4198710&OffCode=Gangseo\",\"노원역점(알라딘)\":\"https:\\\\/\\\\/www.aladin.co.kr\\\\/m\\\\/off\\\\/mproduct.aspx?ItemId=4198710&OffCode=NowonStn\",\"수유점(알라딘)\":\"https:\\\\/\\\\/www.aladin.co.kr\\\\/m\\\\/off\\\\/mproduct.aspx?ItemId=4198710&OffCode=suyu\",\"신림점(알라딘)\":\"https:\\\\/\\\\/www.aladin.co.kr\\\\/m\\\\/off\\\\/mproduct.aspx?ItemId=4198710&OffCode=Sillim\",\"안산홈플러스점(알라딘)\":\"https:\\\\/\\\\/www.aladin.co.kr\\\\/m\\\\/off\\\\/mproduct.aspx?ItemId=4198710&OffCode=Ansan\",\"영등포 타임스퀘어점(알라딘)\":\"https:\\\\/\\\\/www.aladin.co.kr\\\\/m\\\\/off\\\\/mproduct.aspx?ItemId=4198710&OffCode=Yeongdeungpo\",\"이수역점(알라딘)\":\"https:\\\\/\\\\/www.aladin.co.kr\\\\/m\\\\/off\\\\/mproduct.aspx?ItemId=4198710&OffCode=isu\",\"인천구월점(알라딘)\":\"https:\\\\/\\\\/www.aladin.co.kr\\\\/m\\\\/off\\\\/mproduct.aspx?ItemId=4198710&OffCode=Guwol\",\"일산점(알라딘)\":\"https:\\\\/\\\\/www.aladin.co.kr\\\\/m\\\\/off\\\\/mproduct.aspx?ItemId=4198710&OffCode=ilsan\"}},{\"titles\":\"기업가치평가 Valuation\",\"info\":{\"img_url\":\"https:\\\\/\\\\/image.aladin.co.kr\\\\/product\\\\/416\\\\/75\\\\/cover150\\\\/8992649274_1.jpg\",\"publish\":\"인피니티북스\",\"publish_date\":\"2009년 06월\"},\"market\":{\"서울대입구역점(알라딘)\":\"https:\\\\/\\\\/www.aladin.co.kr\\\\/m\\\\/off\\\\/mproduct.aspx?ItemId=4167542&OffCode=snue\"}},{\"titles\":\"기업가치평가\",\"info\":{\"img_url\":\"https:\\\\/\\\\/image.aladin.co.kr\\\\/product\\\\/94\\\\/68\\\\/cover150\\\\/8955332394_1.jpg\",\"publish\":\"새로운제안\",\"publish_date\":\"2007년 07월\"},\"market\":{\"가로수길점(알라딘)\":\"https:\\\\/\\\\/www.aladin.co.kr\\\\/m\\\\/off\\\\/mproduct.aspx?ItemId=946806&OffCode=Sinsa\",\"강남점(알라딘)\":\"https:\\\\/\\\\/www.aladin.co.kr\\\\/m\\\\/off\\\\/mproduct.aspx?ItemId=946806&OffCode=Gangnam\"}},{\"titles\":\"기업가치평가실무\",\"info\":{\"img_url\":\"https:\\\\/\\\\/image.aladin.co.kr\\\\/product\\\\/81\\\\/50\\\\/cover150\\\\/8980369433_1.jpg\",\"publish\":\"조세통람\",\"publish_date\":\"2006년 09월\"},\"market\":{\"강남점(알라딘)\":\"https:\\\\/\\\\/www.aladin.co.kr\\\\/m\\\\/off\\\\/mproduct.aspx?ItemId=815065&OffCode=Gangnam\"}},{\"titles\":\"능력주의 인사평가 방법\",\"info\":{\"img_url\":\"http:\\\\/\\\\/image.yes24.com\\\\/goods\\\\/1947982\\\\/M\",\"publish\":\"크라운출판사\",\"publish_date\":\"2006년 01월\"},\"market\":{\"목동점(yes24)\":\"최저 3,000원 : [F08] 1권\"}},{\"titles\":\"Valuation (Hardcover, 4th)\",\"info\":{\"img_url\":\"https:\\\\/\\\\/image.aladin.co.kr\\\\/product\\\\/111\\\\/63\\\\/cover150\\\\/0471702188_2.jpg\",\"publish\":\"John Wiley & Sons Inc\",\"publish_date\":\"2005년 06월\"},\"market\":{\"인천구월점(알라딘)\":\"https:\\\\/\\\\/www.aladin.co.kr\\\\/m\\\\/off\\\\/mproduct.aspx?ItemId=1116388&OffCode=Guwol\",\"인천송도점(알라딘)\":\"https:\\\\/\\\\/www.aladin.co.kr\\\\/m\\\\/off\\\\/mproduct.aspx?ItemId=1116388&OffCode=Songdo\"}},{\"titles\":\"지속가능성 경영과 기업가치 평가\",\"info\":{\"img_url\":\"https:\\\\/\\\\/image.aladin.co.kr\\\\/product\\\\/53\\\\/45\\\\/cover150\\\\/8971891823_1.jpg\",\"publish\":\"박영사\",\"publish_date\":\"2005년 01월\"},\"market\":{\"인천송도점(알라딘)\":\"https:\\\\/\\\\/www.aladin.co.kr\\\\/m\\\\/off\\\\/mproduct.aspx?ItemId=534523&OffCode=Songdo\"}},{\"titles\":\"기업가치평가\",\"info\":{\"img_url\":\"https:\\\\/\\\\/image.aladin.co.kr\\\\/product\\\\/2\\\\/37\\\\/cover150\\\\/894200315x_1.jpg\",\"publish\":\"경문사\",\"publish_date\":\"2004년 04월\"},\"market\":{\"노원역점(알라딘)\":\"https:\\\\/\\\\/www.aladin.co.kr\\\\/m\\\\/off\\\\/mproduct.aspx?ItemId=23716&OffCode=NowonStn\",\"대학로점(알라딘)\":\"https:\\\\/\\\\/www.aladin.co.kr\\\\/m\\\\/off\\\\/mproduct.aspx?ItemId=23716&OffCode=Daehakro\",\"일산점(알라딘)\":\"https:\\\\/\\\\/www.aladin.co.kr\\\\/m\\\\/off\\\\/mproduct.aspx?ItemId=23716&OffCode=ilsan\"}},{\"titles\":\"기업가치평가\",\"info\":{\"img_url\":\"https:\\\\/\\\\/image.aladin.co.kr\\\\/product\\\\/38\\\\/20\\\\/cover150\\\\/8955330553_1.jpg\",\"publish\":\"새로운제안\",\"publish_date\":\"2002년 10월\"},\"market\":{\"강남점(알라딘)\":\"https:\\\\/\\\\/www.aladin.co.kr\\\\/m\\\\/off\\\\/mproduct.aspx?ItemId=382049&OffCode=Gangnam\",\"분당야탑점(알라딘)\":\"https:\\\\/\\\\/www.aladin.co.kr\\\\/m\\\\/off\\\\/mproduct.aspx?ItemId=382049&OffCode=yatap\"}},{\"titles\":\"사업성 검토와 기업가치평가\",\"info\":{\"img_url\":\"https:\\\\/\\\\/image.aladin.co.kr\\\\/product\\\\/29\\\\/66\\\\/cover150\\\\/8955330162_1.jpg\",\"publish\":\"새로운제안\",\"publish_date\":\"2001년 09월\"},\"market\":{\"안산홈플러스점(알라딘)\":\"https:\\\\/\\\\/www.aladin.co.kr\\\\/m\\\\/off\\\\/mproduct.aspx?ItemId=296645&OffCode=Ansan\",\"영등포 타임스퀘어점(알라딘)\":\"https:\\\\/\\\\/www.aladin.co.kr\\\\/m\\\\/off\\\\/mproduct.aspx?ItemId=296645&OffCode=Yeongdeungpo\",\"일산점(알라딘)\":\"https:\\\\/\\\\/www.aladin.co.kr\\\\/m\\\\/off\\\\/mproduct.aspx?ItemId=296645&OffCode=ilsan\"}}]'"
      ]
     },
     "execution_count": 23,
     "metadata": {},
     "output_type": "execute_result"
    }
   ],
   "source": [
    "result_json = result.to_json(force_ascii=False, orient='values')  # value 단위로 Array 세분화\n",
    "result_json = result.to_json(force_ascii=False, orient='records') # recored 단위로 Array 구분 \n",
    "result_json"
   ]
  },
  {
   "cell_type": "code",
   "execution_count": null,
   "metadata": {},
   "outputs": [],
   "source": []
  },
  {
   "cell_type": "code",
   "execution_count": null,
   "metadata": {},
   "outputs": [],
   "source": []
  },
  {
   "cell_type": "code",
   "execution_count": null,
   "metadata": {},
   "outputs": [],
   "source": []
  },
  {
   "cell_type": "code",
   "execution_count": null,
   "metadata": {},
   "outputs": [],
   "source": []
  },
  {
   "cell_type": "code",
   "execution_count": null,
   "metadata": {},
   "outputs": [],
   "source": []
  },
  {
   "cell_type": "code",
   "execution_count": null,
   "metadata": {},
   "outputs": [],
   "source": []
  },
  {
   "cell_type": "code",
   "execution_count": null,
   "metadata": {},
   "outputs": [],
   "source": []
  },
  {
   "cell_type": "code",
   "execution_count": null,
   "metadata": {},
   "outputs": [],
   "source": []
  },
  {
   "cell_type": "code",
   "execution_count": null,
   "metadata": {},
   "outputs": [],
   "source": [
    "open('')"
   ]
  },
  {
   "cell_type": "code",
   "execution_count": null,
   "metadata": {},
   "outputs": [],
   "source": []
  },
  {
   "cell_type": "code",
   "execution_count": null,
   "metadata": {},
   "outputs": [],
   "source": []
  },
  {
   "cell_type": "code",
   "execution_count": null,
   "metadata": {},
   "outputs": [],
   "source": []
  },
  {
   "cell_type": "code",
   "execution_count": null,
   "metadata": {},
   "outputs": [],
   "source": []
  },
  {
   "cell_type": "code",
   "execution_count": null,
   "metadata": {},
   "outputs": [],
   "source": [
    "# result.to_json(force_ascii=False)\n",
    "result['info'][0], result['market'][1]"
   ]
  },
  {
   "cell_type": "code",
   "execution_count": null,
   "metadata": {},
   "outputs": [],
   "source": [
    "# Dictionary of strings and ints\n",
    "wordFreqDic = {\n",
    "    \"Hello\": 56,\n",
    "    \"at\" : 23 ,\n",
    "    \"test\" : 43,\n",
    "    \"this\" : 43\n",
    "    }\n",
    "\n",
    "# Adding a new key value pair\n",
    "wordFreqDic.update( {'before' : 23} )\n",
    "wordFreqDic"
   ]
  },
  {
   "cell_type": "markdown",
   "metadata": {},
   "source": [
    "# **1 Aladin Crawler Function & Run**\n",
    "## **01 작동 Class 함수 만들기**\n",
    "Yes24, aladin 함수의 활용"
   ]
  },
  {
   "cell_type": "code",
   "execution_count": null,
   "metadata": {},
   "outputs": [],
   "source": [
    "import re\n",
    "from tqdm import tqdm\n",
    "from urllib import parse, request\n",
    "from lxml.html import fromstring, tostring\n",
    "from collections import OrderedDict\n",
    "\n",
    "# Django Aladin\n",
    "class aladin:\n",
    "\n",
    "    def __init__(self):\n",
    "        self.browser = \"Mozilla/5.0 (Macintosh; Intel Mac OS X 10_7_3) AppleWebKit/534.55.3 (KHTML, like Gecko) Version/5.1.5 Safari/534.55.3\"\n",
    "        self.url_head = \"https://www.aladin.co.kr/m/msearch.aspx?\"\n",
    "\n",
    "    def resp_url(self, token:str, encoding='utf-8', page='1'):\n",
    "        r\"\"\"알라딘 중고책 검색결과 크롤링 (모바일은 25개만 출력)\n",
    "        :param token: 검색어(한글)\n",
    "        :param encoding: utf-8, euc-kr 택일\n",
    "        :return: response text\"\"\"\n",
    "        query = {'SearchWord':token, 'SearchTarget':'UsedStore',\n",
    "                 'SortOrder':'5', 'ViewRowCount':'50', 'page':page}\n",
    "        head  = \"https://www.aladin.co.kr/m/msearch.aspx?\"\n",
    "        query = parse.urlencode(query, encoding=encoding, doseq=True)\n",
    "        return request.urlopen(request.Request(\n",
    "            self.url_head+query,\n",
    "            headers = {'User-Agent':self.browser})).read().decode(encoding)\n",
    "\n",
    "    def lxml_items(self, html_resp):\n",
    "        \"\"\"크롤링 html 에서 itme 내용을 lxml 로 추출하기\"\"\"\n",
    "        html_lxml   = fromstring(html_resp)\n",
    "        result_list = []\n",
    "        books = html_lxml.xpath('.//div[@id=\"Search3_Result\"]/div[@class=\"browse_list_box \"]/table')\n",
    "        for book in books:\n",
    "            texts = [_.text_content().strip()  for _ in book.xpath('.//ul[@class=\"b_list2\"]/li')[:2]]\n",
    "            title = texts[0].replace('[중고]','')\n",
    "            for _ in book.xpath('.//li[@class=\"pb_title_b\"]/div/a'):\n",
    "                result = OrderedDict()\n",
    "                result['title'] = title\n",
    "                result['image'] = book.xpath('.//img[@class=\"i_cover\"]')[0].get('src')\n",
    "                result['publish'] = texts[1].split('|')[1].strip()\n",
    "                result['publish_date'] = texts[1].split('|')[-1].strip()\n",
    "                result['market'] = '알라딘'\n",
    "                result['area'] = _.text_content()\n",
    "                # href url link ...\n",
    "                href = 'https://www.aladin.co.kr'+(_.get('href'))\n",
    "                result['area_info'] = href\n",
    "                result['area_price'] = href\n",
    "                result_list.append(result)\n",
    "        return result_list\n",
    "\n",
    "    def page_count(self, html_resp):\n",
    "        \"\"\"total_page number Counting\"\"\"\n",
    "        # Table 의 Header 에 표시된 검색갯수\n",
    "        html_lxml  = fromstring(html_resp)\n",
    "        html_head  = html_lxml.xpath('//div[@id=\"scrollTarget\"]')[0]  # 결과 Table 선택\n",
    "        html_head  = \"\".join(html_head.xpath('.//ul[@class=\"new2017_nav_u\"]/li//text()'))\n",
    "        item_count = \"\".join(re.findall(r\"중고매장\\([\\d]+\\)\", html_head))\n",
    "        item_count = int(\"\".join(re.findall(r\"[\\d]+\", item_count)))\n",
    "        item_count = item_count - 2 # 전체 Item 갯수\n",
    "        if item_count % 25 == 0: return item_count // 25 #, item_count % 25\n",
    "        else: return (item_count // 25) + 1 #, item_count % 25\n",
    "        \n",
    "    def get_items(self, token):\n",
    "        \"\"\"위의 작업 함수들을 활용한 크롤링\"\"\"\n",
    "        resp     = self.resp_url(token)\n",
    "        page_num = self.page_count(resp)\n",
    "        print(f\"Crawling : {page_num} pages\")\n",
    "        if page_num == 1: # 결과값 1페이지에 모두 있을 때\n",
    "            result = self.lxml_items(resp)\n",
    "        else:             # 다른 페이지에도 있을 때\n",
    "            result = self.lxml_items(resp)\n",
    "            for i in tqdm(range(2, page_num+1)):\n",
    "                try:\n",
    "                    resp    = self.resp_url(token, page=str(i))\n",
    "                    result += self.lxml_items(resp)\n",
    "                except: pass\n",
    "        return result"
   ]
  },
  {
   "cell_type": "markdown",
   "metadata": {},
   "source": [
    "## **02 클래스로 내용 확인하기**\n",
    "알라딘 중고책 결과 수집 및 결과출력\n",
    "```\n",
    "orderdict => Pandas.DataFrame\n",
    "```"
   ]
  },
  {
   "cell_type": "code",
   "execution_count": null,
   "metadata": {},
   "outputs": [],
   "source": [
    "token_search = 'pytorch'\n",
    "\n",
    "import pandas as pd\n",
    "aladin_items = pd.DataFrame(aladin().get_items(token_search))\n",
    "aladin_items.head(3)"
   ]
  },
  {
   "cell_type": "code",
   "execution_count": null,
   "metadata": {},
   "outputs": [],
   "source": [
    "aladin_items"
   ]
  },
  {
   "cell_type": "markdown",
   "metadata": {},
   "source": [
    "<br/>\n",
    "\n",
    "# **2 Yes24 Crawler Function & Run**\n",
    "## **01 작동 Class 함수 만들기**\n",
    "Yes24, aladin 함수의 활용\n",
    "- 1 : 강남점, 2 : 목동점, 6 : 홍대점, 8 : 기흥점, 11: 강서NC\n",
    "- **title, title_url**, publish, publish_date, **links**"
   ]
  },
  {
   "cell_type": "code",
   "execution_count": null,
   "metadata": {},
   "outputs": [],
   "source": [
    "from urllib import parse, request\n",
    "from lxml.html import fromstring, tostring\n",
    "\n",
    "class yes24:\n",
    "    \n",
    "    def __init__(self):\n",
    "        self.browser = \"Mozilla/5.0 (X11; Linux i686) AppleWebKit/537.17 (KHTML, like Gecko) Chrome/24.0.1312.27 Safari/537.17\"\n",
    "        self.area_code = {\n",
    "            \"1\":\"강남점\", \"2\":\"목동점\", \"6\":\"홍대점\", \"8\":\"기흥점\", \"11\":\"강서NC\"\n",
    "        }\n",
    "\n",
    "    def get_items(self, token:str):\n",
    "        result = []\n",
    "        for k, v in self.area_code.items():\n",
    "            try:\n",
    "                result += self.used_yes(token, code=int(k))\n",
    "            except: pass\n",
    "        return result\n",
    "        \n",
    "    def used_yes(self, token:str, code:str, encoding='euc-kr', page='1'):\n",
    "        r\"\"\"yes24 중고책 검색결과 크롤링\n",
    "        :param token: 검색어(한글)\n",
    "        :param encoding: utf-8, euc-kr 택일\n",
    "        :return: response text\"\"\"\n",
    "        # Web Resp\n",
    "        query = {\"searchText\" : token}\n",
    "        query = parse.urlencode(query, encoding = encoding)\n",
    "        url = f\"http://www.yes24.com/Mall/UsedStore/Search?STORE_CODE={code:03d}&\"\n",
    "        url = url + f\"{query}&sortBy=RECENT_DATE&pageNumber={page}&pageSize=200&\"\n",
    "        html_resp = request.urlopen(request.Request(\n",
    "            url, headers={'User-Agent':self.browser})).read().decode(encoding)\n",
    "        # Resp Html 에서 lxml 추출 (ul id=\"ulResult\")\n",
    "        html_lxmls = fromstring(html_resp)\n",
    "        html_lxmls = html_lxmls.xpath('.//ul[@id=\"ulResult\"]/li')\n",
    "        # print(html_lxmls)\n",
    "        result_list = []\n",
    "        for html_lxml in html_lxmls:\n",
    "            try:\n",
    "                html_lxml_temp = html_lxml.xpath('.//div[@class=\"storeG_info\"]')[0]\n",
    "                title  = html_lxml_temp.xpath('.//strong[@class=\"name\"]')[0].text_content().strip()\n",
    "                result = OrderedDict()  # 책정보 Area\n",
    "                result['title'] = title\n",
    "                result['image'] = html_lxml.xpath('.//div[@class=\"storeG_img\"]//img')[0].get('src')\n",
    "                info = [_.strip() for _ in html_lxml_temp.xpath('.//p[@class=\"storeG_pubGrp\"]')[0].text_content().split('|')]\n",
    "                result['publish']      = info[1]\n",
    "                result['publish_date'] = info[-1]\n",
    "                result['market'] = 'yes24'\n",
    "                result['area']  = self.area_code[str(code)]\n",
    "                result['area_info']  = html_lxml_temp.xpath('.//div[@class=\"storeG_loca\"]//dd')[0].text_content().strip()\n",
    "                result['area_price'] = html_lxml_temp.xpath('.//p[@class=\"storeG_price\"]')[0].text_content()\n",
    "                result_list.append(result)\n",
    "            except: pass\n",
    "        return result_list"
   ]
  },
  {
   "cell_type": "code",
   "execution_count": null,
   "metadata": {},
   "outputs": [],
   "source": [
    "yes24().get_items('재무제표')[:2]"
   ]
  },
  {
   "cell_type": "code",
   "execution_count": null,
   "metadata": {},
   "outputs": [],
   "source": []
  },
  {
   "cell_type": "code",
   "execution_count": null,
   "metadata": {},
   "outputs": [],
   "source": []
  },
  {
   "cell_type": "code",
   "execution_count": null,
   "metadata": {},
   "outputs": [],
   "source": []
  },
  {
   "cell_type": "code",
   "execution_count": 31,
   "metadata": {},
   "outputs": [],
   "source": [
    "# 아래 함수를 기능을 추가해서 decoration 해주는 함수\n",
    "def a_new_decorator(a_func):\n",
    "    # 함수 안에 함수를 정의하고 함수를 리턴한다\n",
    "    def wrapTheFunction(*args, **kwarg):\n",
    "        print(f\"a_func() 전처리 작업\")\n",
    "        a_func(*args, **kwarg) \n",
    "        print(f\"a_func() 후처리 작업\")\n",
    " \n",
    "    return wrapTheFunction"
   ]
  },
  {
   "cell_type": "code",
   "execution_count": 35,
   "metadata": {},
   "outputs": [
    {
     "name": "stdout",
     "output_type": "stream",
     "text": [
      "a_func() 전처리 작업\n",
      ">>> a_func(321123) 의 메인함수 처리 <<<\n",
      "a_func() 후처리 작업\n"
     ]
    }
   ],
   "source": [
    "# 콜백함수 전/후에 기능을 추가\n",
    "@a_new_decorator\n",
    "def a_function_requiring_decoration(num_1, num_2):\n",
    "    \"\"\"Hey you! Decorate me!\"\"\"\n",
    "    result = num_1 + num_2\n",
    "    print(f\">>> a_func({result}) 의 메인함수 처리 <<<\")\n",
    "\n",
    "a_function_requiring_decoration(\"321\", \"123\")"
   ]
  },
  {
   "cell_type": "code",
   "execution_count": null,
   "metadata": {},
   "outputs": [],
   "source": []
  },
  {
   "cell_type": "code",
   "execution_count": null,
   "metadata": {},
   "outputs": [],
   "source": []
  },
  {
   "cell_type": "code",
   "execution_count": null,
   "metadata": {},
   "outputs": [],
   "source": []
  },
  {
   "cell_type": "code",
   "execution_count": null,
   "metadata": {},
   "outputs": [],
   "source": []
  },
  {
   "cell_type": "code",
   "execution_count": null,
   "metadata": {},
   "outputs": [],
   "source": [
    "@name_decorator(\"데코레이터 함수 응용\")//요렇게 쓸수도 있지롱\n",
    "def add_a_b(a, b):"
   ]
  },
  {
   "cell_type": "code",
   "execution_count": null,
   "metadata": {},
   "outputs": [],
   "source": []
  },
  {
   "cell_type": "code",
   "execution_count": null,
   "metadata": {},
   "outputs": [],
   "source": []
  },
  {
   "cell_type": "markdown",
   "metadata": {},
   "source": [
    "# 나동빈 알고리즘 특강"
   ]
  },
  {
   "cell_type": "code",
   "execution_count": 5,
   "metadata": {},
   "outputs": [
    {
     "name": "stdout",
     "output_type": "stream",
     "text": [
      "[5, 7, 9, 0, 3, 1, 6, 2, 4, 8]\n",
      "[5, 7, 0, 9, 3, 1, 6, 2, 4, 8]\n",
      "[5, 0, 7, 9, 3, 1, 6, 2, 4, 8]\n",
      "[0, 5, 7, 9, 3, 1, 6, 2, 4, 8]\n",
      "[0, 5, 7, 3, 9, 1, 6, 2, 4, 8]\n",
      "[0, 5, 3, 7, 9, 1, 6, 2, 4, 8]\n",
      "[0, 3, 5, 7, 9, 1, 6, 2, 4, 8]\n",
      "[0, 3, 5, 7, 1, 9, 6, 2, 4, 8]\n",
      "[0, 3, 5, 1, 7, 9, 6, 2, 4, 8]\n",
      "[0, 3, 1, 5, 7, 9, 6, 2, 4, 8]\n",
      "[0, 1, 3, 5, 7, 9, 6, 2, 4, 8]\n",
      "[0, 1, 3, 5, 7, 6, 9, 2, 4, 8]\n",
      "[0, 1, 3, 5, 6, 7, 9, 2, 4, 8]\n",
      "[0, 1, 3, 5, 6, 7, 2, 9, 4, 8]\n",
      "[0, 1, 3, 5, 6, 2, 7, 9, 4, 8]\n",
      "[0, 1, 3, 5, 2, 6, 7, 9, 4, 8]\n",
      "[0, 1, 3, 2, 5, 6, 7, 9, 4, 8]\n",
      "[0, 1, 2, 3, 5, 6, 7, 9, 4, 8]\n",
      "[0, 1, 2, 3, 5, 6, 7, 4, 9, 8]\n",
      "[0, 1, 2, 3, 5, 6, 4, 7, 9, 8]\n",
      "[0, 1, 2, 3, 5, 4, 6, 7, 9, 8]\n",
      "[0, 1, 2, 3, 4, 5, 6, 7, 9, 8]\n",
      "[0, 1, 2, 3, 4, 5, 6, 7, 8, 9]\n",
      "[0, 1, 2, 3, 4, 5, 6, 7, 8, 9]\n"
     ]
    }
   ],
   "source": [
    "array = [7, 5, 9, 0, 3, 1, 6, 2, 4, 8]\n",
    "# array 특정 인덱스의 값 위치만 변경\n",
    "for i in range(1, len(array)):\n",
    "    for j in range(i, 0, -1): # 인덱스 i부터 1까지 1씩 감소하며 반복하는 문법\n",
    "        if array[j] < array[j - 1]: # 한 칸씩 왼쪽으로 이동 (array 배열 순서를 바꿈)\n",
    "            array[j], array[j - 1] = array[j - 1], array[j]\n",
    "            print(array)\n",
    "        else: # 자기보다 작은 데이터를 만나면 그 위치에서 멈춤\n",
    "            break\n",
    "                \n",
    "print(array)"
   ]
  },
  {
   "cell_type": "code",
   "execution_count": 8,
   "metadata": {},
   "outputs": [
    {
     "name": "stdout",
     "output_type": "stream",
     "text": [
      "[0, 1, 2, 3, 4, 5, 6, 7, 8, 9]\n"
     ]
    }
   ],
   "source": [
    "array = [5, 7, 9, 0, 3, 1, 6, 2, 4, 8]\n",
    "\n",
    "def quick_sort(array):# 리스트가 하나 이하의 원소만을 담고 있다면 종료\n",
    "    if len(array) <= 1:\n",
    "        return array\n",
    "    pivot = array[0] # 피벗은 첫 번째 원\n",
    "    tail = array[1:] # 피벗을 제외한 리스트\n",
    "    left_side = [x for x in tail if x <= pivot] # 분할된 왼쪽 부분\n",
    "    right_side = [x for x in tail if x > pivot] # 분할된 오른쪽 부분\n",
    "    \n",
    "    # 분할 이후 왼쪽 부분과 오른쪽 부분에서 각각 정렬 수행하고, 전체 리스트 반환\n",
    "    return quick_sort(left_side) + [pivot] + quick_sort(right_side)\n",
    "\n",
    "print(quick_sort(array))"
   ]
  },
  {
   "cell_type": "code",
   "execution_count": null,
   "metadata": {},
   "outputs": [],
   "source": []
  }
 ],
 "metadata": {
  "kernelspec": {
   "display_name": "Python 3",
   "language": "python",
   "name": "python3"
  },
  "language_info": {
   "codemirror_mode": {
    "name": "ipython",
    "version": 3
   },
   "file_extension": ".py",
   "mimetype": "text/x-python",
   "name": "python",
   "nbconvert_exporter": "python",
   "pygments_lexer": "ipython3",
   "version": "3.8.5"
  }
 },
 "nbformat": 4,
 "nbformat_minor": 4
}
