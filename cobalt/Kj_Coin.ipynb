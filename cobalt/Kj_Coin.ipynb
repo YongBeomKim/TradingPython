{
 "cells": [
  {
   "cell_type": "markdown",
   "metadata": {},
   "source": [
    "# **마을화폐 광 Crawling**\n",
    "## **1 Web Crawling**\n",
    "웹사이트 데이터 수집 및 전처리 작업"
   ]
  },
  {
   "cell_type": "code",
   "execution_count": 1,
   "metadata": {},
   "outputs": [],
   "source": [
    "# Crawling the Sites\n",
    "# http://o2o.maulo.kr/list/account/tradinglst/?pageNo=106&tradings=9\n",
    "from urllib import parse, request\n",
    "\n",
    "def kwangCoin(page:int):\n",
    "    r\"\"\"마을화폐 광 Crawling to Excel\n",
    "    http://o2o.maulo.kr/list/account/tradinglst/?pageNo=106&tradings=9\"\"\"\n",
    "    query = {\n",
    "        \"pageNo\":page, # 106,\n",
    "        \"qrSt\":\"tradinglst\",\n",
    "        \"hom_cd\":\"100000106\",\n",
    "        \"tradings\":9\n",
    "    }\n",
    "    url_query = parse.urlencode(query, encoding='utf-8', doseq=True)\n",
    "    url_head = \"http://o2o.maulo.kr/list/account/tradinglst/\"\n",
    "    browser = \"Mozilla/5.0 (Macintosh; Intel Mac OS X 10_7_3) AppleWebKit/534.55.3 (KHTML, like Gecko) Version/5.1.5 Safari/534.55.3\"\n",
    "    return request.urlopen(request.Request(url_head + \"?\" + url_query,\n",
    "        headers = {'User-Agent': browser})).read().decode('utf-8')"
   ]
  },
  {
   "cell_type": "code",
   "execution_count": 2,
   "metadata": {},
   "outputs": [],
   "source": [
    "# Filtering the Table\n",
    "import re\n",
    "import numpy as np\n",
    "from lxml import html\n",
    "\n",
    "def extractData(response):\n",
    "    result_data = []\n",
    "    tokens = re.findall('<td.*?>(.*?)<td>', response)\n",
    "    indexMax = np.argmax([len(_) for _ in tokens])\n",
    "    tokens = tokens[indexMax] # 가장 유효값 높은 자료 필터링\n",
    "    token_reg = '<tr onMouseOver=\"style.backgroundColor=(.*?)</tr>'\n",
    "\n",
    "    # Filtering the Cell Data\n",
    "    for datum in re.findall(token_reg, tokens):\n",
    "        datum = datum.replace(\"\\'f4f4f4\\'\", \"\")\n",
    "        datum = datum.replace(\"onMouseOut=\\\"style.backgroundColor=\\'\\'\", \"\")\n",
    "        datum = datum.replace(\"\\\" \\\">\", \"\")\n",
    "        html_lxml = html.fromstring(datum)\n",
    "        result_data.append(html_lxml.xpath(\"//text()\"))\n",
    "    return result_data"
   ]
  },
  {
   "cell_type": "code",
   "execution_count": 5,
   "metadata": {},
   "outputs": [
    {
     "data": {
      "text/plain": [
       "[['3176', '김**', '송금', '50,000', '0', '2020-09-22'],\n",
       " ['3175', '김**', '송금', '50,000', '0', '2020-09-22'],\n",
       " ['3174', '김**', '송금', '100,000', '0', '2020-09-22'],\n",
       " ['3173', '김**', '송금', '100,000', '0', '2020-09-22'],\n",
       " ['3172', '김**', '송금', '100,000', '0', '2020-09-22']]"
      ]
     },
     "execution_count": 5,
     "metadata": {},
     "output_type": "execute_result"
    }
   ],
   "source": [
    "response = kwangCoin(1)\n",
    "extractData(response)[:5]"
   ]
  },
  {
   "cell_type": "markdown",
   "metadata": {},
   "source": [
    "## **2 작업내용 CSV 저장하기**\n",
    "수집 및 전처리 함수의 실행"
   ]
  },
  {
   "cell_type": "code",
   "execution_count": 6,
   "metadata": {},
   "outputs": [
    {
     "name": "stderr",
     "output_type": "stream",
     "text": [
      "100%|██████████| 106/106 [04:39<00:00,  2.63s/it]\n"
     ]
    },
    {
     "data": {
      "text/html": [
       "<div>\n",
       "<style scoped>\n",
       "    .dataframe tbody tr th:only-of-type {\n",
       "        vertical-align: middle;\n",
       "    }\n",
       "\n",
       "    .dataframe tbody tr th {\n",
       "        vertical-align: top;\n",
       "    }\n",
       "\n",
       "    .dataframe thead th {\n",
       "        text-align: right;\n",
       "    }\n",
       "</style>\n",
       "<table border=\"1\" class=\"dataframe\">\n",
       "  <thead>\n",
       "    <tr style=\"text-align: right;\">\n",
       "      <th></th>\n",
       "      <th>0</th>\n",
       "      <th>1</th>\n",
       "      <th>2</th>\n",
       "      <th>3</th>\n",
       "      <th>4</th>\n",
       "      <th>5</th>\n",
       "    </tr>\n",
       "  </thead>\n",
       "  <tbody>\n",
       "    <tr>\n",
       "      <th>0</th>\n",
       "      <td>3176</td>\n",
       "      <td>김**</td>\n",
       "      <td>송금</td>\n",
       "      <td>50,000</td>\n",
       "      <td>0</td>\n",
       "      <td>2020-09-22</td>\n",
       "    </tr>\n",
       "    <tr>\n",
       "      <th>1</th>\n",
       "      <td>3175</td>\n",
       "      <td>김**</td>\n",
       "      <td>송금</td>\n",
       "      <td>50,000</td>\n",
       "      <td>0</td>\n",
       "      <td>2020-09-22</td>\n",
       "    </tr>\n",
       "    <tr>\n",
       "      <th>2</th>\n",
       "      <td>3174</td>\n",
       "      <td>김**</td>\n",
       "      <td>송금</td>\n",
       "      <td>100,000</td>\n",
       "      <td>0</td>\n",
       "      <td>2020-09-22</td>\n",
       "    </tr>\n",
       "  </tbody>\n",
       "</table>\n",
       "</div>"
      ],
      "text/plain": [
       "      0    1   2        3  4           5\n",
       "0  3176  김**  송금   50,000  0  2020-09-22\n",
       "1  3175  김**  송금   50,000  0  2020-09-22\n",
       "2  3174  김**  송금  100,000  0  2020-09-22"
      ]
     },
     "execution_count": 6,
     "metadata": {},
     "output_type": "execute_result"
    }
   ],
   "source": [
    "from tqdm import tqdm\n",
    "from time import sleep\n",
    "import pandas as pd\n",
    "result = []\n",
    "for num in tqdm(range(1, 107)):\n",
    "    sleep(0.5)\n",
    "    response = kwangCoin(num)\n",
    "    result += extractData(response)\n",
    "    \n",
    "result = pd.DataFrame(result)\n",
    "result.columns = ['index', \"buyer\", \"seller\", \"price\", \"saving\", \"date\"]"
   ]
  },
  {
   "cell_type": "code",
   "execution_count": 8,
   "metadata": {},
   "outputs": [
    {
     "data": {
      "text/html": [
       "<div>\n",
       "<style scoped>\n",
       "    .dataframe tbody tr th:only-of-type {\n",
       "        vertical-align: middle;\n",
       "    }\n",
       "\n",
       "    .dataframe tbody tr th {\n",
       "        vertical-align: top;\n",
       "    }\n",
       "\n",
       "    .dataframe thead th {\n",
       "        text-align: right;\n",
       "    }\n",
       "</style>\n",
       "<table border=\"1\" class=\"dataframe\">\n",
       "  <thead>\n",
       "    <tr style=\"text-align: right;\">\n",
       "      <th></th>\n",
       "      <th>index</th>\n",
       "      <th>buyer</th>\n",
       "      <th>seller</th>\n",
       "      <th>price</th>\n",
       "      <th>saving</th>\n",
       "      <th>date</th>\n",
       "    </tr>\n",
       "  </thead>\n",
       "  <tbody>\n",
       "    <tr>\n",
       "      <th>0</th>\n",
       "      <td>3176</td>\n",
       "      <td>김**</td>\n",
       "      <td>송금</td>\n",
       "      <td>50,000</td>\n",
       "      <td>0</td>\n",
       "      <td>2020-09-22</td>\n",
       "    </tr>\n",
       "    <tr>\n",
       "      <th>1</th>\n",
       "      <td>3175</td>\n",
       "      <td>김**</td>\n",
       "      <td>송금</td>\n",
       "      <td>50,000</td>\n",
       "      <td>0</td>\n",
       "      <td>2020-09-22</td>\n",
       "    </tr>\n",
       "    <tr>\n",
       "      <th>2</th>\n",
       "      <td>3174</td>\n",
       "      <td>김**</td>\n",
       "      <td>송금</td>\n",
       "      <td>100,000</td>\n",
       "      <td>0</td>\n",
       "      <td>2020-09-22</td>\n",
       "    </tr>\n",
       "  </tbody>\n",
       "</table>\n",
       "</div>"
      ],
      "text/plain": [
       "  index buyer seller    price saving        date\n",
       "0  3176   김**     송금   50,000      0  2020-09-22\n",
       "1  3175   김**     송금   50,000      0  2020-09-22\n",
       "2  3174   김**     송금  100,000      0  2020-09-22"
      ]
     },
     "execution_count": 8,
     "metadata": {},
     "output_type": "execute_result"
    }
   ],
   "source": [
    "result.columns = ['index', \"buyer\", \"seller\", \"price\", \"saving\", \"date\"]\n",
    "result.to_csv(\"coindata.csv\", index=None)\n",
    "result.head(3)"
   ]
  },
  {
   "cell_type": "code",
   "execution_count": null,
   "metadata": {},
   "outputs": [],
   "source": []
  }
 ],
 "metadata": {
  "kernelspec": {
   "display_name": "Python 3",
   "language": "python",
   "name": "python3"
  },
  "language_info": {
   "codemirror_mode": {
    "name": "ipython",
    "version": 3
   },
   "file_extension": ".py",
   "mimetype": "text/x-python",
   "name": "python",
   "nbconvert_exporter": "python",
   "pygments_lexer": "ipython3",
   "version": "3.6.9"
  }
 },
 "nbformat": 4,
 "nbformat_minor": 4
}
