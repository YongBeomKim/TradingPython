{
 "cells": [
  {
   "cell_type": "markdown",
   "id": "artistic-advertising",
   "metadata": {},
   "source": [
    "# **공고문 수집기**\n",
    "- 간단한 방법으로 작업들을 진행하기"
   ]
  },
  {
   "cell_type": "code",
   "execution_count": 1,
   "id": "juvenile-mediterranean",
   "metadata": {},
   "outputs": [
    {
     "data": {
      "text/plain": [
       "{'나라장터': 'http://www.g2b.go.kr/index.jsp',\n",
       " '이나라도움': 'https://www.gosims.go.kr/hg/hg002/retrieveTaskSearchTop.do',\n",
       " '창업진흥원': 'https://www.k-startup.go.kr/main.do',\n",
       " '산업통상자원부': 'https://www.k-pass.kr/notice/ancList.do',\n",
       " '우리은행보조금시스템': 'https://ssd.wooribank.com/seoul/',\n",
       " '소상공인시장진흥공단': 'https://www.semas.or.kr/web/board/webBoardList.kmdc?bCd=1&pNm=BOA0101',\n",
       " '한국사회적기업진흥원': 'https://www.socialenterprise.or.kr/index.do#m_notice',\n",
       " '광진구청': 'https://www.gwangjin.go.kr/portal/bbs/B0000003/list.do?menuNo=200192',\n",
       " '서울50플러스 포털': 'https://www.50plus.or.kr/support.do',\n",
       " '서울시사회적경제지원센터': 'https://sehub.net/archives/category/alarm/opencat'}"
      ]
     },
     "execution_count": 1,
     "metadata": {},
     "output_type": "execute_result"
    }
   ],
   "source": [
    "import pandas as pd\n",
    "table = pd.read_csv('data/busineSite.csv').iloc[:,:-1]\n",
    "table = table.set_index('구분')\n",
    "table['사이트'].to_dict()"
   ]
  },
  {
   "cell_type": "code",
   "execution_count": 2,
   "id": "integral-brunswick",
   "metadata": {},
   "outputs": [],
   "source": [
    "from lxml.html import fromstring, tostring\n",
    "import requests\n",
    "\n",
    "def get_response(url):\n",
    "    web_agent = 'Mozilla/5.0 (Windows NT 6.1) AppleWebKit/537.2 (KHTML, like Gecko) Chrome/22.0.1216.0 Safari/537.2'\n",
    "    headers = {'User-Agent' : web_agent}\n",
    "    response = requests.get(url, headers=headers, verify=False)\n",
    "    resp_lxml = fromstring(response.text)\n",
    "    return response.text, resp_lxml"
   ]
  },
  {
   "cell_type": "markdown",
   "id": "emotional-notion",
   "metadata": {},
   "source": [
    "# **서울시 사경센터 공고**\n",
    "https://sehub.net/archives/category/alarm/opencat/page/1"
   ]
  },
  {
   "cell_type": "code",
   "execution_count": 3,
   "id": "matched-springer",
   "metadata": {},
   "outputs": [
    {
     "data": {
      "text/html": [
       "<div>\n",
       "<style scoped>\n",
       "    .dataframe tbody tr th:only-of-type {\n",
       "        vertical-align: middle;\n",
       "    }\n",
       "\n",
       "    .dataframe tbody tr th {\n",
       "        vertical-align: top;\n",
       "    }\n",
       "\n",
       "    .dataframe thead th {\n",
       "        text-align: right;\n",
       "    }\n",
       "</style>\n",
       "<table border=\"1\" class=\"dataframe\">\n",
       "  <thead>\n",
       "    <tr style=\"text-align: right;\">\n",
       "      <th></th>\n",
       "      <th>번호</th>\n",
       "      <th>제목</th>\n",
       "      <th>link</th>\n",
       "      <th>작성일</th>\n",
       "      <th>주최/주관</th>\n",
       "    </tr>\n",
       "  </thead>\n",
       "  <tbody>\n",
       "    <tr>\n",
       "      <th>0</th>\n",
       "      <td>4588</td>\n",
       "      <td>[안내] 청년등 협동조합 창업지원사업 창업팀 모집 공고 (~5.6)</td>\n",
       "      <td>https://sehub.net/archives/2065278</td>\n",
       "      <td>2021-04-16</td>\n",
       "      <td>HBM협동조합</td>\n",
       "    </tr>\n",
       "    <tr>\n",
       "      <th>1</th>\n",
       "      <td>4587</td>\n",
       "      <td>[안내] 사회적기업가 육성사업 환경분야 예비창업팀 모집 공고 (~5.28)</td>\n",
       "      <td>https://sehub.net/archives/2065256</td>\n",
       "      <td>2021-04-16</td>\n",
       "      <td>한국사회적기업 진흥원 / 신나는조합</td>\n",
       "    </tr>\n",
       "    <tr>\n",
       "      <th>2</th>\n",
       "      <td>4586</td>\n",
       "      <td>[안내] 단비 대학생 아이디어 경진대회 개최 (~4.22)</td>\n",
       "      <td>https://sehub.net/archives/2065239</td>\n",
       "      <td>2021-04-15</td>\n",
       "      <td>비전웍스</td>\n",
       "    </tr>\n",
       "  </tbody>\n",
       "</table>\n",
       "</div>"
      ],
      "text/plain": [
       "     번호                                         제목  \\\n",
       "0  4588      [안내] 청년등 협동조합 창업지원사업 창업팀 모집 공고 (~5.6)   \n",
       "1  4587  [안내] 사회적기업가 육성사업 환경분야 예비창업팀 모집 공고 (~5.28)   \n",
       "2  4586           [안내] 단비 대학생 아이디어 경진대회 개최 (~4.22)   \n",
       "\n",
       "                                 link         작성일                주최/주관  \n",
       "0  https://sehub.net/archives/2065278  2021-04-16              HBM협동조합  \n",
       "1  https://sehub.net/archives/2065256  2021-04-16  한국사회적기업 진흥원 / 신나는조합  \n",
       "2  https://sehub.net/archives/2065239  2021-04-15                 비전웍스  "
      ]
     },
     "execution_count": 3,
     "metadata": {},
     "output_type": "execute_result"
    }
   ],
   "source": [
    "url = 'https://sehub.net/archives/category/alarm/opencat/page/1'\n",
    "\n",
    "# Url\n",
    "import requests\n",
    "web_agent = 'Mozilla/5.0 (Windows NT 6.1) AppleWebKit/537.2 (KHTML, like Gecko) Chrome/22.0.1216.0 Safari/537.2'\n",
    "headers = {'User-Agent' : web_agent}\n",
    "response = requests.get(url, headers=headers)\n",
    "response.encoding = 'utf-8'\n",
    "response_text = response.text\n",
    "\n",
    "from lxml.html import fromstring, tostring\n",
    "resp_lxml = fromstring(response_text)\n",
    "resp_table = resp_lxml.xpath(\"//table\")[0]\n",
    "table = pd.read_html(tostring(resp_table))[0]\n",
    "\n",
    "link_urls = [_.get('href')  for _ in resp_table.xpath('.//a')]\n",
    "table.insert(2,'link', link_urls)\n",
    "\n",
    "index_filter = [no   for no, _ in enumerate(table['번호'].to_list())  if _ != '알림']\n",
    "table = table.iloc[index_filter, :].reset_index(drop=True)\n",
    "table.head(3)"
   ]
  },
  {
   "cell_type": "markdown",
   "id": "unlikely-strip",
   "metadata": {},
   "source": [
    "# **50플러스 공고**\n",
    "- https://www.50plus.or.kr/support.do?page=2&\n",
    "- lxml document links : http://i5on9i.blogspot.com/2017/03/lxml.html "
   ]
  },
  {
   "cell_type": "code",
   "execution_count": 4,
   "id": "rapid-breakdown",
   "metadata": {},
   "outputs": [
    {
     "data": {
      "text/html": [
       "<div>\n",
       "<style scoped>\n",
       "    .dataframe tbody tr th:only-of-type {\n",
       "        vertical-align: middle;\n",
       "    }\n",
       "\n",
       "    .dataframe tbody tr th {\n",
       "        vertical-align: top;\n",
       "    }\n",
       "\n",
       "    .dataframe thead th {\n",
       "        text-align: right;\n",
       "    }\n",
       "</style>\n",
       "<table border=\"1\" class=\"dataframe\">\n",
       "  <thead>\n",
       "    <tr style=\"text-align: right;\">\n",
       "      <th></th>\n",
       "      <th>일자</th>\n",
       "      <th>제목</th>\n",
       "      <th>설명</th>\n",
       "      <th>link</th>\n",
       "    </tr>\n",
       "  </thead>\n",
       "  <tbody>\n",
       "    <tr>\n",
       "      <th>0</th>\n",
       "      <td>2021-04-16</td>\n",
       "      <td>[서부][모집] 2021년 신중년커리어프로젝트 굿잡5060 참여자 모집</td>\n",
       "      <td>2021년 신중년커리어프로젝트 굿잡5060 참여자 모집 안내</td>\n",
       "      <td>https://www.50plus.or.kr/detail.do?id=10584887</td>\n",
       "    </tr>\n",
       "    <tr>\n",
       "      <th>1</th>\n",
       "      <td>2021-04-16</td>\n",
       "      <td>[남부]『50+다문화학습지원단』 최종합격자 발표 및 참여자 교육 안내</td>\n",
       "      <td>『50+다문화학습지원단』 최종합격자 발표 및 참여자 교육을 안내해드립니다.</td>\n",
       "      <td>https://www.50plus.or.kr/detail.do?id=11614619</td>\n",
       "    </tr>\n",
       "    <tr>\n",
       "      <th>2</th>\n",
       "      <td>2021-04-15</td>\n",
       "      <td>[노원]2021 서울50+인턴십 [노원50+지역사회브릿지 인턴십] 참여자 모집 공고</td>\n",
       "      <td>50+지역사회브릿지 인턴십 참여자 모집안내입니다.</td>\n",
       "      <td>https://www.50plus.or.kr/detail.do?id=11620587</td>\n",
       "    </tr>\n",
       "  </tbody>\n",
       "</table>\n",
       "</div>"
      ],
      "text/plain": [
       "           일자                                              제목  \\\n",
       "0  2021-04-16         [서부][모집] 2021년 신중년커리어프로젝트 굿잡5060 참여자 모집   \n",
       "1  2021-04-16          [남부]『50+다문화학습지원단』 최종합격자 발표 및 참여자 교육 안내   \n",
       "2  2021-04-15  [노원]2021 서울50+인턴십 [노원50+지역사회브릿지 인턴십] 참여자 모집 공고   \n",
       "\n",
       "                                          설명  \\\n",
       "0          2021년 신중년커리어프로젝트 굿잡5060 참여자 모집 안내   \n",
       "1  『50+다문화학습지원단』 최종합격자 발표 및 참여자 교육을 안내해드립니다.   \n",
       "2                50+지역사회브릿지 인턴십 참여자 모집안내입니다.   \n",
       "\n",
       "                                             link  \n",
       "0  https://www.50plus.or.kr/detail.do?id=10584887  \n",
       "1  https://www.50plus.or.kr/detail.do?id=11614619  \n",
       "2  https://www.50plus.or.kr/detail.do?id=11620587  "
      ]
     },
     "execution_count": 4,
     "metadata": {},
     "output_type": "execute_result"
    }
   ],
   "source": [
    "page = 1\n",
    "url = f\"https://www.50plus.or.kr/support.do?page={page}\"\n",
    "\n",
    "from requests_html import HTMLSession\n",
    "session = HTMLSession()\n",
    "response = session.get(url).text\n",
    "\n",
    "from lxml.html import fromstring, tostring\n",
    "resp_lxml = fromstring(response)\n",
    "resp_texts = resp_lxml.xpath('//div[@class=\"board-box-wrapper\"]')\n",
    "\n",
    "# https://www.50plus.or.kr/detail.do?id=11554019\n",
    "table_infos = []\n",
    "for _ in resp_texts:\n",
    "    info_items = _.xpath('.//p//text()')[:3]\n",
    "    info_url = [_.get('href') for _ in _.xpath('.//a')][0]\n",
    "    table_infos.append(info_items + [\"https://www.50plus.or.kr/\"+ info_url])\n",
    "\n",
    "table = pd.DataFrame(table_infos)\n",
    "table = table.iloc[:, [1,0,2,3]]\n",
    "table.columns = ['일자','제목', '설명', 'link']\n",
    "table.head(3)"
   ]
  },
  {
   "cell_type": "markdown",
   "id": "military-affect",
   "metadata": {},
   "source": [
    "# **e나라도움**\n",
    "나라장터와 연관되어 사업내용을 확인하는 곳으로 주로 정산등의 작업에 활용 (겹치는 내용 여부는 확인해 볼 것)\n",
    "\n",
    "- https://www.gosims.go.kr/hg/hg002/retrieveTaskReqstList.do\n",
    "- https://www.gosims.go.kr/manual/ver2/4-9.%EC%A0%84%EC%B2%B4%EB%A9%94%EB%89%B4%EC%96%BC.pdf"
   ]
  },
  {
   "cell_type": "code",
   "execution_count": 5,
   "id": "reduced-backing",
   "metadata": {},
   "outputs": [
    {
     "ename": "SyntaxError",
     "evalue": "EOL while scanning string literal (<ipython-input-5-b2de92bfdcef>, line 1)",
     "output_type": "error",
     "traceback": [
      "\u001b[0;36m  File \u001b[0;32m\"<ipython-input-5-b2de92bfdcef>\"\u001b[0;36m, line \u001b[0;32m1\u001b[0m\n\u001b[0;31m    mid=0\"\u001b[0m\n\u001b[0m          ^\u001b[0m\n\u001b[0;31mSyntaxError\u001b[0m\u001b[0;31m:\u001b[0m EOL while scanning string literal\n"
     ]
    }
   ],
   "source": [
    "mid=0\"\n",
    "bid\t\"701\"\n",
    "pageIndex\t\"1\""
   ]
  },
  {
   "cell_type": "code",
   "execution_count": null,
   "id": "falling-setting",
   "metadata": {},
   "outputs": [],
   "source": []
  },
  {
   "cell_type": "code",
   "execution_count": null,
   "id": "administrative-sherman",
   "metadata": {},
   "outputs": [],
   "source": [
    "https://www.k-startup.go.kr/common/announcement/announcementDetail.do?bid=701&mid=0&searchAppAt=A&searchPrefixCode=BOARD_701_001&searchPostSn=131333&searchBusinessSn=583&"
   ]
  },
  {
   "cell_type": "code",
   "execution_count": null,
   "id": "interior-template",
   "metadata": {},
   "outputs": [],
   "source": []
  },
  {
   "cell_type": "code",
   "execution_count": null,
   "id": "irish-criticism",
   "metadata": {},
   "outputs": [],
   "source": []
  },
  {
   "cell_type": "markdown",
   "id": "small-baseline",
   "metadata": {},
   "source": [
    "# **K-Start up**\n",
    "\n",
    "- https://www.k-startup.go.kr/common/announcement/announcementDetail.do?bid=701&mid=0&searchAppAt=A&searchPrefixCode=BOARD_701_001&searchPostSn=131333&searchBusinessSn=583&\n",
    "\n",
    "- https://www.k-startup.go.kr/common/announcement/announcementList.do?bid=701&searchAppAt=A\n",
    "- https://www.k-startup.go.kr/common/announcement/announcementList.do?mid=30004&bid=701&searchAppAt=A\n",
    "- https://www.k-startup.go.kr/common/announcement/announcementList.do?bid=701&searchAppAt=A&searchSortOrder=END_DATE   (마감일 정렬)\n",
    "- https://www.k-startup.go.kr/common/announcement/announcementList.do?bid=701&searchAppAt=A&searchSortOrder=INSERT_DATE   (등록일 정렬)\n",
    "```\n",
    "<div class=\"ann_list_box\">\t\t\t\t\t\n",
    "   <div class=\"list_total\">전체건수<span>177</span>건</div>\n",
    "   <div class=\"list_aling\">\n",
    "```"
   ]
  },
  {
   "cell_type": "code",
   "execution_count": 42,
   "id": "acquired-banks",
   "metadata": {},
   "outputs": [
    {
     "data": {
      "text/plain": [
       "'hypProduct_10'"
      ]
     },
     "execution_count": 42,
     "metadata": {},
     "output_type": "execute_result"
    }
   ],
   "source": [
    "from lxml.html import fromstring\n",
    "data = '<a id=\"hypProduct_10\">link1</a>'\n",
    "tree = fromstring(data)\n",
    "tree.xpath('//a[re:test(@id, \"^hypProduct_[0-9]+$\")]', namespaces={'re': \"http://exslt.org/regular-expressions\"})[0].attrib[\"id\"]"
   ]
  },
  {
   "cell_type": "code",
   "execution_count": 43,
   "id": "pacific-sherman",
   "metadata": {},
   "outputs": [
    {
     "name": "stderr",
     "output_type": "stream",
     "text": [
      "/home/momukji/Python/Torch/lib/python3.6/site-packages/urllib3/connectionpool.py:1020: InsecureRequestWarning: Unverified HTTPS request is being made to host 'www.k-startup.go.kr'. Adding certificate verification is strongly advised. See: https://urllib3.readthedocs.io/en/latest/advanced-usage.html#ssl-warnings\n",
      "  InsecureRequestWarning,\n"
     ]
    }
   ],
   "source": [
    "from lxml.html import tostring\n",
    "url = \"https://www.k-startup.go.kr/common/announcement/announcementList.do?bid=701&searchAppAt=A&searchSortOrder=INSERT_DATE\"\n",
    "resp, resp_lxml = get_response(url)\n",
    "# resp"
   ]
  },
  {
   "cell_type": "code",
   "execution_count": 44,
   "id": "nominated-genetics",
   "metadata": {},
   "outputs": [
    {
     "data": {
      "text/plain": [
       "180"
      ]
     },
     "execution_count": 44,
     "metadata": {},
     "output_type": "execute_result"
    }
   ],
   "source": [
    "resp_lxml.xpath('.//div[@class=\"ann_list_box\"]')\n",
    "items = resp_lxml.xpath('.//ul[@class=\"ann_list_impor\"]/li')   # 주요안내 19개\n",
    "items += resp_lxml.xpath('.//ul[@class=\"ann_list\"]/li')        # 나머지 161개\n",
    "len(items)"
   ]
  },
  {
   "cell_type": "code",
   "execution_count": 50,
   "id": "million-daily",
   "metadata": {},
   "outputs": [
    {
     "data": {
      "text/plain": [
       "'사업화'"
      ]
     },
     "execution_count": 50,
     "metadata": {},
     "output_type": "execute_result"
    }
   ],
   "source": [
    "\"\".join(items[10].xpath('.//h4/span[1]//text()'))"
   ]
  },
  {
   "cell_type": "code",
   "execution_count": 49,
   "id": "empty-haiti",
   "metadata": {},
   "outputs": [
    {
     "data": {
      "text/plain": [
       "'2021년 예비창업패키지 일반·특화 분야 예비창업자 모집 공고'"
      ]
     },
     "execution_count": 49,
     "metadata": {},
     "output_type": "execute_result"
    }
   ],
   "source": [
    "\"\".join(items[10].xpath('.//a//text()')).strip()"
   ]
  },
  {
   "cell_type": "code",
   "execution_count": 56,
   "id": "juvenile-white",
   "metadata": {},
   "outputs": [
    {
     "data": {
      "text/plain": [
       "[<Element li at 0x7f6250874d18>,\n",
       " <Element li at 0x7f6250874d68>,\n",
       " <Element li at 0x7f6250874c78>,\n",
       " <Element li at 0x7f6250874db8>]"
      ]
     },
     "execution_count": 56,
     "metadata": {},
     "output_type": "execute_result"
    }
   ],
   "source": [
    "#  //a[contains(@class, \"song\")]\n",
    "item_info = items[10].xpath('.//ul[contains(@class,\"ann_list_info\")]//li')\n",
    "fo"
   ]
  },
  {
   "cell_type": "code",
   "execution_count": null,
   "id": "changing-policy",
   "metadata": {},
   "outputs": [],
   "source": []
  },
  {
   "cell_type": "code",
   "execution_count": null,
   "id": "requested-trading",
   "metadata": {},
   "outputs": [],
   "source": []
  },
  {
   "cell_type": "code",
   "execution_count": null,
   "id": "daily-minnesota",
   "metadata": {},
   "outputs": [],
   "source": []
  },
  {
   "cell_type": "code",
   "execution_count": null,
   "id": "quiet-kernel",
   "metadata": {},
   "outputs": [],
   "source": [
    "# ann_list_group01 "
   ]
  },
  {
   "cell_type": "code",
   "execution_count": null,
   "id": "integral-disney",
   "metadata": {},
   "outputs": [],
   "source": []
  },
  {
   "cell_type": "code",
   "execution_count": null,
   "id": "bizarre-enclosure",
   "metadata": {},
   "outputs": [],
   "source": []
  },
  {
   "cell_type": "code",
   "execution_count": 36,
   "id": "attractive-fraction",
   "metadata": {},
   "outputs": [
    {
     "data": {
      "text/plain": [
       "'hypProduct_10'"
      ]
     },
     "execution_count": 36,
     "metadata": {},
     "output_type": "execute_result"
    }
   ],
   "source": [
    "from lxml.html import fromstring\n",
    "data = '<a id=\"hypProduct_10\">link1</a>'\n",
    "tree = fromstring(data)\n",
    "tree.xpath('//a[re:test(@id, \"^hypProduct_[0-9]+$\")]', namespaces={'re': \"http://exslt.org/regular-expressions\"})[0].attrib[\"id\"]"
   ]
  },
  {
   "cell_type": "code",
   "execution_count": 41,
   "id": "detected-cartoon",
   "metadata": {},
   "outputs": [
    {
     "data": {
      "text/plain": [
       "b'<a id=\"hypProduct_10\">link1</a>'"
      ]
     },
     "execution_count": 41,
     "metadata": {},
     "output_type": "execute_result"
    }
   ],
   "source": [
    "tostring(tree.xpath('//a[re:test(@id, \"^hypProduct_[0-9]+$\")]',namespaces={'re': \"http://exslt.org/regular-expressions\"})[0])"
   ]
  },
  {
   "cell_type": "code",
   "execution_count": null,
   "id": "artistic-richmond",
   "metadata": {},
   "outputs": [],
   "source": []
  },
  {
   "cell_type": "code",
   "execution_count": null,
   "id": "oriental-winter",
   "metadata": {},
   "outputs": [],
   "source": []
  },
  {
   "cell_type": "code",
   "execution_count": null,
   "id": "productive-space",
   "metadata": {},
   "outputs": [],
   "source": []
  },
  {
   "cell_type": "code",
   "execution_count": 19,
   "id": "regular-oxford",
   "metadata": {},
   "outputs": [
    {
     "data": {
      "text/plain": [
       "['사업화', '마감19일전', '\\xa0']"
      ]
     },
     "execution_count": 19,
     "metadata": {},
     "output_type": "execute_result"
    }
   ],
   "source": [
    "items[0].xpath('.//h4//span//text()')"
   ]
  },
  {
   "cell_type": "code",
   "execution_count": 20,
   "id": "disciplinary-vanilla",
   "metadata": {},
   "outputs": [
    {
     "data": {
      "text/plain": [
       "['\\r\\n\\t\\t\\t\\t\\t\\t\\t',\n",
       " '\\r\\n\\t\\t\\t\\t\\t\\t\\t\\t',\n",
       " '사업화',\n",
       " '\\r\\n\\t\\t\\t\\t\\t\\t\\t\\t\\r\\n\\t\\t\\t\\t\\t\\t\\t\\t',\n",
       " '마감11일전',\n",
       " '\\r\\n\\t\\t\\t\\t\\t\\t\\t\\t\\r\\n\\t\\t\\t\\t\\t\\t\\t\\t\\r\\n\\t\\t\\t\\t\\t\\t\\t\\t\\r\\n\\t\\t\\t\\t\\t\\t\\t\\t\\t\\r\\n\\t\\t\\t\\t\\t\\t\\t\\t\\t\\r\\n\\t\\t\\t\\t\\t\\t\\t\\t\\t\\r\\n\\t\\t\\t\\t\\t\\t\\t\\t\\t\\r\\n\\t\\t\\t\\t\\t\\t\\t\\t\\t',\n",
       " '\\r\\n\\t\\t\\t\\t\\t\\t\\t\\t\\t\\t',\n",
       " '\\r\\n\\t\\t\\t\\t\\t\\t\\t\\t\\t\\t「IP기반 청년창업지원」 - 테크톤(Techthon) 모집공고\\r\\n\\t\\t\\t\\t\\t\\t\\t\\t\\t',\n",
       " '\\r\\n\\t\\t\\t\\t\\t\\t\\t\\t\\t\\r\\n\\t\\t\\t\\t\\t\\t\\t\\t\\t\\t\\r\\n\\t\\t\\t\\t\\t\\t\\t\\t\\t\\t\\r\\n\\t\\t\\t\\t\\t\\t\\t\\t\\t\\t\\r\\n\\t\\t\\t\\t\\t\\t\\t\\t\\t\\t\\t',\n",
       " '신청하기',\n",
       " '\\r\\n\\t\\t\\t\\t\\t\\t\\t\\t\\t\\t\\r\\n\\t\\t\\t\\t\\t\\t\\t\\t\\t\\t\\r\\n\\t\\t\\t\\t\\t\\t\\t\\t\\t\\r\\n\\t\\t\\t\\t\\t\\t\\t\\t\\t',\n",
       " '\\r\\n\\t\\t\\t\\t\\t\\t\\t\\t\\t\\r\\n\\t\\t\\t\\t\\t\\t\\t\\t\\r\\n\\t\\t\\t\\t\\t\\t\\t\\t\\r\\n\\t\\t\\t\\t\\t\\t\\t\\t\\t',\n",
       " '\\xa0',\n",
       " '\\r\\n\\t\\t\\t\\t\\t\\t\\t\\t\\r\\n\\r\\n\\t\\t\\t\\t\\t\\t\\t',\n",
       " '\\r\\n\\t\\t\\t\\t\\t\\t\\t',\n",
       " '\\r\\n\\t\\t\\t\\t\\t\\t\\t\\t',\n",
       " 'IP기반 청년창업지원',\n",
       " '\\r\\n\\t\\t\\t\\t\\t\\t\\t\\t',\n",
       " '차세대융합기술연구원',\n",
       " '\\r\\n\\t\\t\\t\\t\\t\\t\\t\\t\\r\\n\\t\\t\\t\\t\\t\\t\\t\\t',\n",
       " '마감일자\\xa0\\xa02021-04-27',\n",
       " '\\r\\n\\t\\t\\t\\t\\t\\t\\t\\t\\r\\n\\t\\t\\t\\t\\t\\t\\t\\t\\r\\n\\t\\t\\t\\t\\t\\t\\t\\t',\n",
       " '조회\\xa0308',\n",
       " '\\r\\n\\t\\t\\t\\t\\t\\t\\t\\t\\r\\n\\t\\t\\t\\t\\t\\t\\t',\n",
       " '\\t\\t\\t\\t\\t\\t\\r\\n\\t\\t\\t\\t\\t\\t']"
      ]
     },
     "execution_count": 20,
     "metadata": {},
     "output_type": "execute_result"
    }
   ],
   "source": [
    "items[18].xpath('.//text()')"
   ]
  },
  {
   "cell_type": "code",
   "execution_count": null,
   "id": "quarterly-compensation",
   "metadata": {},
   "outputs": [],
   "source": [
    "https://www.k-startup.go.kr/common/announcement/announcementDetail.do?bid=701&mid=0&searchAppAt=A&searchPrefixCode=BOARD_701_001&searchPostSn=131520"
   ]
  },
  {
   "cell_type": "code",
   "execution_count": null,
   "id": "bound-prince",
   "metadata": {},
   "outputs": [],
   "source": []
  },
  {
   "cell_type": "code",
   "execution_count": null,
   "id": "former-buffalo",
   "metadata": {},
   "outputs": [],
   "source": []
  },
  {
   "cell_type": "code",
   "execution_count": null,
   "id": "wanted-prayer",
   "metadata": {},
   "outputs": [],
   "source": [
    "https://www.k-startup.go.kr/common/announcement/announcementDetail.do?bid=701&mid=0&searchAppAt=A\n",
    "    &searchPrefixCode=BOARD_701_001\n",
    "    &searchPostSn=131520\n",
    "    &searchBusinessSn=583&"
   ]
  },
  {
   "cell_type": "code",
   "execution_count": 21,
   "id": "entertaining-croatia",
   "metadata": {},
   "outputs": [
    {
     "data": {
      "text/plain": [
       "(('BOARD_701_001', '132713', '', '', '0', '671', '_self'),\n",
       " ['BOARD_701_001', '132713', '671'])"
      ]
     },
     "execution_count": 21,
     "metadata": {},
     "output_type": "execute_result"
    }
   ],
   "source": [
    "# https://www.k-startup.go.kr/common/announcement/announcementDetail.do?bid=701&mid=0&searchAppAt=A\n",
    "#     &searchPrefixCode=BOARD_701_001\n",
    "#     &searchPostSn=131333\n",
    "#     &searchBusinessSn=583&\n",
    "\n",
    "import re\n",
    "item_link = items[5].xpath('.//a')[0]\n",
    "item_link = item_link.get('href')                # javascript Link 함수 찾기\n",
    "item_link = re.findall(r'\\(.*\\)', item_link)[0]  # javascript 함수내 Params 찾기\n",
    "item_link = item_link.replace('(','').replace(')','').replace(\"'\", '')  # 불필요한 요소들 제거\n",
    "item_link = tuple(map(str, item_link.split(', ')))\n",
    "item_link_query = [_ for _ in item_link  if _ not in ['', '0', '_self']]\n",
    "item_link, item_link_query"
   ]
  },
  {
   "cell_type": "code",
   "execution_count": null,
   "id": "simplified-shoulder",
   "metadata": {},
   "outputs": [],
   "source": [
    "# https://www.k-startup.go.kr/common/announcement/announcementDetail.do?bid=701&mid=0&searchAppAt=A\n",
    "#     &searchPrefixCode=BOARD_701_001\n",
    "#     &searchPostSn=131333\n",
    "#     &searchBusinessSn=583&\n",
    "\n",
    "import re\n",
    "item_link = items[5].xpath('.//a')[0]\n",
    "item_link = item_link.get('href')                # javascript Link 함수 찾기\n",
    "item_link = re.findall(r'\\(.*\\)', item_link)[0]  # javascript 함수내 Params 찾기\n",
    "item_link = item_link.replace('(','').replace(')','').replace(\"'\", '')  # 불필요한 요소들 제거\n",
    "item_link = tuple(map(str, item_link.split(', ')))\n",
    "item_link_query = [_ for _ in res  if _ not in ['', '0', '_self']]\n",
    "item_link_query"
   ]
  },
  {
   "cell_type": "code",
   "execution_count": null,
   "id": "faced-possibility",
   "metadata": {},
   "outputs": [],
   "source": [
    "item_title = items[4].xpath('.//text()')\n",
    "\"\".join(item_title).strip()"
   ]
  },
  {
   "cell_type": "code",
   "execution_count": null,
   "id": "convenient-burner",
   "metadata": {},
   "outputs": [],
   "source": [
    "res[0]"
   ]
  },
  {
   "cell_type": "code",
   "execution_count": null,
   "id": "imposed-tucson",
   "metadata": {},
   "outputs": [],
   "source": []
  },
  {
   "cell_type": "code",
   "execution_count": null,
   "id": "gentle-screening",
   "metadata": {},
   "outputs": [],
   "source": []
  },
  {
   "cell_type": "code",
   "execution_count": null,
   "id": "amino-mortgage",
   "metadata": {},
   "outputs": [],
   "source": [
    "item_links"
   ]
  },
  {
   "cell_type": "code",
   "execution_count": null,
   "id": "hourly-denver",
   "metadata": {},
   "outputs": [],
   "source": []
  },
  {
   "cell_type": "code",
   "execution_count": null,
   "id": "three-carnival",
   "metadata": {},
   "outputs": [],
   "source": [
    "searchPrefixCode=BOARD_701_001&searchPostSn=131333&searchBusinessSn=583&\n"
   ]
  },
  {
   "cell_type": "code",
   "execution_count": null,
   "id": "loose-designer",
   "metadata": {},
   "outputs": [],
   "source": [
    "javascript:itemSelect('BOARD_701_001', '131333', '', '', '0', '583', '_self')"
   ]
  },
  {
   "cell_type": "code",
   "execution_count": null,
   "id": "incredible-belief",
   "metadata": {},
   "outputs": [],
   "source": [
    "searchPrefixCode\t\"BOARD_701_001\"\n",
    "searchPostSn\t\"131333\"\n",
    "searchBusinessSn\t\"583\""
   ]
  },
  {
   "cell_type": "code",
   "execution_count": null,
   "id": "visible-jaguar",
   "metadata": {},
   "outputs": [],
   "source": [
    "items[0].xpath('.//h4//a//text()')"
   ]
  },
  {
   "cell_type": "code",
   "execution_count": null,
   "id": "falling-farmer",
   "metadata": {},
   "outputs": [],
   "source": [
    "items[0].xpath('.//text()')"
   ]
  },
  {
   "cell_type": "code",
   "execution_count": null,
   "id": "boolean-hygiene",
   "metadata": {},
   "outputs": [],
   "source": []
  },
  {
   "cell_type": "code",
   "execution_count": null,
   "id": "antique-dispute",
   "metadata": {},
   "outputs": [],
   "source": []
  },
  {
   "cell_type": "code",
   "execution_count": null,
   "id": "professional-favorite",
   "metadata": {},
   "outputs": [],
   "source": []
  },
  {
   "cell_type": "code",
   "execution_count": null,
   "id": "homeless-maria",
   "metadata": {},
   "outputs": [],
   "source": []
  },
  {
   "cell_type": "code",
   "execution_count": null,
   "id": "geographic-consciousness",
   "metadata": {},
   "outputs": [],
   "source": []
  },
  {
   "cell_type": "code",
   "execution_count": null,
   "id": "robust-amino",
   "metadata": {},
   "outputs": [],
   "source": []
  },
  {
   "cell_type": "markdown",
   "id": "timely-liver",
   "metadata": {},
   "source": [
    "# **산업통산자원부**\n",
    "https://www.k-pass.kr/notice/ancList.do?pageIndex=1"
   ]
  },
  {
   "cell_type": "code",
   "execution_count": null,
   "id": "driving-container",
   "metadata": {},
   "outputs": [],
   "source": [
    "# Url\n",
    "import requests\n",
    "web_agent = 'Mozilla/5.0 (Windows NT 6.1) AppleWebKit/537.2 (KHTML, like Gecko) Chrome/22.0.1216.0 Safari/537.2'\n",
    "headers = {'User-Agent' : web_agent}\n",
    "response = requests.get(url, headers=headers)\n",
    "response_text = response.text\n",
    "\n",
    "from lxml.html import fromstring, tostring\n",
    "resp_lxml = fromstring(response_text)\n",
    "resp_table = resp_lxml.xpath(\"//table\")[0]\n",
    "table = pd.read_html(tostring(resp_table))[0]\n",
    "\n",
    "link_urls = [_.get('href')  for _ in resp_table.xpath('.//a')]\n",
    "table.insert(2,'link', link_urls)\n",
    "\n",
    "index_filter = [no   for no, _ in enumerate(table['번호'].to_list())  if _ != '알림']\n",
    "table = table.iloc[index_filter, :].reset_index(drop=True)\n",
    "table.head(3)"
   ]
  },
  {
   "cell_type": "code",
   "execution_count": null,
   "id": "surgical-lending",
   "metadata": {},
   "outputs": [],
   "source": []
  },
  {
   "cell_type": "code",
   "execution_count": null,
   "id": "known-myanmar",
   "metadata": {},
   "outputs": [],
   "source": []
  },
  {
   "cell_type": "code",
   "execution_count": null,
   "id": "obvious-obligation",
   "metadata": {},
   "outputs": [],
   "source": []
  },
  {
   "cell_type": "code",
   "execution_count": null,
   "id": "polar-twenty",
   "metadata": {},
   "outputs": [],
   "source": [
    "ancId=&gubun=&pageIndex=3&searchAncTitNm=&searchAncGrCd=&searchPrgWorkCd=&searchSrtDtm=&searchEndDtm="
   ]
  },
  {
   "cell_type": "code",
   "execution_count": null,
   "id": "experienced-vampire",
   "metadata": {},
   "outputs": [],
   "source": []
  },
  {
   "cell_type": "code",
   "execution_count": null,
   "id": "laden-omega",
   "metadata": {},
   "outputs": [],
   "source": []
  },
  {
   "cell_type": "code",
   "execution_count": null,
   "id": "golden-comparison",
   "metadata": {},
   "outputs": [],
   "source": []
  },
  {
   "cell_type": "code",
   "execution_count": null,
   "id": "mexican-outreach",
   "metadata": {},
   "outputs": [],
   "source": [
    "page = 1\n",
    "url = f\"https://www.50plus.or.kr/support.do?page={page}\"\n",
    "\n",
    "import requests\n",
    "web_agent = 'Mozilla/5.0 (Windows NT 6.1) AppleWebKit/537.2 (KHTML, like Gecko) Chrome/22.0.1216.0 Safari/537.2'\n",
    "headers   = {'User-Agent' : web_agent}\n",
    "response  = requests.get(url, headers=headers).text\n",
    "\n",
    "from lxml.html import fromstring, tostring\n",
    "resp_lxml = fromstring(response_text)\n",
    "resp_lxml.xpath('//div[contains(@class, \"board-box-list\")]')\n",
    "# table = pd.read_html(tostring(resp_table))[0]"
   ]
  },
  {
   "cell_type": "code",
   "execution_count": null,
   "id": "appreciated-nicaragua",
   "metadata": {},
   "outputs": [],
   "source": [
    "with open('test50.html','w') as f:\n",
    "    f.write(response)"
   ]
  },
  {
   "cell_type": "code",
   "execution_count": null,
   "id": "digital-murder",
   "metadata": {},
   "outputs": [],
   "source": [
    "# ! pip install requests-html"
   ]
  },
  {
   "cell_type": "code",
   "execution_count": null,
   "id": "incorrect-longitude",
   "metadata": {},
   "outputs": [],
   "source": []
  },
  {
   "cell_type": "code",
   "execution_count": null,
   "id": "fatty-average",
   "metadata": {},
   "outputs": [],
   "source": [
    "import requests\n",
    "url = f\"https://www.50plus.or.kr/support.do?page={page}\"\n",
    "_response = requests.get(url, headers=self.headers).text\n",
    "resp_lxml  = fromstring(_response)\n"
   ]
  },
  {
   "cell_type": "code",
   "execution_count": null,
   "id": "toxic-adrian",
   "metadata": {},
   "outputs": [],
   "source": []
  },
  {
   "cell_type": "code",
   "execution_count": null,
   "id": "acceptable-bobby",
   "metadata": {},
   "outputs": [],
   "source": []
  },
  {
   "cell_type": "code",
   "execution_count": null,
   "id": "laughing-surface",
   "metadata": {},
   "outputs": [],
   "source": []
  },
  {
   "cell_type": "code",
   "execution_count": null,
   "id": "above-cherry",
   "metadata": {},
   "outputs": [],
   "source": []
  },
  {
   "cell_type": "code",
   "execution_count": null,
   "id": "mature-density",
   "metadata": {},
   "outputs": [],
   "source": []
  },
  {
   "cell_type": "code",
   "execution_count": null,
   "id": "olympic-passport",
   "metadata": {},
   "outputs": [],
   "source": [
    "from lxml.html import fromstring, tostring\n",
    "import pandas as pd\n",
    "import requests\n",
    "import re\n",
    "\n",
    "\n",
    "class GetHtml:\n",
    "    \n",
    "    def __init__(self):\n",
    "        self.web_agent = 'Mozilla/5.0 (Windows NT 6.1) AppleWebKit/537.2 (KHTML, like Gecko) Chrome/22.0.1216.0 Safari/537.2'\n",
    "        self.headers = {'User-Agent' : self.web_agent}\n",
    "        self.html_meta = '<meta charset=\"'\n",
    "\n",
    "    def info_seoul(self, page=1):\n",
    "        r\"\"\"서울사경센터 공고 자동수집기\"\"\"\n",
    "        # Web Page 의 Table 수집기\n",
    "        url = f\"https://sehub.net/archives/category/alarm/opencat/page/{page}\"\n",
    "        _response = requests.get(url, headers=self.headers).text\n",
    "        resp_lxml  = fromstring(_response)\n",
    "        resp_table = resp_lxml.xpath(\"//table\")[0]\n",
    "        table = pd.read_html(tostring(resp_table))[0]\n",
    "        \n",
    "        # Link href 수집기\n",
    "        link_urls = [_.get('href')  for _ in resp_table.xpath('.//a')]\n",
    "\n",
    "        # Post Procee : 테이블 합치기 및 공고내용 제거후 출력\n",
    "        table.insert(2,'link', link_urls)\n",
    "        index_filter = [no   for no, _ in enumerate(table['번호'].to_list())  if _ != '알림']\n",
    "        return table.iloc[index_filter, :].reset_index(drop=True)\n",
    "    \n",
    "    def info_50plus(self, page=1):\n",
    "        url = f\"https://www.50plus.or.kr/support.do?page={page}\"\n",
    "        _response = requests.get(url, headers=self.headers).text\n",
    "        resp_lxml  = fromstring(_response)\n"
   ]
  },
  {
   "cell_type": "code",
   "execution_count": null,
   "id": "rubber-composition",
   "metadata": {},
   "outputs": [],
   "source": []
  },
  {
   "cell_type": "code",
   "execution_count": null,
   "id": "designing-indication",
   "metadata": {},
   "outputs": [],
   "source": []
  },
  {
   "cell_type": "code",
   "execution_count": null,
   "id": "color-cinema",
   "metadata": {},
   "outputs": [],
   "source": []
  },
  {
   "cell_type": "code",
   "execution_count": null,
   "id": "excited-judge",
   "metadata": {},
   "outputs": [],
   "source": [
    "url = \"https://www.50plus.or.kr/support.do?page=2&\"\n",
    "\n",
    "import re, requests\n",
    "def get_html(url):\n",
    "    web_agent = 'Mozilla/5.0 (Windows NT 6.1) AppleWebKit/537.2 (KHTML, like Gecko) Chrome/22.0.1216.0 Safari/537.2'\n",
    "    headers = {'User-Agent' : web_agent}\n",
    "    response = requests.get(url, headers=headers)\n",
    "    html_meta = '<meta charset=\"'\n",
    "    encode_name = \"\".join(re.findall(f'{html_meta}[A-z-0-9]+', str(response.content))).replace(html_meta,'')\n",
    "    response.encoding = encode_name\n",
    "    response_text = response.text\n",
    "    return response_text\n"
   ]
  },
  {
   "cell_type": "code",
   "execution_count": null,
   "id": "innovative-gazette",
   "metadata": {},
   "outputs": [],
   "source": [
    "get_html(url)"
   ]
  },
  {
   "cell_type": "code",
   "execution_count": null,
   "id": "computational-israel",
   "metadata": {},
   "outputs": [],
   "source": [
    "url = \"https://www.50plus.or.kr/support.do?page=2&\""
   ]
  },
  {
   "cell_type": "code",
   "execution_count": null,
   "id": "intended-refund",
   "metadata": {},
   "outputs": [],
   "source": [
    "import requests\n",
    "response = requests.get(url)\n",
    "response"
   ]
  },
  {
   "cell_type": "code",
   "execution_count": null,
   "id": "gorgeous-forwarding",
   "metadata": {},
   "outputs": [],
   "source": [
    "import re"
   ]
  },
  {
   "cell_type": "code",
   "execution_count": null,
   "id": "pointed-competition",
   "metadata": {},
   "outputs": [],
   "source": [
    "re.findall(r'\\<meta charset=\"[A-z-0-9]+', str(response.content))[0].replace('<meta charset=\"','')"
   ]
  },
  {
   "cell_type": "code",
   "execution_count": null,
   "id": "greek-occasions",
   "metadata": {},
   "outputs": [],
   "source": [
    "html_meta = '<meta charset=\"'\n",
    "\"\".join(re.findall(f'{html_meta}[A-z-0-9]+', str(response.content))).replace(html_meta,'')"
   ]
  },
  {
   "cell_type": "code",
   "execution_count": null,
   "id": "finnish-jewelry",
   "metadata": {},
   "outputs": [],
   "source": []
  },
  {
   "cell_type": "code",
   "execution_count": null,
   "id": "quiet-chaos",
   "metadata": {},
   "outputs": [],
   "source": [
    "join(['1','2'])"
   ]
  },
  {
   "cell_type": "code",
   "execution_count": null,
   "id": "loved-airfare",
   "metadata": {},
   "outputs": [],
   "source": []
  },
  {
   "cell_type": "code",
   "execution_count": null,
   "id": "jewish-occasions",
   "metadata": {},
   "outputs": [],
   "source": []
  },
  {
   "cell_type": "code",
   "execution_count": null,
   "id": "governmental-oxide",
   "metadata": {},
   "outputs": [],
   "source": [
    "text = response.content\n",
    "text"
   ]
  },
  {
   "cell_type": "code",
   "execution_count": null,
   "id": "previous-phase",
   "metadata": {},
   "outputs": [],
   "source": [
    "<meta charset=\"utf-8\">"
   ]
  },
  {
   "cell_type": "code",
   "execution_count": null,
   "id": "needed-madrid",
   "metadata": {},
   "outputs": [],
   "source": [
    "response.content"
   ]
  },
  {
   "cell_type": "code",
   "execution_count": null,
   "id": "noble-worker",
   "metadata": {},
   "outputs": [],
   "source": []
  }
 ],
 "metadata": {
  "kernelspec": {
   "display_name": "Python 3",
   "language": "python",
   "name": "python3"
  },
  "language_info": {
   "codemirror_mode": {
    "name": "ipython",
    "version": 3
   },
   "file_extension": ".py",
   "mimetype": "text/x-python",
   "name": "python",
   "nbconvert_exporter": "python",
   "pygments_lexer": "ipython3",
   "version": "3.6.9"
  }
 },
 "nbformat": 4,
 "nbformat_minor": 5
}
