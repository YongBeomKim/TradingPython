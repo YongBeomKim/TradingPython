{
 "cells": [
  {
   "cell_type": "markdown",
   "id": "apart-bumper",
   "metadata": {},
   "source": [
    "# **Business Info Crawling**\n",
    "- 과거 작업한 내용 **[Jupyter Lab](https://github.com/YongBeomKimblob/master/02.Urllib.ipynb)**\n",
    "- 작업 수집목록 Excel 내용 확인하기\n",
    "- Hwp 파일 미리보기 (! pip install olefile)"
   ]
  },
  {
   "cell_type": "markdown",
   "id": "hispanic-arlington",
   "metadata": {},
   "source": [
    "소상공인 지원공단\n",
    "\n",
    "https://www.semas.or.kr/web/board/webBoardList.kmdc?bCd=1&schCon=&schStr=&schCat=&schExpart=&schArea=&schStat=&pNm=BOA0101&page=3"
   ]
  },
  {
   "cell_type": "code",
   "execution_count": 1,
   "id": "convinced-yellow",
   "metadata": {},
   "outputs": [
    {
     "data": {
      "text/plain": [
       "{'나라장터': 'http://www.g2b.go.kr/index.jsp',\n",
       " '이나라도움': 'https://www.gosims.go.kr/hg/hg002/retrieveTaskSearchTop.do',\n",
       " '창업진흥원': 'https://www.k-startup.go.kr/main.do',\n",
       " '산업통상자원부': 'https://www.k-pass.kr/notice/ancList.do',\n",
       " '우리은행보조금시스템': 'https://ssd.wooribank.com/seoul/',\n",
       " '소상공인시장진흥공단': 'https://www.semas.or.kr/web/board/webBoardList.kmdc?bCd=1&pNm=BOA0101',\n",
       " '한국사회적기업진흥원': 'https://www.socialenterprise.or.kr/index.do#m_notice',\n",
       " '광진구청': 'https://www.gwangjin.go.kr/portal/bbs/B0000003/list.do?menuNo=200192',\n",
       " '서울50플러스 포털': 'https://www.50plus.or.kr/support.do',\n",
       " '서울시사회적경제지원센터': 'https://sehub.net/archives/category/alarm/opencat'}"
      ]
     },
     "execution_count": 1,
     "metadata": {},
     "output_type": "execute_result"
    }
   ],
   "source": [
    "import pandas as pd\n",
    "table = pd.read_csv('data/busineSite.csv').iloc[:,:-1]\n",
    "table = table.set_index('구분')\n",
    "table['사이트'].to_dict()"
   ]
  },
  {
   "cell_type": "code",
   "execution_count": 2,
   "id": "demanding-haiti",
   "metadata": {},
   "outputs": [
    {
     "data": {
      "text/plain": [
       "'[첨부] \\r\\n<『40대 이상 재기 소상공인 취·재창업 프로그램』 2021년 제1차 교육생 모집 공고><리스타트 지원 프로그램> \\r\\n\\r\\n  중소벤처기업부‧소상공인시장진흥공단과 스타벅스 코리아가 폐업(예정) 소상공인 재기지원의 일환으로 「40대 이상 재기 소상공인 취·재창업 프로그램(리스타트 지원 프로그램)」을 운영하오니 소상공인 여러분의 많은 관심과 참여바랍니다.\\r\\n\\r\\n2021년 3월 15일\\r\\n소상공인시장진흥공단 이사장\\r\\n\\r\\n< 1. 사업개요>\\r\\n\\r\\n□ 사업목적\\r\\n\\r\\n ◦ 40대 이상 재기 소상공인의 카페 취·재창업 지원을 위해 커피 트렌드, 위생, 매장관리 등 스타벅스 특화 프로그램 운영 \\r\\n\\r\\n□ 사업개요\\r\\n\\r\\n ◦ (프로그램명) 리스타트 지원 프로그램\\r\\n\\r\\n ◦ (지원내용) 스타벅스 바리스타 이론․실습교육 및 매장체험(16Hr)\\r\\n\\r\\n     * 교육 수료생 대상으로 서울, 부산소재 매장 별도 채용전형 오픈예정(채용규모 미정)\\r\\n\\r\\n ◦ (지원기간) `21년 3월 ~ 6월  * 하반기공고(2차) : 7월중 예정\\r\\n\\r\\n ◦ (지원규모) 총 100명 내외(수도권 50명, 부산 50명)\\r\\n\\r\\n     * 채용매장이 서울(수도권), 부산으로 신청·교육자격을 서울시민, 부산시민으로 한정하는 것은 아니나 서울 또는 부산에서 진행되는 교육에 참석할 수 있어야 함 \\r\\n< 2. 사업내용>\\r\\n\\r\\n□ 세부 지원내용\\r\\n\\r\\n ① (교육제공) 고객서비스, 음료품질 및 위생, 매장손익관리 등 이론교육(2일, 10hr) 및 스타벅스 매장운영 쉐도잉 등 체험(1일, 6hr)\\r\\n\\r\\n     * 교육장소 : 수도권 및 부산 소재의 ‘스타벅스’ 교육장과 매장에서 진행예정\\r\\n    ** 교육생은 반드시 입소전 식음료 위생관련 e러닝교육(1시간)을 수강하여야 하며, 보건증을 지참하여야 함(미지참시 체험불가)\\r\\n\\r\\n ② (교육물품 제공) 교육용 앞치마, 모자, 티셔츠 등 제공\\r\\n\\r\\n ③ (수료증 발급) 중기부 장관 및 공단 이사장, ㈜스타벅스커피 코리아 대표가 인증하는 ‘교육수료증’ 발급(100% 이수시)\\r\\n\\r\\n ④ (취업연계) 교육 '"
      ]
     },
     "execution_count": 2,
     "metadata": {},
     "output_type": "execute_result"
    }
   ],
   "source": [
    "# HWP 한글파일 PreView Text 추출 (출처 : https://yahohococo.tistory.com/45)\n",
    "import olefile\n",
    "olefile.OleFileIO('data/test.hwp').openstream('PrvText').read().decode('utf-16')"
   ]
  },
  {
   "cell_type": "markdown",
   "id": "endangered-douglas",
   "metadata": {},
   "source": [
    "# **나라장터 크롤링**\n",
    "\n",
    "- **[조달청 입찰정보 API](https://data.go.kr/tcs/dss/selectApiDataDetailView.do?publicDataPk=15000802)**\n",
    "- **[기본 filter 나라장터](http://www.g2b.go.kr/pt/menu/selectSubFrame.do?framesrc=/pt/menu/frameTgong.do?url=http://www.g2b.go.kr:8101/ep/tbid/tbidList.do?taskClCds=&bidNm=&searchDtType=1&fromBidDt=2021/03/15&toBidDt=2021/04/14&fromOpenBidDt=&toOpenBidDt=&radOrgan=1&instNm=&area=&regYn=Y&bidSearchType=1&searchType=1)**\n",
    "- **[Python 을 활용한 나라장터 수집](https://senterie.com/%EB%82%98%EB%9D%BC%EC%9E%A5%ED%84%B0-%EC%97%B0%EA%B5%AC%EC%9A%A9%EC%97%AD-%EC%8A%A4%ED%81%AC%EB%9E%A9/)**\n",
    "- **[Python 을 활용한 나라장터 데이터 분석](https://teddylee777.github.io/pandas/pandas-bidding)**\n",
    "\n",
    "```r\n",
    "데이터포맷 :\tJSON+XML\n",
    "End Point :\thttp://apis.data.go.kr/1230000/BidPublicInfoService02\n",
    "포털에서 제공되는 Encoding/Decoding 된 인증키를 적용하면서 구동되는 키를 사용하시기 바랍니다.\n",
    "(Enecoding)\n",
    "JDTOZUQU3PvzXciumqS%2BATOZY8ycaRUyAgIw5%2FdVybBB1niud03Rgh%2FBHSIJQnm8iCwyr45j2zYU7tGbtxLFCQ%3D%3D\n",
    "(Decoding) \t\n",
    "JDTOZUQU3PvzXciumqS+ATOZY8ycaRUyAgIw5/dVybBB1niud03Rgh/BHSIJQnm8iCwyr45j2zYU7tGbtxLFCQ==\n",
    "```\n",
    "\n",
    "## **1 전체 사업목록 크롤링**\n",
    "나라장터 사업목록 전체 크롤링 함수 (1년 단위로 추출, 100만개 까지 검색 및 내용확인 가능)\n",
    "1. 추가로 필요한 내용들 필터링 요소 찾기\n",
    "1. 첨부파일 다운받는 방법 확인하기 (위 HWP 미리보기 예시도 찾아서 추가하기)"
   ]
  },
  {
   "cell_type": "code",
   "execution_count": 4,
   "id": "mental-vision",
   "metadata": {},
   "outputs": [],
   "source": [
    "from data.cobalt import G2bStore\n",
    "g2bstore = G2bStore()\n",
    "# g2bstore.get_download(part=0, date_start=\"20200101\", date_end=\"20201231\", display_count=True)"
   ]
  },
  {
   "cell_type": "code",
   "execution_count": 5,
   "id": "third-taste",
   "metadata": {},
   "outputs": [
    {
     "name": "stderr",
     "output_type": "stream",
     "text": [
      "100%|██████████| 1/1 [00:01<00:00,  1.03s/it]\n"
     ]
    },
    {
     "data": {
      "text/html": [
       "<div>\n",
       "<style scoped>\n",
       "    .dataframe tbody tr th:only-of-type {\n",
       "        vertical-align: middle;\n",
       "    }\n",
       "\n",
       "    .dataframe tbody tr th {\n",
       "        vertical-align: top;\n",
       "    }\n",
       "\n",
       "    .dataframe thead th {\n",
       "        text-align: right;\n",
       "    }\n",
       "</style>\n",
       "<table border=\"1\" class=\"dataframe\">\n",
       "  <thead>\n",
       "    <tr style=\"text-align: right;\">\n",
       "      <th></th>\n",
       "      <th>구분</th>\n",
       "      <th>입찰공고일시</th>\n",
       "      <th>입찰개시일시</th>\n",
       "      <th>입찰마감일시</th>\n",
       "      <th>입찰공고번호</th>\n",
       "      <th>입찰공고명</th>\n",
       "      <th>입찰공고상세URL</th>\n",
       "      <th>공고기관명</th>\n",
       "      <th>입찰공고차수</th>\n",
       "      <th>재공고여부</th>\n",
       "      <th>등록유형명</th>\n",
       "    </tr>\n",
       "  </thead>\n",
       "  <tbody>\n",
       "    <tr>\n",
       "      <th>0</th>\n",
       "      <td>용역</td>\n",
       "      <td>2021-04-15 13:44:47</td>\n",
       "      <td>NaT</td>\n",
       "      <td>NaT</td>\n",
       "      <td>20210311307</td>\n",
       "      <td>2021년 세계유산 활용 콘텐츠 구축사업(속리산 법주사 빛의 향연)대행사 선정(협상...</td>\n",
       "      <td>http://www.g2b.go.kr:8081/ep/invitation/publis...</td>\n",
       "      <td>충청북도 보은군</td>\n",
       "      <td>01</td>\n",
       "      <td>N</td>\n",
       "      <td>조달청 또는 나라장터 자체 공고건</td>\n",
       "    </tr>\n",
       "    <tr>\n",
       "      <th>1</th>\n",
       "      <td>용역</td>\n",
       "      <td>2021-04-15 11:03:23</td>\n",
       "      <td>2021-04-15 11:10:00</td>\n",
       "      <td>2021-04-26 14:00:00</td>\n",
       "      <td>20210412362</td>\n",
       "      <td>촛불시민운동 사료관리시스템 고도화</td>\n",
       "      <td>http://www.g2b.go.kr:8081/ep/invitation/publis...</td>\n",
       "      <td>민주화운동기념사업회</td>\n",
       "      <td>01</td>\n",
       "      <td>N</td>\n",
       "      <td>조달청 또는 나라장터 자체 공고건</td>\n",
       "    </tr>\n",
       "    <tr>\n",
       "      <th>2</th>\n",
       "      <td>용역</td>\n",
       "      <td>2021-04-15 11:17:09</td>\n",
       "      <td>2021-04-15 11:20:00</td>\n",
       "      <td>2021-04-26 14:00:00</td>\n",
       "      <td>20210412362</td>\n",
       "      <td>촛불시민운동 사료관리시스템 고도화</td>\n",
       "      <td>http://www.g2b.go.kr:8081/ep/invitation/publis...</td>\n",
       "      <td>민주화운동기념사업회</td>\n",
       "      <td>02</td>\n",
       "      <td>N</td>\n",
       "      <td>조달청 또는 나라장터 자체 공고건</td>\n",
       "    </tr>\n",
       "  </tbody>\n",
       "</table>\n",
       "</div>"
      ],
      "text/plain": [
       "   구분              입찰공고일시              입찰개시일시              입찰마감일시  \\\n",
       "0  용역 2021-04-15 13:44:47                 NaT                 NaT   \n",
       "1  용역 2021-04-15 11:03:23 2021-04-15 11:10:00 2021-04-26 14:00:00   \n",
       "2  용역 2021-04-15 11:17:09 2021-04-15 11:20:00 2021-04-26 14:00:00   \n",
       "\n",
       "        입찰공고번호                                              입찰공고명  \\\n",
       "0  20210311307  2021년 세계유산 활용 콘텐츠 구축사업(속리산 법주사 빛의 향연)대행사 선정(협상...   \n",
       "1  20210412362                                 촛불시민운동 사료관리시스템 고도화   \n",
       "2  20210412362                                 촛불시민운동 사료관리시스템 고도화   \n",
       "\n",
       "                                           입찰공고상세URL       공고기관명 입찰공고차수 재공고여부  \\\n",
       "0  http://www.g2b.go.kr:8081/ep/invitation/publis...    충청북도 보은군     01     N   \n",
       "1  http://www.g2b.go.kr:8081/ep/invitation/publis...  민주화운동기념사업회     01     N   \n",
       "2  http://www.g2b.go.kr:8081/ep/invitation/publis...  민주화운동기념사업회     02     N   \n",
       "\n",
       "                등록유형명  \n",
       "0  조달청 또는 나라장터 자체 공고건  \n",
       "1  조달청 또는 나라장터 자체 공고건  \n",
       "2  조달청 또는 나라장터 자체 공고건  "
      ]
     },
     "execution_count": 5,
     "metadata": {},
     "output_type": "execute_result"
    }
   ],
   "source": [
    "data_df = g2bstore.get_full_download(part=0, date_start='20210415')\n",
    "data_df.to_csv('data/g2bstore.csv', index=None, encoding='ms949')\n",
    "data_df.iloc[:,:-4].head(3) # data_df = pd.DataFrame(data_json)"
   ]
  },
  {
   "cell_type": "code",
   "execution_count": 6,
   "id": "cardiovascular-olympus",
   "metadata": {},
   "outputs": [
    {
     "data": {
      "text/html": [
       "<div>\n",
       "<style scoped>\n",
       "    .dataframe tbody tr th:only-of-type {\n",
       "        vertical-align: middle;\n",
       "    }\n",
       "\n",
       "    .dataframe tbody tr th {\n",
       "        vertical-align: top;\n",
       "    }\n",
       "\n",
       "    .dataframe thead th {\n",
       "        text-align: right;\n",
       "    }\n",
       "</style>\n",
       "<table border=\"1\" class=\"dataframe\">\n",
       "  <thead>\n",
       "    <tr style=\"text-align: right;\">\n",
       "      <th></th>\n",
       "      <th>구분</th>\n",
       "      <th>입찰공고일시</th>\n",
       "      <th>입찰개시일시</th>\n",
       "      <th>입찰마감일시</th>\n",
       "      <th>입찰공고번호</th>\n",
       "      <th>입찰공고명</th>\n",
       "      <th>입찰공고상세URL</th>\n",
       "      <th>공고기관명</th>\n",
       "      <th>입찰공고차수</th>\n",
       "      <th>재공고여부</th>\n",
       "      <th>등록유형명</th>\n",
       "      <th>공고종류명</th>\n",
       "      <th>재입찰허용여부</th>\n",
       "      <th>참고문서_url</th>\n",
       "      <th>참고문서_name</th>\n",
       "    </tr>\n",
       "  </thead>\n",
       "  <tbody>\n",
       "    <tr>\n",
       "      <th>0</th>\n",
       "      <td>용역</td>\n",
       "      <td>2021-04-15 13:44:47</td>\n",
       "      <td>NaT</td>\n",
       "      <td>NaT</td>\n",
       "      <td>20210311307</td>\n",
       "      <td>2021년 세계유산 활용 콘텐츠 구축사업(속리산 법주사 빛의 향연)대행사 선정(협상...</td>\n",
       "      <td>http://www.g2b.go.kr:8081/ep/invitation/publis...</td>\n",
       "      <td>충청북도 보은군</td>\n",
       "      <td>1</td>\n",
       "      <td>N</td>\n",
       "      <td>조달청 또는 나라장터 자체 공고건</td>\n",
       "      <td>취소</td>\n",
       "      <td>N</td>\n",
       "      <td>[]</td>\n",
       "      <td>[]</td>\n",
       "    </tr>\n",
       "    <tr>\n",
       "      <th>1</th>\n",
       "      <td>용역</td>\n",
       "      <td>2021-04-15 11:03:23</td>\n",
       "      <td>2021-04-15 11:10:00</td>\n",
       "      <td>2021-04-26 14:00:00</td>\n",
       "      <td>20210412362</td>\n",
       "      <td>촛불시민운동 사료관리시스템 고도화</td>\n",
       "      <td>http://www.g2b.go.kr:8081/ep/invitation/publis...</td>\n",
       "      <td>민주화운동기념사업회</td>\n",
       "      <td>1</td>\n",
       "      <td>N</td>\n",
       "      <td>조달청 또는 나라장터 자체 공고건</td>\n",
       "      <td>변경</td>\n",
       "      <td>N</td>\n",
       "      <td>[http://www.g2b.go.kr:8081/ep/co/fileDownload....</td>\n",
       "      <td>[20210412362-01_1618451937114_2. 입찰(변경)공고문.hwp...</td>\n",
       "    </tr>\n",
       "  </tbody>\n",
       "</table>\n",
       "</div>"
      ],
      "text/plain": [
       "   구분              입찰공고일시              입찰개시일시              입찰마감일시  \\\n",
       "0  용역 2021-04-15 13:44:47                 NaT                 NaT   \n",
       "1  용역 2021-04-15 11:03:23 2021-04-15 11:10:00 2021-04-26 14:00:00   \n",
       "\n",
       "        입찰공고번호                                              입찰공고명  \\\n",
       "0  20210311307  2021년 세계유산 활용 콘텐츠 구축사업(속리산 법주사 빛의 향연)대행사 선정(협상...   \n",
       "1  20210412362                                 촛불시민운동 사료관리시스템 고도화   \n",
       "\n",
       "                                           입찰공고상세URL       공고기관명  입찰공고차수  \\\n",
       "0  http://www.g2b.go.kr:8081/ep/invitation/publis...    충청북도 보은군       1   \n",
       "1  http://www.g2b.go.kr:8081/ep/invitation/publis...  민주화운동기념사업회       1   \n",
       "\n",
       "  재공고여부               등록유형명 공고종류명 재입찰허용여부  \\\n",
       "0     N  조달청 또는 나라장터 자체 공고건    취소       N   \n",
       "1     N  조달청 또는 나라장터 자체 공고건    변경       N   \n",
       "\n",
       "                                            참고문서_url  \\\n",
       "0                                                 []   \n",
       "1  [http://www.g2b.go.kr:8081/ep/co/fileDownload....   \n",
       "\n",
       "                                           참고문서_name  \n",
       "0                                                 []  \n",
       "1  [20210412362-01_1618451937114_2. 입찰(변경)공고문.hwp...  "
      ]
     },
     "execution_count": 6,
     "metadata": {},
     "output_type": "execute_result"
    }
   ],
   "source": [
    "df = g2bstore.read_csv('data/g2bstore.csv', encoding='ms949')\n",
    "df.head(2)"
   ]
  },
  {
   "cell_type": "code",
   "execution_count": 9,
   "id": "loose-denmark",
   "metadata": {},
   "outputs": [
    {
     "name": "stdout",
     "output_type": "stream",
     "text": [
      "<class 'pandas.core.frame.DataFrame'>\n",
      "RangeIndex: 316 entries, 0 to 315\n",
      "Data columns (total 15 columns):\n",
      " #   Column     Non-Null Count  Dtype         \n",
      "---  ------     --------------  -----         \n",
      " 0   구분         316 non-null    object        \n",
      " 1   입찰공고일시     301 non-null    datetime64[ns]\n",
      " 2   입찰개시일시     253 non-null    datetime64[ns]\n",
      " 3   입찰마감일시     297 non-null    datetime64[ns]\n",
      " 4   입찰공고번호     316 non-null    object        \n",
      " 5   입찰공고명      316 non-null    object        \n",
      " 6   입찰공고상세URL  272 non-null    object        \n",
      " 7   공고기관명      272 non-null    object        \n",
      " 8   입찰공고차수     316 non-null    int64         \n",
      " 9   재공고여부      272 non-null    object        \n",
      " 10  등록유형명      316 non-null    object        \n",
      " 11  공고종류명      301 non-null    object        \n",
      " 12  재입찰허용여부    272 non-null    object        \n",
      " 13  참고문서_url   316 non-null    object        \n",
      " 14  참고문서_name  316 non-null    object        \n",
      "dtypes: datetime64[ns](3), int64(1), object(11)\n",
      "memory usage: 37.2+ KB\n"
     ]
    }
   ],
   "source": [
    "df.info()"
   ]
  },
  {
   "cell_type": "code",
   "execution_count": null,
   "id": "accompanied-extra",
   "metadata": {},
   "outputs": [],
   "source": []
  },
  {
   "cell_type": "code",
   "execution_count": null,
   "id": "sporting-status",
   "metadata": {},
   "outputs": [],
   "source": []
  },
  {
   "cell_type": "code",
   "execution_count": null,
   "id": "greenhouse-mission",
   "metadata": {},
   "outputs": [],
   "source": []
  },
  {
   "cell_type": "code",
   "execution_count": null,
   "id": "personal-lecture",
   "metadata": {},
   "outputs": [],
   "source": []
  },
  {
   "cell_type": "code",
   "execution_count": 28,
   "id": "cubic-stable",
   "metadata": {},
   "outputs": [],
   "source": [
    "import pandas as pd\n",
    "import ast \n",
    "\n",
    "df = pd.read_csv('data/g2bstore.csv', encoding='ms949')\n",
    "for name in ['url','name']:\n",
    "    df[f\"참고문서_{name}\"] = list(map(lambda x : ast.literal_eval(x), df[f\"참고문서_{name}\"]))"
   ]
  },
  {
   "cell_type": "code",
   "execution_count": 31,
   "id": "bronze-kelly",
   "metadata": {},
   "outputs": [
    {
     "data": {
      "text/plain": [
       "'20210412362-01_1618451937114_촛불시민운동 사료관리시스템 고도화 사업 제안요청서(최종본).hwp'"
      ]
     },
     "execution_count": 31,
     "metadata": {},
     "output_type": "execute_result"
    }
   ],
   "source": [
    "df['참고문서_name'][0][1]"
   ]
  },
  {
   "cell_type": "code",
   "execution_count": null,
   "id": "minor-roberts",
   "metadata": {},
   "outputs": [],
   "source": []
  },
  {
   "cell_type": "code",
   "execution_count": null,
   "id": "involved-native",
   "metadata": {},
   "outputs": [],
   "source": []
  },
  {
   "cell_type": "code",
   "execution_count": 22,
   "id": "enhanced-physics",
   "metadata": {},
   "outputs": [
    {
     "ename": "ValueError",
     "evalue": "malformed node or string: 0      ['http://www.g2b.go.kr:8081/ep/co/fileDownload...\n1      ['http://www.g2b.go.kr:8081/ep/co/fileDownload...\n2      ['http://www.g2b.go.kr:8081/ep/co/fileDownload...\n3                                                     []\n4      ['http://www.g2b.go.kr:8081/ep/co/fileDownload...\n                             ...                        \n276                                                   []\n277                                                   []\n278                                                   []\n279                                                   []\n280                                                   []\nName: 참고문서_url, Length: 281, dtype: object",
     "output_type": "error",
     "traceback": [
      "\u001b[0;31m---------------------------------------------------------------------------\u001b[0m",
      "\u001b[0;31mValueError\u001b[0m                                Traceback (most recent call last)",
      "\u001b[0;32m<ipython-input-22-e3676fccc1ea>\u001b[0m in \u001b[0;36m<module>\u001b[0;34m\u001b[0m\n\u001b[1;32m      2\u001b[0m \u001b[0;34m\u001b[0m\u001b[0m\n\u001b[1;32m      3\u001b[0m \u001b[0mdf\u001b[0m \u001b[0;34m=\u001b[0m \u001b[0mpd\u001b[0m\u001b[0;34m.\u001b[0m\u001b[0mread_csv\u001b[0m\u001b[0;34m(\u001b[0m\u001b[0;34m'data/g2bstore.csv'\u001b[0m\u001b[0;34m,\u001b[0m \u001b[0mencoding\u001b[0m\u001b[0;34m=\u001b[0m\u001b[0;34m'ms949'\u001b[0m\u001b[0;34m)\u001b[0m\u001b[0;34m\u001b[0m\u001b[0;34m\u001b[0m\u001b[0m\n\u001b[0;32m----> 4\u001b[0;31m \u001b[0mdf\u001b[0m\u001b[0;34m[\u001b[0m\u001b[0;34m'참고문서_url'\u001b[0m\u001b[0;34m]\u001b[0m \u001b[0;34m=\u001b[0m \u001b[0mast\u001b[0m\u001b[0;34m.\u001b[0m\u001b[0mliteral_eval\u001b[0m\u001b[0;34m(\u001b[0m\u001b[0mdf\u001b[0m\u001b[0;34m[\u001b[0m\u001b[0;34m'참고문서_url'\u001b[0m\u001b[0;34m]\u001b[0m\u001b[0;34m)\u001b[0m\u001b[0;34m\u001b[0m\u001b[0;34m\u001b[0m\u001b[0m\n\u001b[0m\u001b[1;32m      5\u001b[0m \u001b[0mdf\u001b[0m\u001b[0;34m[\u001b[0m\u001b[0;34m'참고문서_name'\u001b[0m\u001b[0;34m]\u001b[0m \u001b[0;34m=\u001b[0m \u001b[0mast\u001b[0m\u001b[0;34m.\u001b[0m\u001b[0mliteral_eval\u001b[0m\u001b[0;34m(\u001b[0m\u001b[0mdf\u001b[0m\u001b[0;34m[\u001b[0m\u001b[0;34m'참고문서_name'\u001b[0m\u001b[0;34m]\u001b[0m\u001b[0;34m)\u001b[0m\u001b[0;34m\u001b[0m\u001b[0;34m\u001b[0m\u001b[0m\n\u001b[1;32m      6\u001b[0m \u001b[0mdf\u001b[0m\u001b[0;34m.\u001b[0m\u001b[0mhead\u001b[0m\u001b[0;34m(\u001b[0m\u001b[0;36m0\u001b[0m\u001b[0;34m)\u001b[0m\u001b[0;34m\u001b[0m\u001b[0;34m\u001b[0m\u001b[0m\n",
      "\u001b[0;32m/usr/lib/python3.6/ast.py\u001b[0m in \u001b[0;36mliteral_eval\u001b[0;34m(node_or_string)\u001b[0m\n\u001b[1;32m     83\u001b[0m                     \u001b[0;32mreturn\u001b[0m \u001b[0mleft\u001b[0m \u001b[0;34m-\u001b[0m \u001b[0mright\u001b[0m\u001b[0;34m\u001b[0m\u001b[0;34m\u001b[0m\u001b[0m\n\u001b[1;32m     84\u001b[0m         \u001b[0;32mraise\u001b[0m \u001b[0mValueError\u001b[0m\u001b[0;34m(\u001b[0m\u001b[0;34m'malformed node or string: '\u001b[0m \u001b[0;34m+\u001b[0m \u001b[0mrepr\u001b[0m\u001b[0;34m(\u001b[0m\u001b[0mnode\u001b[0m\u001b[0;34m)\u001b[0m\u001b[0;34m)\u001b[0m\u001b[0;34m\u001b[0m\u001b[0;34m\u001b[0m\u001b[0m\n\u001b[0;32m---> 85\u001b[0;31m     \u001b[0;32mreturn\u001b[0m \u001b[0m_convert\u001b[0m\u001b[0;34m(\u001b[0m\u001b[0mnode_or_string\u001b[0m\u001b[0;34m)\u001b[0m\u001b[0;34m\u001b[0m\u001b[0;34m\u001b[0m\u001b[0m\n\u001b[0m\u001b[1;32m     86\u001b[0m \u001b[0;34m\u001b[0m\u001b[0m\n\u001b[1;32m     87\u001b[0m \u001b[0;34m\u001b[0m\u001b[0m\n",
      "\u001b[0;32m/usr/lib/python3.6/ast.py\u001b[0m in \u001b[0;36m_convert\u001b[0;34m(node)\u001b[0m\n\u001b[1;32m     82\u001b[0m                 \u001b[0;32melse\u001b[0m\u001b[0;34m:\u001b[0m\u001b[0;34m\u001b[0m\u001b[0;34m\u001b[0m\u001b[0m\n\u001b[1;32m     83\u001b[0m                     \u001b[0;32mreturn\u001b[0m \u001b[0mleft\u001b[0m \u001b[0;34m-\u001b[0m \u001b[0mright\u001b[0m\u001b[0;34m\u001b[0m\u001b[0;34m\u001b[0m\u001b[0m\n\u001b[0;32m---> 84\u001b[0;31m         \u001b[0;32mraise\u001b[0m \u001b[0mValueError\u001b[0m\u001b[0;34m(\u001b[0m\u001b[0;34m'malformed node or string: '\u001b[0m \u001b[0;34m+\u001b[0m \u001b[0mrepr\u001b[0m\u001b[0;34m(\u001b[0m\u001b[0mnode\u001b[0m\u001b[0;34m)\u001b[0m\u001b[0;34m)\u001b[0m\u001b[0;34m\u001b[0m\u001b[0;34m\u001b[0m\u001b[0m\n\u001b[0m\u001b[1;32m     85\u001b[0m     \u001b[0;32mreturn\u001b[0m \u001b[0m_convert\u001b[0m\u001b[0;34m(\u001b[0m\u001b[0mnode_or_string\u001b[0m\u001b[0;34m)\u001b[0m\u001b[0;34m\u001b[0m\u001b[0;34m\u001b[0m\u001b[0m\n\u001b[1;32m     86\u001b[0m \u001b[0;34m\u001b[0m\u001b[0m\n",
      "\u001b[0;31mValueError\u001b[0m: malformed node or string: 0      ['http://www.g2b.go.kr:8081/ep/co/fileDownload...\n1      ['http://www.g2b.go.kr:8081/ep/co/fileDownload...\n2      ['http://www.g2b.go.kr:8081/ep/co/fileDownload...\n3                                                     []\n4      ['http://www.g2b.go.kr:8081/ep/co/fileDownload...\n                             ...                        \n276                                                   []\n277                                                   []\n278                                                   []\n279                                                   []\n280                                                   []\nName: 참고문서_url, Length: 281, dtype: object"
     ]
    }
   ],
   "source": [
    "df['참고문서_url'] = ast.literal_eval(df['참고문서_url']) \n",
    "df['참고문서_name'] = ast.literal_eval(df['참고문서_name']) \n",
    "df.head(0)"
   ]
  },
  {
   "cell_type": "code",
   "execution_count": 13,
   "id": "fixed-failing",
   "metadata": {},
   "outputs": [
    {
     "data": {
      "text/plain": [
       "\"['http://www.g2b.go.kr:8081/ep/co/fileDownload.do?fileTask=NOTIFY&fileSeq=20210412362::01::1::1', 'http://www.g2b.go.kr:8081/ep/co/fileDownload.do?fileTask=NOTIFY&fileSeq=20210412362::01::1::2']\""
      ]
     },
     "execution_count": 13,
     "metadata": {},
     "output_type": "execute_result"
    }
   ],
   "source": [
    "df['참고문서_url'][0]"
   ]
  },
  {
   "cell_type": "code",
   "execution_count": 14,
   "id": "streaming-wilson",
   "metadata": {},
   "outputs": [],
   "source": [
    "import json"
   ]
  },
  {
   "cell_type": "code",
   "execution_count": 17,
   "id": "anonymous-blast",
   "metadata": {},
   "outputs": [
    {
     "ename": "JSONDecodeError",
     "evalue": "Expecting value: line 1 column 2 (char 1)",
     "output_type": "error",
     "traceback": [
      "\u001b[0;31m---------------------------------------------------------------------------\u001b[0m",
      "\u001b[0;31mJSONDecodeError\u001b[0m                           Traceback (most recent call last)",
      "\u001b[0;32m<ipython-input-17-100569e24575>\u001b[0m in \u001b[0;36m<module>\u001b[0;34m\u001b[0m\n\u001b[0;32m----> 1\u001b[0;31m \u001b[0mjson\u001b[0m\u001b[0;34m.\u001b[0m\u001b[0mloads\u001b[0m\u001b[0;34m(\u001b[0m\u001b[0mdf\u001b[0m\u001b[0;34m[\u001b[0m\u001b[0;34m'참고문서_url'\u001b[0m\u001b[0;34m]\u001b[0m\u001b[0;34m[\u001b[0m\u001b[0;36m0\u001b[0m\u001b[0;34m]\u001b[0m\u001b[0;34m)\u001b[0m\u001b[0;34m\u001b[0m\u001b[0;34m\u001b[0m\u001b[0m\n\u001b[0m",
      "\u001b[0;32m/usr/lib/python3.6/json/__init__.py\u001b[0m in \u001b[0;36mloads\u001b[0;34m(s, encoding, cls, object_hook, parse_float, parse_int, parse_constant, object_pairs_hook, **kw)\u001b[0m\n\u001b[1;32m    352\u001b[0m             \u001b[0mparse_int\u001b[0m \u001b[0;32mis\u001b[0m \u001b[0;32mNone\u001b[0m \u001b[0;32mand\u001b[0m \u001b[0mparse_float\u001b[0m \u001b[0;32mis\u001b[0m \u001b[0;32mNone\u001b[0m \u001b[0;32mand\u001b[0m\u001b[0;34m\u001b[0m\u001b[0;34m\u001b[0m\u001b[0m\n\u001b[1;32m    353\u001b[0m             parse_constant is None and object_pairs_hook is None and not kw):\n\u001b[0;32m--> 354\u001b[0;31m         \u001b[0;32mreturn\u001b[0m \u001b[0m_default_decoder\u001b[0m\u001b[0;34m.\u001b[0m\u001b[0mdecode\u001b[0m\u001b[0;34m(\u001b[0m\u001b[0ms\u001b[0m\u001b[0;34m)\u001b[0m\u001b[0;34m\u001b[0m\u001b[0;34m\u001b[0m\u001b[0m\n\u001b[0m\u001b[1;32m    355\u001b[0m     \u001b[0;32mif\u001b[0m \u001b[0mcls\u001b[0m \u001b[0;32mis\u001b[0m \u001b[0;32mNone\u001b[0m\u001b[0;34m:\u001b[0m\u001b[0;34m\u001b[0m\u001b[0;34m\u001b[0m\u001b[0m\n\u001b[1;32m    356\u001b[0m         \u001b[0mcls\u001b[0m \u001b[0;34m=\u001b[0m \u001b[0mJSONDecoder\u001b[0m\u001b[0;34m\u001b[0m\u001b[0;34m\u001b[0m\u001b[0m\n",
      "\u001b[0;32m/usr/lib/python3.6/json/decoder.py\u001b[0m in \u001b[0;36mdecode\u001b[0;34m(self, s, _w)\u001b[0m\n\u001b[1;32m    337\u001b[0m \u001b[0;34m\u001b[0m\u001b[0m\n\u001b[1;32m    338\u001b[0m         \"\"\"\n\u001b[0;32m--> 339\u001b[0;31m         \u001b[0mobj\u001b[0m\u001b[0;34m,\u001b[0m \u001b[0mend\u001b[0m \u001b[0;34m=\u001b[0m \u001b[0mself\u001b[0m\u001b[0;34m.\u001b[0m\u001b[0mraw_decode\u001b[0m\u001b[0;34m(\u001b[0m\u001b[0ms\u001b[0m\u001b[0;34m,\u001b[0m \u001b[0midx\u001b[0m\u001b[0;34m=\u001b[0m\u001b[0m_w\u001b[0m\u001b[0;34m(\u001b[0m\u001b[0ms\u001b[0m\u001b[0;34m,\u001b[0m \u001b[0;36m0\u001b[0m\u001b[0;34m)\u001b[0m\u001b[0;34m.\u001b[0m\u001b[0mend\u001b[0m\u001b[0;34m(\u001b[0m\u001b[0;34m)\u001b[0m\u001b[0;34m)\u001b[0m\u001b[0;34m\u001b[0m\u001b[0;34m\u001b[0m\u001b[0m\n\u001b[0m\u001b[1;32m    340\u001b[0m         \u001b[0mend\u001b[0m \u001b[0;34m=\u001b[0m \u001b[0m_w\u001b[0m\u001b[0;34m(\u001b[0m\u001b[0ms\u001b[0m\u001b[0;34m,\u001b[0m \u001b[0mend\u001b[0m\u001b[0;34m)\u001b[0m\u001b[0;34m.\u001b[0m\u001b[0mend\u001b[0m\u001b[0;34m(\u001b[0m\u001b[0;34m)\u001b[0m\u001b[0;34m\u001b[0m\u001b[0;34m\u001b[0m\u001b[0m\n\u001b[1;32m    341\u001b[0m         \u001b[0;32mif\u001b[0m \u001b[0mend\u001b[0m \u001b[0;34m!=\u001b[0m \u001b[0mlen\u001b[0m\u001b[0;34m(\u001b[0m\u001b[0ms\u001b[0m\u001b[0;34m)\u001b[0m\u001b[0;34m:\u001b[0m\u001b[0;34m\u001b[0m\u001b[0;34m\u001b[0m\u001b[0m\n",
      "\u001b[0;32m/usr/lib/python3.6/json/decoder.py\u001b[0m in \u001b[0;36mraw_decode\u001b[0;34m(self, s, idx)\u001b[0m\n\u001b[1;32m    355\u001b[0m             \u001b[0mobj\u001b[0m\u001b[0;34m,\u001b[0m \u001b[0mend\u001b[0m \u001b[0;34m=\u001b[0m \u001b[0mself\u001b[0m\u001b[0;34m.\u001b[0m\u001b[0mscan_once\u001b[0m\u001b[0;34m(\u001b[0m\u001b[0ms\u001b[0m\u001b[0;34m,\u001b[0m \u001b[0midx\u001b[0m\u001b[0;34m)\u001b[0m\u001b[0;34m\u001b[0m\u001b[0;34m\u001b[0m\u001b[0m\n\u001b[1;32m    356\u001b[0m         \u001b[0;32mexcept\u001b[0m \u001b[0mStopIteration\u001b[0m \u001b[0;32mas\u001b[0m \u001b[0merr\u001b[0m\u001b[0;34m:\u001b[0m\u001b[0;34m\u001b[0m\u001b[0;34m\u001b[0m\u001b[0m\n\u001b[0;32m--> 357\u001b[0;31m             \u001b[0;32mraise\u001b[0m \u001b[0mJSONDecodeError\u001b[0m\u001b[0;34m(\u001b[0m\u001b[0;34m\"Expecting value\"\u001b[0m\u001b[0;34m,\u001b[0m \u001b[0ms\u001b[0m\u001b[0;34m,\u001b[0m \u001b[0merr\u001b[0m\u001b[0;34m.\u001b[0m\u001b[0mvalue\u001b[0m\u001b[0;34m)\u001b[0m \u001b[0;32mfrom\u001b[0m \u001b[0;32mNone\u001b[0m\u001b[0;34m\u001b[0m\u001b[0;34m\u001b[0m\u001b[0m\n\u001b[0m\u001b[1;32m    358\u001b[0m         \u001b[0;32mreturn\u001b[0m \u001b[0mobj\u001b[0m\u001b[0;34m,\u001b[0m \u001b[0mend\u001b[0m\u001b[0;34m\u001b[0m\u001b[0;34m\u001b[0m\u001b[0m\n",
      "\u001b[0;31mJSONDecodeError\u001b[0m: Expecting value: line 1 column 2 (char 1)"
     ]
    }
   ],
   "source": [
    "json.loads(df['참고문서_url'][0])"
   ]
  },
  {
   "cell_type": "code",
   "execution_count": 21,
   "id": "determined-nebraska",
   "metadata": {},
   "outputs": [
    {
     "name": "stdout",
     "output_type": "stream",
     "text": [
      "B-SUB\n"
     ]
    }
   ],
   "source": [
    "import ast \n",
    "x = \"['B-EXP', 'I-EXP', 'B-SUB', 'I-SUB', 'O', 'O']\" \n",
    "x = ast.literal_eval(x) \n",
    "print(x[2])"
   ]
  },
  {
   "cell_type": "code",
   "execution_count": null,
   "id": "egyptian-murder",
   "metadata": {},
   "outputs": [],
   "source": []
  }
 ],
 "metadata": {
  "kernelspec": {
   "display_name": "Python 3",
   "language": "python",
   "name": "python3"
  },
  "language_info": {
   "codemirror_mode": {
    "name": "ipython",
    "version": 3
   },
   "file_extension": ".py",
   "mimetype": "text/x-python",
   "name": "python",
   "nbconvert_exporter": "python",
   "pygments_lexer": "ipython3",
   "version": "3.6.9"
  }
 },
 "nbformat": 4,
 "nbformat_minor": 5
}
