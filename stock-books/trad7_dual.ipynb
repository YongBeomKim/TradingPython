{
 "cells": [
  {
   "cell_type": "markdown",
   "id": "headed-stamp",
   "metadata": {},
   "source": [
    "# **트레이딩 전략과 구현 6장 포트폴리오 이론 | 듀얼 모멘텀 투자**\n",
    "관성 모멘텀 (외부 힘이 작용하지 않는 한 질량중심은 일정한 속도로 움직인다)\n",
    "\n",
    "# **1 모멘텀 현상**\n",
    "손실은 짧게 자르고, 이익은 계속 달리게 한다\n",
    "- **<span style=\"color:orange\">군집행동 (herding)</span>** : 다수 그룹의 행동에 영향을 받음\n",
    "- **<span style=\"color:orange\">정박효과 (anchoring)</span>** : 정보를 처음 받은시점에 지나치에 의존\n",
    "- **<span style=\"color:orange\">확증편향 (comfirmation bias)</span>** : 본인의 믿음과 반대되는 정보는 무시\n",
    "- **<span style=\"color:orange\">처분효과 (disposition effect)</span>** : 수익은 적게 내고, 손실은 길게 가져감\n",
    "## **01 데이터 불러오기**\n",
    "loading the Naver Stock Price Table"
   ]
  }
 ],
 "metadata": {
  "kernelspec": {
   "display_name": "Python 3",
   "language": "python",
   "name": "python3"
  },
  "language_info": {
   "codemirror_mode": {
    "name": "ipython",
    "version": 3
   },
   "file_extension": ".py",
   "mimetype": "text/x-python",
   "name": "python",
   "nbconvert_exporter": "python",
   "pygments_lexer": "ipython3",
   "version": "3.8.5"
  }
 },
 "nbformat": 4,
 "nbformat_minor": 5
}
