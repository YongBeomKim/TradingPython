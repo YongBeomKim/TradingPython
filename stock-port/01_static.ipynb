{
 "cells": [
  {
   "cell_type": "markdown",
   "metadata": {
    "colab_type": "text",
    "id": "GOv-tp6m5Ldt"
   },
   "source": [
    "# **파이썬과 재무관련 실습**\n",
    "**[Markdown Wiki](https://ko.wikipedia.org/wiki/%EC%9C%84%ED%82%A4%EB%B0%B1%EA%B3%BC:TeX_%EB%AC%B8%EB%B2%95)** | **[Markdown Editor](http://www.hostmath.com/)**\n",
    "\n",
    "```r\n",
    "scipy => numpy 1.2 => numpy-financial\n",
    "$ pip install numpy-financial\n",
    "```\n",
    "# **1 현금흐름, 이자율과 시간 가치 계산**\n",
    "## **01 단리 / 복리 이자계산**\n",
    "연 5% 이자를 제공하는 은행에 1천만원을 예금하고 1년후에 인출하기로 하였다. 1년후 받는 금액은?"
   ]
  },
  {
   "cell_type": "code",
   "execution_count": 1,
   "metadata": {
    "colab": {
     "base_uri": "https://localhost:8080/",
     "height": 35
    },
    "colab_type": "code",
    "id": "wat9UktN_4fn",
    "outputId": "f3728ca4-9a63-47cb-e698-598527e21367"
   },
   "outputs": [
    {
     "data": {
      "text/plain": [
       "1050.0"
      ]
     },
     "execution_count": 1,
     "metadata": {},
     "output_type": "execute_result"
    }
   ],
   "source": [
    "cash_original = 1000\n",
    "year = 1\n",
    "rate = 0.05\n",
    "\n",
    "# 단리계산 : 5% (연간)이자율 계산\n",
    "cash_original * ((1 + rate) * year)"
   ]
  },
  {
   "cell_type": "code",
   "execution_count": 2,
   "metadata": {
    "colab": {
     "base_uri": "https://localhost:8080/",
     "height": 35
    },
    "colab_type": "code",
    "id": "mzjNC-hOLD9w",
    "outputId": "613dc63c-15c4-4db4-d9de-d1023dc07be6"
   },
   "outputs": [
    {
     "data": {
      "text/plain": [
       "1051.161897881733"
      ]
     },
     "execution_count": 2,
     "metadata": {},
     "output_type": "execute_result"
    }
   ],
   "source": [
    "# 복리계산 : 5% (연간)이자율을 월 단위 복리계산\n",
    "years = 12\n",
    "cash_original*(1+(rate/years))**years"
   ]
  },
  {
   "cell_type": "code",
   "execution_count": 3,
   "metadata": {},
   "outputs": [
    {
     "data": {
      "text/plain": [
       "1051.2458419272002"
      ]
     },
     "execution_count": 3,
     "metadata": {},
     "output_type": "execute_result"
    }
   ],
   "source": [
    "# 복리계산 : 5% (연간)이자율을 주 단위 복리계산\n",
    "years = 52\n",
    "cash_original*(1+(rate/years))**years"
   ]
  },
  {
   "cell_type": "code",
   "execution_count": 4,
   "metadata": {},
   "outputs": [
    {
     "data": {
      "text/plain": [
       "1051.270948059031"
      ]
     },
     "execution_count": 4,
     "metadata": {},
     "output_type": "execute_result"
    }
   ],
   "source": [
    "# 복리계산 : 5% (연간)이자율을 시간단위 복리계산\n",
    "years = 8860\n",
    "cash_original*(1+(rate/years))**years"
   ]
  },
  {
   "cell_type": "markdown",
   "metadata": {
    "colab_type": "text",
    "id": "GOv-tp6m5Ldt"
   },
   "source": [
    "# **2 NPV 와 IRR**\n",
    "- **<span style=\"color:orange\">미래의 이익을 예상하고 현재 부채를 발생</span>** 하는 경우, **<span style=\"color:orange\">현재 시점에서 타당성을 판단</span>**\n",
    "\n",
    "## **01 순현재가치 NPV (Net Present Value)**\n",
    "- $ NPV = SUM(현금흐름 (1+할인율)^{i}) $\n",
    "$$ NPV = \\sum \\frac{C (현금흐름) }{(1 + rate (할인율))^{i(기간)}} $$"
   ]
  },
  {
   "cell_type": "code",
   "execution_count": 5,
   "metadata": {},
   "outputs": [
    {
     "name": "stdout",
     "output_type": "stream",
     "text": [
      "17516.929512135568\n"
     ]
    }
   ],
   "source": [
    "# 70,000 을 대출하여 사업을 시작한 뒤, 연간 예상 수익을 활용한 가치계산\n",
    "rate = 0.015\n",
    "npv = -70000\n",
    "cashflows = [ 12000 , 15000 , 18000 , 21000 , 26000 ]\n",
    "\n",
    "for i, c in enumerate(cashflows):  \n",
    "    npv = npv + c/(1+rate)**(i+1)\n",
    "print(npv)"
   ]
  },
  {
   "cell_type": "code",
   "execution_count": 6,
   "metadata": {},
   "outputs": [
    {
     "data": {
      "text/plain": [
       "17516.929512135568"
      ]
     },
     "execution_count": 6,
     "metadata": {},
     "output_type": "execute_result"
    }
   ],
   "source": [
    "cashflows = [ -70000, 12000 , 15000 , 18000 , 21000 , 26000 ]\n",
    "import numpy_financial as nf\n",
    "nf.npv(rate, cashflows)"
   ]
  },
  {
   "cell_type": "markdown",
   "metadata": {
    "colab_type": "text",
    "id": "GOv-tp6m5Ldt"
   },
   "source": [
    "## **02 내부수익률 IRR (Internal Rate of Return)**\n",
    "- 수익률 : <span style=\"color:orange\">현재시점</span> 의 가치를 <span style=\"color:orange\">미래 시점의 가치로 환산</span>\n",
    "- 할인율 : 미래시점의 가치를 <span style=\"color:orange\">현재 시점의 가치로 환산</span>\n",
    "- IRR : 현금유입 과 현금유출 의 현재가치가 일치되면 NPV 가 0이 되고, 이때의 할인율 값\n",
    "$$ IRR = NVP = \\sum \\frac{ C_{t} }{ (1 + rate)^{t} } - C_{0} = 0 $$"
   ]
  },
  {
   "cell_type": "code",
   "execution_count": 7,
   "metadata": {
    "colab": {
     "base_uri": "https://localhost:8080/",
     "height": 53
    },
    "colab_type": "code",
    "id": "B_EgBe2dQ2T3",
    "outputId": "fd62e17d-1088-46cf-be1d-a7a93589b24f"
   },
   "outputs": [
    {
     "data": {
      "text/plain": [
       "'NPV 0.00 일때 : IRR 8.7%'"
      ]
     },
     "execution_count": 7,
     "metadata": {},
     "output_type": "execute_result"
    }
   ],
   "source": [
    "cashflows = [ -70000, 12000 , 15000 , 18000 , 21000 , 26000 ]\n",
    "\n",
    "import numpy_financial as nf\n",
    "irr = nf.irr(cashflows) # 내부수익률을 계산\n",
    "\n",
    "# 구한 IRR을 npv의 할인율로 사용하여 NPV 확인 (정확하다면 NPV는 0)\n",
    "npv = nf.npv(irr, cashflows)\n",
    "f'NPV {npv:.2f} 일때 : IRR {irr:.1%}'"
   ]
  },
  {
   "cell_type": "markdown",
   "metadata": {
    "colab_type": "text",
    "id": "GOv-tp6m5Ldt"
   },
   "source": [
    "# **3 수익률**\n",
    "## **01 기간 수익률의 평균, 산술평균과 기하평균**\n",
    "- 산술평균 : 합계를 갯수로 나눈다\n",
    "$$ 산술평균 = \\frac{1}{n}(r_{1} + r_{2} + ... + r_{n-1} + r_{n}) $$\n",
    "- 기하평균 : 전체 곱을 갯수의 제곱근 나눈다\n",
    "$$ 기하평균 = \\sqrt[n]{ (1+r_{1}) + (1+r_{2}) + ... + (1+r_{n-1}) + (1+r_{n})-1)} $$\n",
    "- 가중평균 : 사건별 중요도 및 영향 정도에 해당하는 가중치를 고려한 값"
   ]
  },
  {
   "cell_type": "code",
   "execution_count": 11,
   "metadata": {
    "colab": {
     "base_uri": "https://localhost:8080/",
     "height": 52
    },
    "colab_type": "code",
    "id": "1YVPTxapWtTY",
    "outputId": "e752061b-125e-4c49-fc1b-9b0a3047ead0"
   },
   "outputs": [
    {
     "data": {
      "text/plain": [
       "'Arithmetic`s Mean is 7.00%'"
      ]
     },
     "execution_count": 11,
     "metadata": {},
     "output_type": "execute_result"
    }
   ],
   "source": [
    "# 산술평균\n",
    "returns = [ 0.1, 0.06, 0.05 ]\n",
    "arithmetic_mean = sum(returns) /3\n",
    "f'Arithmetic`s Mean is {arithmetic_mean:.2%}'"
   ]
  },
  {
   "cell_type": "code",
   "execution_count": 9,
   "metadata": {},
   "outputs": [
    {
     "data": {
      "text/plain": [
       "'Geometric Mean is 6.98%'"
      ]
     },
     "execution_count": 9,
     "metadata": {},
     "output_type": "execute_result"
    }
   ],
   "source": [
    "geometric_mean = 1\n",
    "number_count = len(returns)\n",
    "\n",
    "for _ in returns:\n",
    "    geometric_mean = geometric_mean * (1 + _)\n",
    "geometric_mean = geometric_mean ** (1 / number_count) - 1\n",
    "f'Geometric Mean is {geometric_mean:.2%}'"
   ]
  },
  {
   "cell_type": "code",
   "execution_count": 10,
   "metadata": {},
   "outputs": [
    {
     "data": {
      "text/plain": [
       "'Geometric Mean is 6.69%'"
      ]
     },
     "execution_count": 10,
     "metadata": {},
     "output_type": "execute_result"
    }
   ],
   "source": [
    "# 모듈을 활용한 기하평균 계산\n",
    "from statistics import geometric_mean\n",
    "geo_mean = geometric_mean(returns)\n",
    "f'Geometric Mean is {geo_mean:.2%}'"
   ]
  },
  {
   "cell_type": "code",
   "execution_count": 14,
   "metadata": {},
   "outputs": [
    {
     "data": {
      "text/plain": [
       "'Weighted Average Score is 82.1'"
      ]
     },
     "execution_count": 14,
     "metadata": {},
     "output_type": "execute_result"
    }
   ],
   "source": [
    "# 가중평균\n",
    "score = [ 82, 90, 76]\n",
    "weight = [0.2, 0.35, 0.45]\n",
    "weighted_average = sum(s*w  for s, w in zip(score, weight))\n",
    "f\"Weighted Average Score is {weighted_average}\""
   ]
  },
  {
   "cell_type": "markdown",
   "metadata": {
    "colab_type": "text",
    "id": "GOv-tp6m5Ldt"
   },
   "source": [
    "## **02 종목 분산의 지배원리 (Dominance Principle)**\n",
    "- 수익률 : 기대 수익률 활용\n",
    "- 위험 : 수익률의 표준편차와 분산\n",
    "- 둘을 종합하면, 두 포트폴리오 수익률의 표준편차가 작은 케이스\n",
    "- 표준편차가 동일한 경우에는 기대수익률이 큰 포트폴리오를 선택"
   ]
  },
  {
   "cell_type": "markdown",
   "metadata": {
    "colab_type": "text",
    "id": "GOv-tp6m5Ldt"
   },
   "source": [
    "# **4 통계량**\n",
    "## **01 평균과 기댓값**\n",
    "- 기댓값 : 확률 (특정한 사건이 발생할 확률) 이 더해진 평균 값이다\n",
    "\n",
    "$$ E(x) = \\sum{p_{i}}{x_{i}} $$"
   ]
  },
  {
   "cell_type": "code",
   "execution_count": 19,
   "metadata": {},
   "outputs": [
    {
     "data": {
      "text/plain": [
       "'Expected Value is 3.5'"
      ]
     },
     "execution_count": 19,
     "metadata": {},
     "output_type": "execute_result"
    }
   ],
   "source": [
    "case  = [1,2,3,4,5,6] \n",
    "prob = [1/6, 1/6, 1/6, 1/6, 1/6, 1/6]\n",
    "\n",
    "expected_value = sum(c*p for c, p in zip(case, prob))\n",
    "f\"Expected Value is {expected_value}\""
   ]
  }
 ],
 "metadata": {
  "colab": {
   "collapsed_sections": [],
   "include_colab_link": true,
   "name": "1장 파이썬과 재무기초지식.ipynb",
   "provenance": []
  },
  "kernelspec": {
   "display_name": "Python 3",
   "language": "python",
   "name": "python3"
  },
  "language_info": {
   "codemirror_mode": {
    "name": "ipython",
    "version": 3
   },
   "file_extension": ".py",
   "mimetype": "text/x-python",
   "name": "python",
   "nbconvert_exporter": "python",
   "pygments_lexer": "ipython3",
   "version": "3.8.5"
  }
 },
 "nbformat": 4,
 "nbformat_minor": 4
}
