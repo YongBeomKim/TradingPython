{
 "cells": [
  {
   "cell_type": "markdown",
   "id": "horizontal-damage",
   "metadata": {},
   "source": [
    "# 현금보유와 영업이익의 변화가 주된요인\n",
    "$$ p \\times q $$"
   ]
  },
  {
   "cell_type": "code",
   "execution_count": null,
   "id": "proud-garbage",
   "metadata": {},
   "outputs": [],
   "source": []
  },
  {
   "cell_type": "code",
   "execution_count": null,
   "id": "determined-syndicate",
   "metadata": {},
   "outputs": [],
   "source": []
  },
  {
   "cell_type": "code",
   "execution_count": 1,
   "id": "animal-herald",
   "metadata": {},
   "outputs": [],
   "source": [
    "import re"
   ]
  },
  {
   "cell_type": "code",
   "execution_count": 27,
   "id": "written-multiple",
   "metadata": {},
   "outputs": [],
   "source": [
    "tokenizer = re.compile(r'[(^test$)(^join$)]+')\n",
    "tokenizer = re.compile(r'\\b(|test|join)\\b')\n"
   ]
  },
  {
   "cell_type": "code",
   "execution_count": 28,
   "id": "sustainable-individual",
   "metadata": {},
   "outputs": [
    {
     "data": {
      "text/plain": [
       "['', 'join', '']"
      ]
     },
     "execution_count": 28,
     "metadata": {},
     "output_type": "execute_result"
    }
   ],
   "source": [
    "tokenizer.findall('join')"
   ]
  },
  {
   "cell_type": "code",
   "execution_count": null,
   "id": "lonely-monthly",
   "metadata": {},
   "outputs": [],
   "source": []
  }
 ],
 "metadata": {
  "kernelspec": {
   "display_name": "Python 3",
   "language": "python",
   "name": "python3"
  },
  "language_info": {
   "codemirror_mode": {
    "name": "ipython",
    "version": 3
   },
   "file_extension": ".py",
   "mimetype": "text/x-python",
   "name": "python",
   "nbconvert_exporter": "python",
   "pygments_lexer": "ipython3",
   "version": "3.8.5"
  }
 },
 "nbformat": 4,
 "nbformat_minor": 5
}
