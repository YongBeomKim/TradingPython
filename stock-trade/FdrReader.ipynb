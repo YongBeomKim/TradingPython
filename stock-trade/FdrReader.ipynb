{
 "cells": [
  {
   "cell_type": "markdown",
   "id": "exterior-buffer",
   "metadata": {},
   "source": [
    "# **Data Crawling**\n",
    "Finance Data Reader 사용법\n",
    "```\n",
    "'S&P500', 'NASDAQ', 'NYSE', 'AMEX', 'SSE', 'SZSE', 'HKEX', 'TSE', 'HOSE', \n",
    "'ETF/KR', 'KRX', 'KOSPI', 'KOSDAQ', 'KONEX','KRX-DELISTING', 'KRX-MARCAP'\n",
    "'KRX-ADMINISTRATIVE'\n",
    "```"
   ]
  },
  {
   "cell_type": "code",
   "execution_count": 22,
   "id": "white-mexican",
   "metadata": {},
   "outputs": [
    {
     "data": {
      "text/plain": [
       "<AxesSubplot:xlabel='Date'>"
      ]
     },
     "execution_count": 22,
     "metadata": {},
     "output_type": "execute_result"
    },
    {
     "data": {
      "image/png": "[encoded data removed]",
      "text/plain": [
       "<Figure size 432x288 with 1 Axes>"
      ]
     },
     "metadata": {
      "needs_background": "light"
     },
     "output_type": "display_data"
    }
   ],
   "source": [
    "%matplotlib inline\n",
    "fdr.DataReader('US500', '2020').Close.plot()\n",
    "fdr.DataReader('IXIC', '2020').Close.plot()"
   ]
  },
  {
   "cell_type": "code",
   "execution_count": 3,
   "id": "steady-relevance",
   "metadata": {},
   "outputs": [
    {
     "data": {
      "text/html": [
       "<div>\n",
       "<style scoped>\n",
       "    .dataframe tbody tr th:only-of-type {\n",
       "        vertical-align: middle;\n",
       "    }\n",
       "\n",
       "    .dataframe tbody tr th {\n",
       "        vertical-align: top;\n",
       "    }\n",
       "\n",
       "    .dataframe thead th {\n",
       "        text-align: right;\n",
       "    }\n",
       "</style>\n",
       "<table border=\"1\" class=\"dataframe\">\n",
       "  <thead>\n",
       "    <tr style=\"text-align: right;\">\n",
       "      <th></th>\n",
       "      <th>Symbol</th>\n",
       "      <th>Market</th>\n",
       "      <th>Name</th>\n",
       "      <th>Sector</th>\n",
       "      <th>Industry</th>\n",
       "      <th>ListingDate</th>\n",
       "      <th>SettleMonth</th>\n",
       "      <th>Representative</th>\n",
       "      <th>HomePage</th>\n",
       "      <th>Region</th>\n",
       "    </tr>\n",
       "  </thead>\n",
       "  <tbody>\n",
       "    <tr>\n",
       "      <th>7293</th>\n",
       "      <td>003280</td>\n",
       "      <td>KOSPI</td>\n",
       "      <td>흥아해운</td>\n",
       "      <td>해상 운송업</td>\n",
       "      <td>외항화물운송업(케미컬탱커)</td>\n",
       "      <td>1976-06-29</td>\n",
       "      <td>12월</td>\n",
       "      <td>이환구</td>\n",
       "      <td>http://www.heung-a.com</td>\n",
       "      <td>서울특별시</td>\n",
       "    </tr>\n",
       "    <tr>\n",
       "      <th>7294</th>\n",
       "      <td>037440</td>\n",
       "      <td>KOSDAQ</td>\n",
       "      <td>희림</td>\n",
       "      <td>건축기술, 엔지니어링 및 관련 기술 서비스업</td>\n",
       "      <td>설계 및 감리용역</td>\n",
       "      <td>2000-02-03</td>\n",
       "      <td>12월</td>\n",
       "      <td>정영균, 이목운, 허철호 (각자대표)</td>\n",
       "      <td>http://www.heerim.com</td>\n",
       "      <td>서울특별시</td>\n",
       "    </tr>\n",
       "    <tr>\n",
       "      <th>7295</th>\n",
       "      <td>238490</td>\n",
       "      <td>KOSDAQ</td>\n",
       "      <td>힘스</td>\n",
       "      <td>특수 목적용 기계 제조업</td>\n",
       "      <td>OLED Mask 인장기, OLED Mask 검사기 등</td>\n",
       "      <td>2017-07-20</td>\n",
       "      <td>12월</td>\n",
       "      <td>김주환</td>\n",
       "      <td>http://www.hims.co.kr</td>\n",
       "      <td>인천광역시</td>\n",
       "    </tr>\n",
       "  </tbody>\n",
       "</table>\n",
       "</div>"
      ],
      "text/plain": [
       "      Symbol  Market  Name                    Sector  \\\n",
       "7293  003280   KOSPI  흥아해운                    해상 운송업   \n",
       "7294  037440  KOSDAQ    희림  건축기술, 엔지니어링 및 관련 기술 서비스업   \n",
       "7295  238490  KOSDAQ    힘스             특수 목적용 기계 제조업   \n",
       "\n",
       "                            Industry ListingDate SettleMonth  \\\n",
       "7293                  외항화물운송업(케미컬탱커)  1976-06-29         12월   \n",
       "7294                       설계 및 감리용역  2000-02-03         12월   \n",
       "7295  OLED Mask 인장기, OLED Mask 검사기 등  2017-07-20         12월   \n",
       "\n",
       "            Representative                HomePage Region  \n",
       "7293                   이환구  http://www.heung-a.com  서울특별시  \n",
       "7294  정영균, 이목운, 허철호 (각자대표)   http://www.heerim.com  서울특별시  \n",
       "7295                   김주환   http://www.hims.co.kr  인천광역시  "
      ]
     },
     "execution_count": 3,
     "metadata": {},
     "output_type": "execute_result"
    }
   ],
   "source": [
    "import FinanceDataReader as fdr\n",
    "df_krx_infos = fdr.StockListing('KRX')\n",
    "df_krx_infos.tail(3)"
   ]
  },
  {
   "cell_type": "code",
   "execution_count": 9,
   "id": "regular-holly",
   "metadata": {},
   "outputs": [
    {
     "name": "stderr",
     "output_type": "stream",
     "text": [
      "100%|██████████| 293/293 [00:00<00:00, 765.09it/s]\n"
     ]
    },
    {
     "data": {
      "text/html": [
       "<div>\n",
       "<style scoped>\n",
       "    .dataframe tbody tr th:only-of-type {\n",
       "        vertical-align: middle;\n",
       "    }\n",
       "\n",
       "    .dataframe tbody tr th {\n",
       "        vertical-align: top;\n",
       "    }\n",
       "\n",
       "    .dataframe thead th {\n",
       "        text-align: right;\n",
       "    }\n",
       "</style>\n",
       "<table border=\"1\" class=\"dataframe\">\n",
       "  <thead>\n",
       "    <tr style=\"text-align: right;\">\n",
       "      <th></th>\n",
       "      <th>Symbol</th>\n",
       "      <th>Name</th>\n",
       "      <th>Industry</th>\n",
       "      <th>IndustryCode</th>\n",
       "    </tr>\n",
       "  </thead>\n",
       "  <tbody>\n",
       "    <tr>\n",
       "      <th>0</th>\n",
       "      <td>CQP</td>\n",
       "      <td>Cheniere Energy Partners LP Unit</td>\n",
       "      <td>오일 및 가스 장비 및 서비스</td>\n",
       "      <td>501030</td>\n",
       "    </tr>\n",
       "    <tr>\n",
       "      <th>1</th>\n",
       "      <td>GGO PR A</td>\n",
       "      <td>Gabelli Go Anywhere Trust PRF</td>\n",
       "      <td>다양한 금융서비스</td>\n",
       "      <td>555010</td>\n",
       "    </tr>\n",
       "    <tr>\n",
       "      <th>2</th>\n",
       "      <td>LNG</td>\n",
       "      <td>Cheniere Energy Inc</td>\n",
       "      <td>오일 및 가스 장비 및 서비스</td>\n",
       "      <td>501030</td>\n",
       "    </tr>\n",
       "    <tr>\n",
       "      <th>3</th>\n",
       "      <td>IMO</td>\n",
       "      <td>Imperial Oil Ltd</td>\n",
       "      <td>오일 및 가스</td>\n",
       "      <td>501020</td>\n",
       "    </tr>\n",
       "    <tr>\n",
       "      <th>4</th>\n",
       "      <td>CBOE</td>\n",
       "      <td>Cboe Global Markets Inc</td>\n",
       "      <td>투자은행 및 서비스</td>\n",
       "      <td>551020</td>\n",
       "    </tr>\n",
       "    <tr>\n",
       "      <th>...</th>\n",
       "      <td>...</td>\n",
       "      <td>...</td>\n",
       "      <td>...</td>\n",
       "      <td>...</td>\n",
       "    </tr>\n",
       "    <tr>\n",
       "      <th>288</th>\n",
       "      <td>BTX</td>\n",
       "      <td>Brooklyn Immunotherapeutics Inc</td>\n",
       "      <td>생명과학 및 메디컬 리서치</td>\n",
       "      <td>562020</td>\n",
       "    </tr>\n",
       "    <tr>\n",
       "      <th>289</th>\n",
       "      <td>ACY</td>\n",
       "      <td>AeroCentury Corp</td>\n",
       "      <td>은행</td>\n",
       "      <td>551010</td>\n",
       "    </tr>\n",
       "    <tr>\n",
       "      <th>290</th>\n",
       "      <td>PW PR A</td>\n",
       "      <td>Power REIT PRF</td>\n",
       "      <td>주택 및 상업용 리츠</td>\n",
       "      <td>601020</td>\n",
       "    </tr>\n",
       "    <tr>\n",
       "      <th>291</th>\n",
       "      <td>IPB</td>\n",
       "      <td>Merrill LYNCH Depositor Inc Indexplus Trust Se...</td>\n",
       "      <td>은행</td>\n",
       "      <td>551010</td>\n",
       "    </tr>\n",
       "    <tr>\n",
       "      <th>292</th>\n",
       "      <td>VHAQ RT</td>\n",
       "      <td>Viveon Health Acquisition Corp</td>\n",
       "      <td>기타 금융업</td>\n",
       "      <td>556010</td>\n",
       "    </tr>\n",
       "  </tbody>\n",
       "</table>\n",
       "<p>293 rows × 4 columns</p>\n",
       "</div>"
      ],
      "text/plain": [
       "       Symbol                                               Name  \\\n",
       "0         CQP                   Cheniere Energy Partners LP Unit   \n",
       "1    GGO PR A                      Gabelli Go Anywhere Trust PRF   \n",
       "2         LNG                                Cheniere Energy Inc   \n",
       "3         IMO                                   Imperial Oil Ltd   \n",
       "4        CBOE                            Cboe Global Markets Inc   \n",
       "..        ...                                                ...   \n",
       "288       BTX                    Brooklyn Immunotherapeutics Inc   \n",
       "289       ACY                                   AeroCentury Corp   \n",
       "290   PW PR A                                     Power REIT PRF   \n",
       "291       IPB  Merrill LYNCH Depositor Inc Indexplus Trust Se...   \n",
       "292   VHAQ RT                     Viveon Health Acquisition Corp   \n",
       "\n",
       "             Industry IndustryCode  \n",
       "0    오일 및 가스 장비 및 서비스       501030  \n",
       "1           다양한 금융서비스       555010  \n",
       "2    오일 및 가스 장비 및 서비스       501030  \n",
       "3             오일 및 가스       501020  \n",
       "4          투자은행 및 서비스       551020  \n",
       "..                ...          ...  \n",
       "288    생명과학 및 메디컬 리서치       562020  \n",
       "289                은행       551010  \n",
       "290       주택 및 상업용 리츠       601020  \n",
       "291                은행       551010  \n",
       "292            기타 금융업       556010  \n",
       "\n",
       "[293 rows x 4 columns]"
      ]
     },
     "execution_count": 9,
     "metadata": {},
     "output_type": "execute_result"
    }
   ],
   "source": [
    "fdr.StockListing('AMEX')"
   ]
  },
  {
   "cell_type": "code",
   "execution_count": 6,
   "id": "weighted-mistress",
   "metadata": {},
   "outputs": [
    {
     "data": {
      "text/html": [
       "<div>\n",
       "<style scoped>\n",
       "    .dataframe tbody tr th:only-of-type {\n",
       "        vertical-align: middle;\n",
       "    }\n",
       "\n",
       "    .dataframe tbody tr th {\n",
       "        vertical-align: top;\n",
       "    }\n",
       "\n",
       "    .dataframe thead th {\n",
       "        text-align: right;\n",
       "    }\n",
       "</style>\n",
       "<table border=\"1\" class=\"dataframe\">\n",
       "  <thead>\n",
       "    <tr style=\"text-align: right;\">\n",
       "      <th></th>\n",
       "      <th>Symbol</th>\n",
       "      <th>Name</th>\n",
       "    </tr>\n",
       "  </thead>\n",
       "  <tbody>\n",
       "    <tr>\n",
       "      <th>0</th>\n",
       "      <td>069500</td>\n",
       "      <td>KODEX 200</td>\n",
       "    </tr>\n",
       "    <tr>\n",
       "      <th>1</th>\n",
       "      <td>102110</td>\n",
       "      <td>TIGER 200</td>\n",
       "    </tr>\n",
       "    <tr>\n",
       "      <th>2</th>\n",
       "      <td>252670</td>\n",
       "      <td>KODEX 200선물인버스2X</td>\n",
       "    </tr>\n",
       "    <tr>\n",
       "      <th>3</th>\n",
       "      <td>153130</td>\n",
       "      <td>KODEX 단기채권</td>\n",
       "    </tr>\n",
       "    <tr>\n",
       "      <th>4</th>\n",
       "      <td>102780</td>\n",
       "      <td>KODEX 삼성그룹</td>\n",
       "    </tr>\n",
       "    <tr>\n",
       "      <th>...</th>\n",
       "      <td>...</td>\n",
       "      <td>...</td>\n",
       "    </tr>\n",
       "    <tr>\n",
       "      <th>465</th>\n",
       "      <td>287300</td>\n",
       "      <td>KBSTAR 200건설</td>\n",
       "    </tr>\n",
       "    <tr>\n",
       "      <th>466</th>\n",
       "      <td>267500</td>\n",
       "      <td>KBSTAR 미국장기국채선물인버스2X(합성 H)</td>\n",
       "    </tr>\n",
       "    <tr>\n",
       "      <th>467</th>\n",
       "      <td>285020</td>\n",
       "      <td>KBSTAR 200철강소재</td>\n",
       "    </tr>\n",
       "    <tr>\n",
       "      <th>468</th>\n",
       "      <td>334700</td>\n",
       "      <td>KBSTAR 팔라듐선물인버스(H)</td>\n",
       "    </tr>\n",
       "    <tr>\n",
       "      <th>469</th>\n",
       "      <td>287320</td>\n",
       "      <td>KBSTAR 200산업재</td>\n",
       "    </tr>\n",
       "  </tbody>\n",
       "</table>\n",
       "<p>470 rows × 2 columns</p>\n",
       "</div>"
      ],
      "text/plain": [
       "     Symbol                        Name\n",
       "0    069500                   KODEX 200\n",
       "1    102110                   TIGER 200\n",
       "2    252670            KODEX 200선물인버스2X\n",
       "3    153130                  KODEX 단기채권\n",
       "4    102780                  KODEX 삼성그룹\n",
       "..      ...                         ...\n",
       "465  287300                KBSTAR 200건설\n",
       "466  267500  KBSTAR 미국장기국채선물인버스2X(합성 H)\n",
       "467  285020              KBSTAR 200철강소재\n",
       "468  334700          KBSTAR 팔라듐선물인버스(H)\n",
       "469  287320               KBSTAR 200산업재\n",
       "\n",
       "[470 rows x 2 columns]"
      ]
     },
     "execution_count": 6,
     "metadata": {},
     "output_type": "execute_result"
    }
   ],
   "source": [
    "fdr.StockListing('ETF/KR')"
   ]
  },
  {
   "cell_type": "code",
   "execution_count": 12,
   "id": "demonstrated-bulletin",
   "metadata": {},
   "outputs": [
    {
     "ename": "TypeError",
     "evalue": "'module' object is not callable",
     "output_type": "error",
     "traceback": [
      "\u001b[0;31m---------------------------------------------------------------------------\u001b[0m",
      "\u001b[0;31mTypeError\u001b[0m                                 Traceback (most recent call last)",
      "\u001b[0;32m<ipython-input-12-e61e56822668>\u001b[0m in \u001b[0;36m<module>\u001b[0;34m\u001b[0m\n\u001b[0;32m----> 1\u001b[0;31m \u001b[0mfdr\u001b[0m\u001b[0;34m.\u001b[0m\u001b[0minvesting\u001b[0m\u001b[0;34m.\u001b[0m\u001b[0mlisting\u001b[0m\u001b[0;34m(\u001b[0m\u001b[0;34m'ko'\u001b[0m\u001b[0;34m)\u001b[0m\u001b[0;34m\u001b[0m\u001b[0;34m\u001b[0m\u001b[0m\n\u001b[0m",
      "\u001b[0;31mTypeError\u001b[0m: 'module' object is not callable"
     ]
    }
   ],
   "source": [
    "fdr.investing.listing('ko')"
   ]
  },
  {
   "cell_type": "code",
   "execution_count": 15,
   "id": "talented-hungarian",
   "metadata": {},
   "outputs": [
    {
     "ename": "ValueError",
     "evalue": "country unsupported. support countries:['US', 'CN', 'HK', 'JP', 'UK', 'FR']",
     "output_type": "error",
     "traceback": [
      "\u001b[0;31m---------------------------------------------------------------------------\u001b[0m",
      "\u001b[0;31mValueError\u001b[0m                                Traceback (most recent call last)",
      "\u001b[0;32m<ipython-input-15-45068095b43c>\u001b[0m in \u001b[0;36m<module>\u001b[0;34m\u001b[0m\n\u001b[0;32m----> 1\u001b[0;31m \u001b[0mfdr\u001b[0m\u001b[0;34m.\u001b[0m\u001b[0minvesting\u001b[0m\u001b[0;34m.\u001b[0m\u001b[0mlisting\u001b[0m\u001b[0;34m.\u001b[0m\u001b[0mInvestingEtfListing\u001b[0m\u001b[0;34m(\u001b[0m\u001b[0;34m'ko'\u001b[0m\u001b[0;34m)\u001b[0m\u001b[0;34m.\u001b[0m\u001b[0mread\u001b[0m\u001b[0;34m(\u001b[0m\u001b[0;34m)\u001b[0m\u001b[0;34m\u001b[0m\u001b[0;34m\u001b[0m\u001b[0m\n\u001b[0m",
      "\u001b[0;32m~/Coding/Python/Pytorch/lib/python3.8/site-packages/FinanceDataReader/investing/listing.py\u001b[0m in \u001b[0;36mread\u001b[0;34m(self)\u001b[0m\n\u001b[1;32m     17\u001b[0m         \u001b[0;32mif\u001b[0m \u001b[0mself\u001b[0m\u001b[0;34m.\u001b[0m\u001b[0mcountry\u001b[0m \u001b[0;32mnot\u001b[0m \u001b[0;32min\u001b[0m \u001b[0mcountry_map\u001b[0m\u001b[0;34m.\u001b[0m\u001b[0mkeys\u001b[0m\u001b[0;34m(\u001b[0m\u001b[0;34m)\u001b[0m\u001b[0;34m:\u001b[0m\u001b[0;34m\u001b[0m\u001b[0;34m\u001b[0m\u001b[0m\n\u001b[1;32m     18\u001b[0m             \u001b[0mmsg\u001b[0m \u001b[0;34m=\u001b[0m \u001b[0;34m\"country unsupported. support countries:\"\u001b[0m \u001b[0;34m+\u001b[0m \u001b[0mstr\u001b[0m\u001b[0;34m(\u001b[0m\u001b[0mlist\u001b[0m\u001b[0;34m(\u001b[0m\u001b[0mcountry_map\u001b[0m\u001b[0;34m.\u001b[0m\u001b[0mkeys\u001b[0m\u001b[0;34m(\u001b[0m\u001b[0;34m)\u001b[0m\u001b[0;34m)\u001b[0m\u001b[0;34m)\u001b[0m\u001b[0;34m\u001b[0m\u001b[0;34m\u001b[0m\u001b[0m\n\u001b[0;32m---> 19\u001b[0;31m             \u001b[0;32mraise\u001b[0m \u001b[0mValueError\u001b[0m\u001b[0;34m(\u001b[0m\u001b[0mmsg\u001b[0m\u001b[0;34m)\u001b[0m\u001b[0;34m\u001b[0m\u001b[0;34m\u001b[0m\u001b[0m\n\u001b[0m\u001b[1;32m     20\u001b[0m \u001b[0;34m\u001b[0m\u001b[0m\n\u001b[1;32m     21\u001b[0m         \u001b[0mheaders\u001b[0m \u001b[0;34m=\u001b[0m \u001b[0;34m{\u001b[0m \u001b[0;34m'User-Agent'\u001b[0m\u001b[0;34m:\u001b[0m\u001b[0;34m'Mozilla'\u001b[0m\u001b[0;34m,\u001b[0m \u001b[0;34m}\u001b[0m\u001b[0;34m\u001b[0m\u001b[0;34m\u001b[0m\u001b[0m\n",
      "\u001b[0;31mValueError\u001b[0m: country unsupported. support countries:['US', 'CN', 'HK', 'JP', 'UK', 'FR']"
     ]
    }
   ],
   "source": [
    "fdr.investing.listing.InvestingEtfListing('ko').read()"
   ]
  },
  {
   "cell_type": "code",
   "execution_count": null,
   "id": "german-pakistan",
   "metadata": {},
   "outputs": [],
   "source": []
  }
 ],
 "metadata": {
  "kernelspec": {
   "display_name": "Python 3",
   "language": "python",
   "name": "python3"
  },
  "language_info": {
   "codemirror_mode": {
    "name": "ipython",
    "version": 3
   },
   "file_extension": ".py",
   "mimetype": "text/x-python",
   "name": "python",
   "nbconvert_exporter": "python",
   "pygments_lexer": "ipython3",
   "version": "3.8.5"
  }
 },
 "nbformat": 4,
 "nbformat_minor": 5
}
