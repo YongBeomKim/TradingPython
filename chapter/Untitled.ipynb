{
 "cells": [
  {
   "cell_type": "code",
   "execution_count": null,
   "id": "exempt-voltage",
   "metadata": {},
   "outputs": [],
   "source": [
    "data_df['MA20'] = data_df['close'].rolling(window=20).mean() \n",
    "data_df['stddev'] = data_df['close'].rolling(window=20).std() \n",
    "data_df['upper'] = data_df['MA20'] + (data_df['stddev'] * 2)\n",
    "data_df['lower'] = data_df['MA20'] - (data_df['stddev'] * 2)\n",
    "data_df['PB'] = (data_df['close'] - data_df['lower']) / (data_df['upper'] - data_df['lower'])\n",
    "\n",
    "data_df['II'] = (2*data_df['close']-data_df['high']-data_df['low'])\n",
    "    /(data_df['high']-data_df['low'])*data_df['volume']  # ①\n",
    "data_df['IIP21'] = data_df['II'].rolling(window=21).sum()\n",
    "    /data_df['volume'].rolling(window=21).sum()*100  # ②\n",
    "data_df = data_df.dropna()\n",
    "\n",
    "plt.figure(figsize=(9, 9))\n",
    "plt.subplot(3, 1, 1)\n",
    "plt.title('SK Hynix Bollinger Band(20 day, 2 std) - Reversals')\n",
    "plt.plot(data_df.index, data_df['close'], 'b', label='Close')\n",
    "plt.plot(data_df.index, data_df['upper'], 'r--', label ='Upper band')\n",
    "plt.plot(data_df.index, data_df['MA20'], 'k--', label='Moving average 20')\n",
    "plt.plot(data_df.index, data_df['lower'], 'c--', label ='Lower band')\n",
    "plt.fill_between(data_df.index, data_df['upper'], data_df['lower'], color='0.9')\n",
    "\n",
    "plt.legend(loc='best')\n",
    "plt.subplot(3, 1, 2)\n",
    "plt.plot(data_df.index, data_df['PB'], 'b', label='%b')\n",
    "plt.grid(True)\n",
    "plt.legend(loc='best')\n",
    "\n",
    "plt.subplot(3, 1, 3)  # ③\n",
    "plt.bar(data_df.index, data_df['IIP21'], color='g', label='II% 21day')  # ④\n",
    "plt.grid(True)\n",
    "plt.legend(loc='best')\n",
    "plt.show()"
   ]
  }
 ],
 "metadata": {
  "kernelspec": {
   "display_name": "Python 3",
   "language": "python",
   "name": "python3"
  },
  "language_info": {
   "codemirror_mode": {
    "name": "ipython",
    "version": 3
   },
   "file_extension": ".py",
   "mimetype": "text/x-python",
   "name": "python",
   "nbconvert_exporter": "python",
   "pygments_lexer": "ipython3",
   "version": "3.8.5"
  }
 },
 "nbformat": 4,
 "nbformat_minor": 5
}
