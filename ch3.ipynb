{
 "cells": [
  {
   "cell_type": "markdown",
   "id": "short-context",
   "metadata": {},
   "source": [
    "# **Chapter 3 주요 투자전략**\n",
    "## **1 Buy & Hold 전략**\n",
    "주요 종목을 장기 보유하는 투자전략"
   ]
  },
  {
   "cell_type": "code",
   "execution_count": 1,
   "id": "owned-possible",
   "metadata": {},
   "outputs": [
    {
     "ename": "ModuleNotFoundError",
     "evalue": "No module named 'data'",
     "output_type": "error",
     "traceback": [
      "\u001b[0;31m---------------------------------------------------------------------------\u001b[0m",
      "\u001b[0;31mModuleNotFoundError\u001b[0m                       Traceback (most recent call last)",
      "\u001b[0;32m<ipython-input-1-28e11de49e3c>\u001b[0m in \u001b[0;36m<module>\u001b[0;34m\u001b[0m\n\u001b[0;32m----> 1\u001b[0;31m \u001b[0;32mfrom\u001b[0m \u001b[0mdata\u001b[0m\u001b[0;34m.\u001b[0m\u001b[0mfinance\u001b[0m \u001b[0;32mimport\u001b[0m \u001b[0mStockCSV\u001b[0m\u001b[0;34m\u001b[0m\u001b[0;34m\u001b[0m\u001b[0m\n\u001b[0m",
      "\u001b[0;31mModuleNotFoundError\u001b[0m: No module named 'data'"
     ]
    }
   ],
   "source": [
    "from data.finance import StockCSV"
   ]
  },
  {
   "cell_type": "code",
   "execution_count": 3,
   "id": "molecular-stake",
   "metadata": {},
   "outputs": [
    {
     "ename": "ModuleNotFoundError",
     "evalue": "No module named 'data'",
     "output_type": "error",
     "traceback": [
      "\u001b[0;31m---------------------------------------------------------------------------\u001b[0m",
      "\u001b[0;31mModuleNotFoundError\u001b[0m                       Traceback (most recent call last)",
      "\u001b[0;32m<ipython-input-3-28e11de49e3c>\u001b[0m in \u001b[0;36m<module>\u001b[0;34m\u001b[0m\n\u001b[0;32m----> 1\u001b[0;31m \u001b[0;32mfrom\u001b[0m \u001b[0mdata\u001b[0m\u001b[0;34m.\u001b[0m\u001b[0mfinance\u001b[0m \u001b[0;32mimport\u001b[0m \u001b[0mStockCSV\u001b[0m\u001b[0;34m\u001b[0m\u001b[0;34m\u001b[0m\u001b[0m\n\u001b[0m",
      "\u001b[0;31mModuleNotFoundError\u001b[0m: No module named 'data'"
     ]
    }
   ],
   "source": [
    "from data.finance import StockCSV"
   ]
  },
  {
   "cell_type": "code",
   "execution_count": null,
   "id": "artificial-command",
   "metadata": {},
   "outputs": [],
   "source": []
  },
  {
   "cell_type": "code",
   "execution_count": null,
   "id": "general-seattle",
   "metadata": {},
   "outputs": [],
   "source": []
  },
  {
   "cell_type": "code",
   "execution_count": 1,
   "id": "stopped-married",
   "metadata": {},
   "outputs": [],
   "source": [
    "from data.finance import StockCSV"
   ]
  },
  {
   "cell_type": "code",
   "execution_count": 2,
   "id": "median-montana",
   "metadata": {},
   "outputs": [],
   "source": [
    "stockCsv = StockCSV()"
   ]
  },
  {
   "cell_type": "code",
   "execution_count": null,
   "id": "fifteen-slope",
   "metadata": {},
   "outputs": [],
   "source": [
    "stockCsv.finance('S&P500', '2010-01-01', )"
   ]
  },
  {
   "cell_type": "code",
   "execution_count": 5,
   "id": "saving-excuse",
   "metadata": {},
   "outputs": [],
   "source": [
    "from datetime import date"
   ]
  },
  {
   "cell_type": "code",
   "execution_count": 7,
   "id": "coordinate-pride",
   "metadata": {},
   "outputs": [
    {
     "data": {
      "text/plain": [
       "'2021-04-08'"
      ]
     },
     "execution_count": 7,
     "metadata": {},
     "output_type": "execute_result"
    }
   ],
   "source": []
  },
  {
   "cell_type": "code",
   "execution_count": null,
   "id": "right-sydney",
   "metadata": {},
   "outputs": [],
   "source": [
    "from "
   ]
  },
  {
   "cell_type": "code",
   "execution_count": 4,
   "id": "verbal-warning",
   "metadata": {},
   "outputs": [],
   "source": [
    "import yfinance as yf"
   ]
  },
  {
   "cell_type": "code",
   "execution_count": null,
   "id": "surprising-computer",
   "metadata": {},
   "outputs": [],
   "source": [
    "yf"
   ]
  },
  {
   "cell_type": "code",
   "execution_count": null,
   "id": "atomic-trail",
   "metadata": {},
   "outputs": [],
   "source": []
  },
  {
   "cell_type": "code",
   "execution_count": null,
   "id": "latest-contrast",
   "metadata": {},
   "outputs": [],
   "source": []
  },
  {
   "cell_type": "code",
   "execution_count": 3,
   "id": "planned-check",
   "metadata": {},
   "outputs": [
    {
     "name": "stderr",
     "output_type": "stream",
     "text": [
      "Exception in thread Thread-4:\n",
      "Traceback (most recent call last):\n",
      "  File \"/usr/lib/python3.8/threading.py\", line 932, in _bootstrap_inner\n",
      "    self.run()\n",
      "  File \"/usr/lib/python3.8/threading.py\", line 870, in run\n",
      "    self._target(*self._args, **self._kwargs)\n",
      "  File \"/home/buffet/Coding/Python/Pytorch/lib/python3.8/site-packages/multitasking/__init__.py\", line 102, in _run_via_pool\n",
      "    return callee(*args, **kwargs)\n",
      "  File \"/home/buffet/Coding/Python/Pytorch/lib/python3.8/site-packages/yfinance/multi.py\", line 166, in _download_one_threaded\n",
      "    data = _download_one(ticker, start, end, auto_adjust, back_adjust,\n",
      "  File \"/home/buffet/Coding/Python/Pytorch/lib/python3.8/site-packages/yfinance/multi.py\", line 178, in _download_one\n",
      "    return Ticker(ticker).history(period=period, interval=interval,\n",
      "  File \"/home/buffet/Coding/Python/Pytorch/lib/python3.8/site-packages/yfinance/base.py\", line 122, in history\n",
      "    _time.strptime(str(start), '%Y-%m-%d')))\n",
      "  File \"/usr/lib/python3.8/_strptime.py\", line 562, in _strptime_time\n",
      "    tt = _strptime(data_string, format)[0]\n",
      "  File \"/usr/lib/python3.8/_strptime.py\", line 349, in _strptime\n",
      "    raise ValueError(\"time data %r does not match format %r\" %\n",
      "ValueError: time data '' does not match format '%Y-%m-%d'\n"
     ]
    },
    {
     "ename": "KeyboardInterrupt",
     "evalue": "",
     "output_type": "error",
     "traceback": [
      "\u001b[0;31m---------------------------------------------------------------------------\u001b[0m",
      "\u001b[0;31mKeyboardInterrupt\u001b[0m                         Traceback (most recent call last)",
      "\u001b[0;32m<ipython-input-3-498a3193d9e8>\u001b[0m in \u001b[0;36m<module>\u001b[0;34m\u001b[0m\n\u001b[0;32m----> 1\u001b[0;31m \u001b[0mstockCsv\u001b[0m\u001b[0;34m.\u001b[0m\u001b[0myahoo\u001b[0m\u001b[0;34m(\u001b[0m\u001b[0;34m'S&P500'\u001b[0m\u001b[0;34m)\u001b[0m\u001b[0;34m\u001b[0m\u001b[0;34m\u001b[0m\u001b[0m\n\u001b[0m",
      "\u001b[0;32m~/Coding/Gits/PyTrade/data/finance.py\u001b[0m in \u001b[0;36myahoo\u001b[0;34m(self, code, date_start, date_end, file_name, force_update)\u001b[0m\n\u001b[1;32m    113\u001b[0m         \u001b[0;32melse\u001b[0m\u001b[0;34m:\u001b[0m\u001b[0;34m\u001b[0m\u001b[0;34m\u001b[0m\u001b[0m\n\u001b[1;32m    114\u001b[0m             \u001b[0;32mimport\u001b[0m \u001b[0myfinance\u001b[0m \u001b[0;32mas\u001b[0m \u001b[0myf\u001b[0m\u001b[0;34m\u001b[0m\u001b[0;34m\u001b[0m\u001b[0m\n\u001b[0;32m--> 115\u001b[0;31m             data = yf.download(code, start=date_start, end=date_end,\n\u001b[0m\u001b[1;32m    116\u001b[0m                 progress=False, auto_adjust=True) #.reset_index()\n\u001b[1;32m    117\u001b[0m         \u001b[0;32mreturn\u001b[0m \u001b[0mdata\u001b[0m\u001b[0;34m\u001b[0m\u001b[0;34m\u001b[0m\u001b[0m\n",
      "\u001b[0;32m~/Coding/Python/Pytorch/lib/python3.8/site-packages/yfinance/multi.py\u001b[0m in \u001b[0;36mdownload\u001b[0;34m(tickers, start, end, actions, threads, group_by, auto_adjust, back_adjust, progress, period, interval, prepost, proxy, rounding, **kwargs)\u001b[0m\n\u001b[1;32m     93\u001b[0m                                    rounding=rounding)\n\u001b[1;32m     94\u001b[0m         \u001b[0;32mwhile\u001b[0m \u001b[0mlen\u001b[0m\u001b[0;34m(\u001b[0m\u001b[0mshared\u001b[0m\u001b[0;34m.\u001b[0m\u001b[0m_DFS\u001b[0m\u001b[0;34m)\u001b[0m \u001b[0;34m<\u001b[0m \u001b[0mlen\u001b[0m\u001b[0;34m(\u001b[0m\u001b[0mtickers\u001b[0m\u001b[0;34m)\u001b[0m\u001b[0;34m:\u001b[0m\u001b[0;34m\u001b[0m\u001b[0;34m\u001b[0m\u001b[0m\n\u001b[0;32m---> 95\u001b[0;31m             \u001b[0m_time\u001b[0m\u001b[0;34m.\u001b[0m\u001b[0msleep\u001b[0m\u001b[0;34m(\u001b[0m\u001b[0;36m0.01\u001b[0m\u001b[0;34m)\u001b[0m\u001b[0;34m\u001b[0m\u001b[0;34m\u001b[0m\u001b[0m\n\u001b[0m\u001b[1;32m     96\u001b[0m \u001b[0;34m\u001b[0m\u001b[0m\n\u001b[1;32m     97\u001b[0m     \u001b[0;31m# download synchronously\u001b[0m\u001b[0;34m\u001b[0m\u001b[0;34m\u001b[0m\u001b[0;34m\u001b[0m\u001b[0m\n",
      "\u001b[0;31mKeyboardInterrupt\u001b[0m: "
     ]
    }
   ],
   "source": [
    "stockCsv.yahoo()"
   ]
  },
  {
   "cell_type": "code",
   "execution_count": null,
   "id": "parliamentary-liability",
   "metadata": {},
   "outputs": [],
   "source": []
  }
 ],
 "metadata": {
  "kernelspec": {
   "display_name": "Python 3",
   "language": "python",
   "name": "python3"
  },
  "language_info": {
   "codemirror_mode": {
    "name": "ipython",
    "version": 3
   },
   "file_extension": ".py",
   "mimetype": "text/x-python",
   "name": "python",
   "nbconvert_exporter": "python",
   "pygments_lexer": "ipython3",
   "version": "3.8.5"
  }
 },
 "nbformat": 4,
 "nbformat_minor": 5
}
